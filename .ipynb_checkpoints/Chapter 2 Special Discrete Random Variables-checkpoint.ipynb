{
  "nbformat": 4,
  "nbformat_minor": 0,
  "metadata": {
    "colab": {
      "name": "Chapter 2: Special Discrete Random Variables.ipynb",
      "provenance": [],
      "collapsed_sections": [
        "WJhmgDxsVHEO",
        "5z2nOmnTrKxu",
        "c1_c9ACB5Q_j",
        "eAUshqfZd-_d",
        "XMMnBa5iJUpD",
        "Bl35Ww-5HNtN",
        "dtrIR0AZhZla",
        "tDQwSzWJeoz2"
      ]
    },
    "kernelspec": {
      "name": "python3",
      "display_name": "Python 3"
    },
    "language_info": {
      "name": "python"
    }
  },
  "cells": [
    {
      "cell_type": "markdown",
      "source": [
        "# **`Chapter 2: Special Discrete Random Variables`**"
      ],
      "metadata": {
        "id": "HpRtgWwprG72"
      }
    },
    {
      "cell_type": "markdown",
      "source": [
        "**Table of Content:**\n",
        "\n",
        "- [Import Libraries](#Import_Libraries)\n",
        "- [2.1. Bernoulli Distribution](#Bernoulli_Distribution)\n",
        "- [2.2. Binomial Distribution](#Binomial_Distribution)\n",
        "- [2.3. Negative Binomial (Pascal) Distribution](#Negative_Binomial_Distribution)\n",
        "- [2.4. Geometric Distribution](#Geometric_Distribution)\n",
        "- [2.5. Poisson Distribution](#Poisson_Distribution)\n",
        "- [2.6. Discrete Uniform Distribution](#Discrete_Uniform_Distribution)\n",
        "- [2.7. Hypergeometric Distribution](#Hypergeometric_Distribution)"
      ],
      "metadata": {
        "id": "DHZIzu1stgEF"
      }
    },
    {
      "cell_type": "markdown",
      "source": [
        "<a name='Import_Libraries'></a>\n",
        "\n",
        "## **Import Libraries**"
      ],
      "metadata": {
        "id": "WJhmgDxsVHEO"
      }
    },
    {
      "cell_type": "code",
      "source": [
        "!pip install --upgrade scipy"
      ],
      "metadata": {
        "colab": {
          "base_uri": "https://localhost:8080/"
        },
        "id": "vXStgb2JU6c0",
        "outputId": "8195a0a1-6093-4e60-c038-e78e34aa0050"
      },
      "execution_count": 1,
      "outputs": [
        {
          "output_type": "stream",
          "name": "stdout",
          "text": [
            "Looking in indexes: https://pypi.org/simple, https://us-python.pkg.dev/colab-wheels/public/simple/\n",
            "Requirement already satisfied: scipy in /usr/local/lib/python3.7/dist-packages (1.7.3)\n",
            "Requirement already satisfied: numpy<1.23.0,>=1.16.5 in /usr/local/lib/python3.7/dist-packages (from scipy) (1.21.6)\n"
          ]
        }
      ]
    },
    {
      "cell_type": "code",
      "source": [
        "import pandas as pd\n",
        "import numpy as np\n",
        "import matplotlib.pyplot as plt\n",
        "import matplotlib.patches as mpatches\n",
        "import seaborn as sns\n",
        "import math\n",
        "from scipy import stats\n",
        "from scipy.stats import norm\n",
        "from scipy.stats import chi2\n",
        "from scipy.stats import t\n",
        "from scipy.stats import f\n",
        "from scipy.stats import bernoulli\n",
        "from scipy.stats import binom\n",
        "from scipy.stats import nbinom\n",
        "from scipy.stats import geom\n",
        "from scipy.stats import poisson\n",
        "from scipy.stats import uniform\n",
        "from scipy.stats import randint\n",
        "from scipy.stats import nbinom\n",
        "from scipy.stats import expon\n",
        "from scipy.stats import gamma\n",
        "from scipy.stats import beta\n",
        "from scipy.stats import weibull_min\n",
        "from scipy.stats import hypergeom\n",
        "from scipy.stats import shapiro\n",
        "from scipy.stats import pearsonr\n",
        "from scipy.stats import normaltest\n",
        "from scipy.stats import anderson\n",
        "from scipy.stats import spearmanr\n",
        "from scipy.stats import kendalltau\n",
        "from scipy.stats import chi2_contingency\n",
        "from scipy.stats import ttest_ind\n",
        "from scipy.stats import ttest_rel\n",
        "from scipy.stats import mannwhitneyu\n",
        "from scipy.stats import wilcoxon\n",
        "from scipy.stats import kruskal\n",
        "from scipy.stats import friedmanchisquare\n",
        "from statsmodels.tsa.stattools import adfuller\n",
        "from statsmodels.tsa.stattools import kpss\n",
        "from statsmodels.stats.weightstats import ztest\n",
        "from scipy.integrate import quad\n",
        "from IPython.display import display, Latex\n",
        "\n",
        "import warnings\n",
        "warnings.filterwarnings('ignore')\n",
        "warnings.simplefilter(action='ignore', category=FutureWarning)"
      ],
      "metadata": {
        "colab": {
          "base_uri": "https://localhost:8080/"
        },
        "id": "ZPuphzTmU-P8",
        "outputId": "1bc3dbb9-3a13-42f3-e297-12dededee46b"
      },
      "execution_count": 2,
      "outputs": [
        {
          "output_type": "stream",
          "name": "stderr",
          "text": [
            "/usr/local/lib/python3.7/dist-packages/statsmodels/tools/_testing.py:19: FutureWarning: pandas.util.testing is deprecated. Use the functions in the public API at pandas.testing instead.\n",
            "  import pandas.util.testing as tm\n"
          ]
        }
      ]
    },
    {
      "cell_type": "markdown",
      "source": [
        "<a name='Bernoulli_Distribution'></a>\n",
        "\n",
        "## **2.1. Bernoulli Distribution:**"
      ],
      "metadata": {
        "id": "5z2nOmnTrKxu"
      }
    },
    {
      "cell_type": "markdown",
      "source": [
        "Suppose that an experiment, whose outcome can be classified as either a “success” or as a “failure” is performed. If we let $X = 1$ when the outcome is a success and $X = 0$ when it is a failure, then the probability mass function of $X$ is given by:\n",
        "\n",
        "$P(X=x) =\\begin{cases}p & x = 1\\\\1-p = q & x = 0\\end{cases}$\n",
        "\n",
        "or\n",
        "\n",
        "$P(X=x) = p^x(1-p)^{1-x} \\quad \\quad x = 0,1$\n",
        "\n",
        "$\\\\ $\n",
        "\n",
        "$E(X) = p$\n",
        "\n",
        "$Var(X) = p(1-p)$\n",
        "\n",
        "$Median(X) = \\begin{cases}0 & p < \\frac{1}{2}\\\\{[0,1]} & p = \\frac{1}{2} \\\\1 & p > \\frac{1}{2}\\end{cases}$\n",
        "\n",
        "$Mode(X) = \\begin{cases}0 & p < \\frac{1}{2}\\\\{[0,1]} & p = \\frac{1}{2} \\\\1 & p > \\frac{1}{2}\\end{cases}$\n",
        "\n",
        "$Skewness(X) = \\frac{1-2p}{\\sqrt{p(1-p)}}$\n",
        "\n",
        "$Kurtosis(X) = \\frac{6p^2-6p+1}{p(1-p)} = \\frac{1-6pq}{p(1-p)}$\n",
        "\n",
        "$\\\\ $\n",
        "\n",
        "Moment-generating function:\n",
        "\n",
        "$M_{x}(t) = p\\ e^t + q$\n",
        "\n",
        "$\\\\ $\n",
        "\n",
        "$CDF = F(X=x) = \\begin{cases}0 & x < 0\\\\1-p & 0\\leq x< 1 \\\\1 & x > 0\\end{cases}$"
      ],
      "metadata": {
        "id": "0riBQ6Kwr91-"
      }
    },
    {
      "cell_type": "code",
      "source": [
        "np.random.seed(1)\n",
        "N = 1000000\n",
        "p = 0.8\n",
        "\n",
        "ber_data = np.random.binomial(n = 1, p = p, size = N)\n",
        "\n",
        "sns.histplot(ber_data, color='b', stat='density', bins=50)\n",
        "plt.xlim(-0.1,1.1)\n",
        "plt.xticks([0,1], fontsize=20, ha='center')\n",
        "plt.title(f'Bernoulli Distribution ({p})');"
      ],
      "metadata": {
        "colab": {
          "base_uri": "https://localhost:8080/",
          "height": 290
        },
        "id": "l0MqQdPqrnPe",
        "outputId": "2292e925-93dc-4677-8cf7-321e2dea23cd"
      },
      "execution_count": 3,
      "outputs": [
        {
          "output_type": "display_data",
          "data": {
            "text/plain": [
              "<Figure size 432x288 with 1 Axes>"
            ],
            "image/png": "[encoded data removed]"
          },
          "metadata": {
            "needs_background": "light"
          }
        }
      ]
    },
    {
      "cell_type": "code",
      "source": [
        "p = 0.8\n",
        "print(f'The mean of the Bernoulli(P={p}) Distribution is: ', np.round(bernoulli.mean(p = p), 4))\n",
        "print(f'The median of the Bernoulli(P={p}) Distribution is: ', np.round(bernoulli.median(p = p), 4))\n",
        "print(f'The variance of the Bernoulli(P={p}) Distribution is: ', np.round(bernoulli.var(p = p), 4))\n",
        "print(f'The standard deviation of the Bernoulli(P={p}) Distribution is: ', np.round(bernoulli.std(p = p), 4))\n",
        "print(f'The skewness of the Bernoulli(P={p}) Distribution is: ', np.round(bernoulli.stats(p, moments='mvsk')[2], 4))\n",
        "print(f'The kurtosis of the Bernoulli(P={p}) Distribution is: ', np.round(bernoulli.stats(p, moments='mvsk')[3], 4))"
      ],
      "metadata": {
        "colab": {
          "base_uri": "https://localhost:8080/"
        },
        "id": "zU4alj0sutS2",
        "outputId": "157bdf0d-39d9-42b9-acb9-a922921adf60"
      },
      "execution_count": 4,
      "outputs": [
        {
          "output_type": "stream",
          "name": "stdout",
          "text": [
            "The mean of the Bernoulli(P=0.8) Distribution is:  0.8\n",
            "The median of the Bernoulli(P=0.8) Distribution is:  1.0\n",
            "The variance of the Bernoulli(P=0.8) Distribution is:  0.16\n",
            "The standard deviation of the Bernoulli(P=0.8) Distribution is:  0.4\n",
            "The skewness of the Bernoulli(P=0.8) Distribution is:  -1.5\n",
            "The kurtosis of the Bernoulli(P=0.8) Distribution is:  0.25\n"
          ]
        }
      ]
    },
    {
      "cell_type": "markdown",
      "source": [
        "Integrating the PDF, gives us the cumulative distribution function (CDF) which is a function that maps values to their percentile rank in a distribution."
      ],
      "metadata": {
        "id": "NsyayQJ1J2Bj"
      }
    },
    {
      "cell_type": "code",
      "source": [
        "x = np.arange(0, 1.99, 0.001)\n",
        "x1 = np.arange(0, 2)\n",
        "x2 = np.arange(0, 1) + 0.999\n",
        "\n",
        "plt.scatter(x, bernoulli.cdf(x, p=p), color = 'r')\n",
        "plt.scatter(x2, bernoulli.cdf(x2, p=p), color = 'white', edgecolor='black', s=100)\n",
        "plt.scatter(x1, bernoulli.cdf(x1, p=p), color = 'black', edgecolor='black', s=100)\n",
        "plt.xlim(-0.05,2);"
      ],
      "metadata": {
        "colab": {
          "base_uri": "https://localhost:8080/",
          "height": 265
        },
        "id": "r1BuJBNjaj0M",
        "outputId": "424dcada-031b-46da-eb21-e9bf004ce730"
      },
      "execution_count": 5,
      "outputs": [
        {
          "output_type": "display_data",
          "data": {
            "text/plain": [
              "<Figure size 432x288 with 1 Axes>"
            ],
            "image/png": "[encoded data removed]"
          },
          "metadata": {
            "needs_background": "light"
          }
        }
      ]
    },
    {
      "cell_type": "markdown",
      "source": [
        "To find the left probabilty of a point use the code below:\n",
        "\n",
        "''\n",
        "bernoulli.cdf($X,P$)\n",
        "''\n",
        "\n",
        "To find the right probabilty of a point use the code below:\n",
        "\n",
        "''\n",
        "bernoulli.sf($X,P$)\n",
        "''"
      ],
      "metadata": {
        "id": "4IAqcmYESSAS"
      }
    },
    {
      "cell_type": "code",
      "source": [
        "X = 0.5\n",
        "p = 0.2\n",
        "print(f'The left probabilty of *{X}* in the B({p}) Distribution is: ', bernoulli.cdf(X, p=p))\n",
        "print(f'The Right probabilty of *{X}* in the B({p}) Distribution is: ', bernoulli.sf(X, p=p))"
      ],
      "metadata": {
        "colab": {
          "base_uri": "https://localhost:8080/"
        },
        "id": "Zm-zmsdNSa_z",
        "outputId": "e64d5b74-f8f7-497e-9548-71a609c62de1"
      },
      "execution_count": 6,
      "outputs": [
        {
          "output_type": "stream",
          "name": "stdout",
          "text": [
            "The left probabilty of *0.5* in the B(0.2) Distribution is:  0.8\n",
            "The Right probabilty of *0.5* in the B(0.2) Distribution is:  0.2\n"
          ]
        }
      ]
    },
    {
      "cell_type": "markdown",
      "source": [
        "To find the probabilty of a point use the code below:\n",
        "\n",
        "''\n",
        "bernoulli.pmf($X,P$)\n",
        "''"
      ],
      "metadata": {
        "id": "jir0-E5gTNRb"
      }
    },
    {
      "cell_type": "code",
      "source": [
        "X = 1\n",
        "p = 0.2\n",
        "print(f'The probabilty of *X={X}* in the B({p}) Distribution is: ', bernoulli.pmf(X, p=p))"
      ],
      "metadata": {
        "colab": {
          "base_uri": "https://localhost:8080/"
        },
        "id": "srUdo4jMTPqT",
        "outputId": "16ffcee6-ff7d-4200-c4f0-b51f4c5ae830"
      },
      "execution_count": 7,
      "outputs": [
        {
          "output_type": "stream",
          "name": "stdout",
          "text": [
            "The probabilty of *X=1* in the B(0.2) Distribution is:  0.2\n"
          ]
        }
      ]
    },
    {
      "cell_type": "markdown",
      "source": [
        "If $X \\sim Ber(P) \\quad$ then $\\quad Y_1 = X^n \\sim Ber(P)$\n",
        "\n",
        "If $X \\sim Ber(P) \\quad$ then $\\quad Y_2 = 1-X \\sim Ber(1-P)$\n",
        "\n",
        "If $X \\sim Ber(P) \\quad$ then $\\quad Y_3 = 1-X^n \\sim Ber(1-P)$\n",
        "\n",
        "If $X \\sim Ber(P) \\quad$ then $\\quad Y_4 = {(1-X)}^n \\sim Ber(1-P)$\n",
        "\n",
        "If $X_1, X_2, ..., X_n \\sim Ber(P) \\quad$ then $\\quad Y_5 = Min(X_1, X_2, ..., X_n) \\sim Ber(P^n)$\n",
        "\n",
        "If $X_1, X_2, ..., X_n \\sim Ber(P) \\quad$ then $\\quad Y_6 = Max(X_1, X_2, ..., X_n) \\sim Ber(1-q^n)$\n",
        "\n",
        "If $X_1, X_2, ..., X_n \\sim Ber(P) \\quad$ then $\\quad Y_7 = X_1 \\times X_2\\times ...\\times X_n \\sim Ber(P^n)$\n",
        "\n",
        "If $Y_1 = Min(X_1, X_2, ..., X_n), Y_2 = Max(X_1, X_2, ..., X_n) \\quad$ then $\\quad Y_8 = {Y_1}{Y_2} \\sim Ber(P^n)$"
      ],
      "metadata": {
        "id": "fFKKuULM2F16"
      }
    },
    {
      "cell_type": "markdown",
      "source": [
        "<a name='Binomial_Distribution'></a>\n",
        "\n",
        "## **2.2. Binomial Distribution:**"
      ],
      "metadata": {
        "id": "c1_c9ACB5Q_j"
      }
    },
    {
      "cell_type": "markdown",
      "source": [
        "Suppose now that $n$ independent trials, each of which results in a “success” with probability $p$ and in a “failure” with probability $1 − p$, are to be performed. If $X$ represents the number of successes that occur in the $n$ trials, then $X$ is said to be a binomial random variable with parameters $(n, p)$.\n",
        "\n",
        "$P(X=i) = \\binom{i}{n} p^i (1-p)^{n-i} \\quad \\quad x = 0,1,...,n$\n",
        "\n",
        "$\\\\ $\n",
        "\n",
        "$E(X) = np$\n",
        "\n",
        "$Var(X) = np(1-p)$\n",
        "\n",
        "$Skewness(X) = \\frac{q-p}{\\sqrt{npq}}$\n",
        "\n",
        "$Kurtosis(X) = \\frac{1-6pq}{npq}$\n",
        "\n",
        "$Mode(X) = \\begin{cases}(n+1)p,(n+1)p-1 & if(n+1)p \\in integer \\\\ [(n+1)p] & if(n+1)p \\not\\in integer \\end{cases}$\n",
        "\n",
        "$\\\\ $\n",
        "\n",
        "Moment-generating function:\n",
        "\n",
        "$M_{x}(t) = (pe^t + q)^n$"
      ],
      "metadata": {
        "id": "8m2i2g8D5hvP"
      }
    },
    {
      "cell_type": "code",
      "source": [
        "np.random.seed(1)\n",
        "N = 1000000\n",
        "n, p = [10, 0.5]\n",
        "\n",
        "binom_data = np.random.binomial(n = n, p = p, size = N)\n",
        "\n",
        "sns.histplot(binom_data, color='olive', stat='density', bins=50)\n",
        "\n",
        "plt.xlim(0,n)\n",
        "plt.xticks(list(range(0,n+1)), fontsize=12, ha='center')\n",
        "plt.title('Binomial Distribution');"
      ],
      "metadata": {
        "colab": {
          "base_uri": "https://localhost:8080/",
          "height": 284
        },
        "id": "MqmeyCON5Vjz",
        "outputId": "d0a14a8e-2a0b-4809-e964-56218576dce6"
      },
      "execution_count": 8,
      "outputs": [
        {
          "output_type": "display_data",
          "data": {
            "text/plain": [
              "<Figure size 432x288 with 1 Axes>"
            ],
            "image/png": "[encoded data removed]"
          },
          "metadata": {
            "needs_background": "light"
          }
        }
      ]
    },
    {
      "cell_type": "code",
      "source": [
        "def mode_binom(n,p):\n",
        "  if math.modf((n+1)*p)[0] == 0.0:\n",
        "    return (n+1)*p, (n+1)*p-1\n",
        "  else:\n",
        "    return np.floor((n+1)*p)"
      ],
      "metadata": {
        "id": "EBZQYYcA5Jdb"
      },
      "execution_count": 9,
      "outputs": []
    },
    {
      "cell_type": "code",
      "source": [
        "n, p = [10, 0.5]\n",
        "print(f'The mean of the B({n},{p}) Distribution is: ', np.round(binom.mean(p = p, n = n), 4))\n",
        "print(f'The median of the B({n},{p}) Distribution is: ', np.round(binom.median(p = p, n = n), 4))\n",
        "print(f'The variance of the B({n},{p}) Distribution is: ', np.round(binom.var(p = p, n = n), 4))\n",
        "print(f'The standard deviation of the B({n},{p}) Distribution is: ', np.round(binom.std(p = p, n = n), 4))\n",
        "print(f'The mode of the B({n},{p}) Distribution is: ', np.round(mode_binom(p = p, n = n), 4))\n",
        "print(f'The skewness of the B({n},{p}) Distribution is: ', np.round(binom.stats(p = p, n = n, moments='mvsk')[2], 4))\n",
        "print(f'The kurtosis of the B({n},{p}) Distribution is: ', np.round(binom.stats(p = p, n = n, moments='mvsk')[3], 4))"
      ],
      "metadata": {
        "colab": {
          "base_uri": "https://localhost:8080/"
        },
        "id": "jj8DJCi2945b",
        "outputId": "1027024c-1486-464f-cdad-2ed6805797eb"
      },
      "execution_count": 10,
      "outputs": [
        {
          "output_type": "stream",
          "name": "stdout",
          "text": [
            "The mean of the B(10,0.5) Distribution is:  5.0\n",
            "The median of the B(10,0.5) Distribution is:  5.0\n",
            "The variance of the B(10,0.5) Distribution is:  2.5\n",
            "The standard deviation of the B(10,0.5) Distribution is:  1.5811\n",
            "The mode of the B(10,0.5) Distribution is:  5.0\n",
            "The skewness of the B(10,0.5) Distribution is:  0.0\n",
            "The kurtosis of the B(10,0.5) Distribution is:  -0.2\n"
          ]
        }
      ]
    },
    {
      "cell_type": "markdown",
      "source": [
        "Integrating the PDF, gives us the cumulative distribution function (CDF) which is a function that maps values to their percentile rank in a distribution."
      ],
      "metadata": {
        "id": "6KM1kHTxJoHG"
      }
    },
    {
      "cell_type": "code",
      "source": [
        "x = np.arange(0, n, 0.001)\n",
        "x1 = np.arange(0, n)\n",
        "x2 = np.arange(0, n-1) + 0.999\n",
        "\n",
        "plt.scatter(x, binom.cdf(x, p=p, n=n), color = 'r')\n",
        "plt.scatter(x2, binom.cdf(x2, p=p, n=n), color = 'white', edgecolor='black', s=100)\n",
        "plt.scatter(x1, binom.cdf(x1, p=p, n=n), color = 'black', edgecolor='black', s=100)\n",
        "plt.xlim(0,n);"
      ],
      "metadata": {
        "colab": {
          "base_uri": "https://localhost:8080/",
          "height": 265
        },
        "id": "dzB3koSeKxkX",
        "outputId": "0a116722-a611-4778-8467-6d63dcf98e5b"
      },
      "execution_count": 11,
      "outputs": [
        {
          "output_type": "display_data",
          "data": {
            "text/plain": [
              "<Figure size 432x288 with 1 Axes>"
            ],
            "image/png": "[encoded data removed]"
          },
          "metadata": {
            "needs_background": "light"
          }
        }
      ]
    },
    {
      "cell_type": "markdown",
      "source": [
        "The binomial distribution histogram depends on the $n$ and $p$."
      ],
      "metadata": {
        "id": "InSCdsjR9xEC"
      }
    },
    {
      "cell_type": "code",
      "source": [
        "n1, n2, n3 = [9, 10, 10]\n",
        "p1, p2, p3 = [0.2, 0.8,0.5]\n",
        "\n",
        "fig, axes = plt.subplots(1, 3, figsize=(15, 5), sharey=True)\n",
        "fig.suptitle('Binomial Distribution')\n",
        "\n",
        "sns.histplot(ax=axes[0], x=np.random.binomial(n = n1, p = p1, size = N),  bins=50, color = '#A1C935')\n",
        "axes[0].set_title(f'B({n1},{p1})')\n",
        "\n",
        "sns.histplot(ax=axes[1], x=np.random.binomial(n = n2, p = p2, size = N),  bins=50, color = '#1AEACD')\n",
        "axes[1].set_title(f'B({n2},{p2})')\n",
        "\n",
        "sns.histplot(ax=axes[2], x=np.random.binomial(n = n3, p = p3, size = N),  bins=50, color = '#F75D59')\n",
        "axes[2].set_title(f'B({n3},{p3})');"
      ],
      "metadata": {
        "colab": {
          "base_uri": "https://localhost:8080/",
          "height": 356
        },
        "id": "zk5PfeVlDJxh",
        "outputId": "c29d8aad-c7d2-4f65-b27c-d205d7666eca"
      },
      "execution_count": 97,
      "outputs": [
        {
          "output_type": "display_data",
          "data": {
            "text/plain": [
              "<Figure size 1080x360 with 3 Axes>"
            ],
            "image/png": "[encoded data removed]"
          },
          "metadata": {
            "needs_background": "light"
          }
        }
      ]
    },
    {
      "cell_type": "markdown",
      "source": [
        "To find the left probabilty of a point use the code below:\n",
        "\n",
        "''\n",
        "binom.cdf($X,P,n$)\n",
        "''\n",
        "\n",
        "To find the right probabilty of a point use the code below:\n",
        "\n",
        "''\n",
        "binom.sf($X,P,n$)\n",
        "''"
      ],
      "metadata": {
        "id": "pszDBGvEUJD5"
      }
    },
    {
      "cell_type": "code",
      "source": [
        "X = 2\n",
        "n, p = [10, 0.2]\n",
        "print(f'The left probabilty of *{X}* in the B({n},{p}) Distribution is: ', binom.cdf(X, p=p, n=n))\n",
        "print(f'The Right probabilty of *{X}* in the B({n},{p}) Distribution is: ', binom.sf(X, p=p, n=n))"
      ],
      "metadata": {
        "colab": {
          "base_uri": "https://localhost:8080/"
        },
        "outputId": "aed3bd6c-5d97-4dd1-de83-be2cafa4d784",
        "id": "uViuxJsKUJD6"
      },
      "execution_count": 13,
      "outputs": [
        {
          "output_type": "stream",
          "name": "stdout",
          "text": [
            "The left probabilty of *2* in the B(10,0.2) Distribution is:  0.6777995263999999\n",
            "The Right probabilty of *2* in the B(10,0.2) Distribution is:  0.32220047360000015\n"
          ]
        }
      ]
    },
    {
      "cell_type": "markdown",
      "source": [
        "To find the probabilty between two points $[X,Y]$ use the code below:"
      ],
      "metadata": {
        "id": "-rESDu9IkKYS"
      }
    },
    {
      "cell_type": "code",
      "source": [
        "X = 2\n",
        "Y = 4\n",
        "n, p = [10, 0.2]\n",
        "xs = np.arange(X, Y+1)\n",
        "print(f'The probabilty between *[{X}, {Y}]* in the B({n},{p}) Distribution is: ', np.sum([binom.pmf(xs, p=p, n=n) for xs in xs]))"
      ],
      "metadata": {
        "colab": {
          "base_uri": "https://localhost:8080/"
        },
        "id": "h66sd6eZkLcF",
        "outputId": "c3de1580-a02b-47fe-9e39-a7a8d90f2f8b"
      },
      "execution_count": 14,
      "outputs": [
        {
          "output_type": "stream",
          "name": "stdout",
          "text": [
            "The probabilty between *[2, 4]* in the B(10,0.2) Distribution is:  0.5913968639999998\n"
          ]
        }
      ]
    },
    {
      "cell_type": "code",
      "source": [
        "x1 = list(np.arange(0,X))\n",
        "x2 = list(np.arange(X,Y+1))\n",
        "x3 = list(np.arange(Y+1,n+1))\n",
        "plt.bar(x1, binom.pmf(x1, p=p, n=n), color ='gray')\n",
        "plt.bar(x2, binom.pmf(x2, p=p, n=n), color ='#DFFF00')\n",
        "plt.bar(x3, binom.pmf(x3, p=p, n=n), color ='gray')\n",
        "plt.xlim(-1,n+1)\n",
        "plt.xticks(np.arange(0,n+1), fontsize=12, ha='center')\n",
        "plt.title(f'B({n}, {p})')\n",
        "xs = np.arange(X, Y+1)\n",
        "prob = np.sum([binom.pmf(xs, p=p, n=n) for xs in xs])\n",
        "plt.text(7, 0.02, f'$P({np.round(X, 3)} \\leq X \\leq {np.round(Y, 3)})$ \\n {np.round(prob, 2)}', fontsize=18);"
      ],
      "metadata": {
        "colab": {
          "base_uri": "https://localhost:8080/",
          "height": 284
        },
        "id": "Ryd4pcyI6BYE",
        "outputId": "16010584-ecaf-43d6-98e8-849227385d36"
      },
      "execution_count": 15,
      "outputs": [
        {
          "output_type": "display_data",
          "data": {
            "text/plain": [
              "<Figure size 432x288 with 1 Axes>"
            ],
            "image/png": "[encoded data removed]"
          },
          "metadata": {
            "needs_background": "light"
          }
        }
      ]
    },
    {
      "cell_type": "markdown",
      "source": [
        "To find the probabilty between two points $(X,Y)$ use the code below:"
      ],
      "metadata": {
        "id": "MutW8yZGldq_"
      }
    },
    {
      "cell_type": "code",
      "source": [
        "X = 2\n",
        "Y = 4\n",
        "n, p = [10, 0.2]\n",
        "xs = np.arange(X+1, Y)\n",
        "print(f'The probabilty between *({X}, {Y})* in the B({n},{p}) Distribution is: ', np.sum([binom.pmf(xs, p=p, n=n) for xs in xs]))"
      ],
      "metadata": {
        "colab": {
          "base_uri": "https://localhost:8080/"
        },
        "id": "M0DxV4XjlnnT",
        "outputId": "94091ac2-8e13-49d8-8883-04fb77c46c57"
      },
      "execution_count": 16,
      "outputs": [
        {
          "output_type": "stream",
          "name": "stdout",
          "text": [
            "The probabilty between *(2, 4)* in the B(10,0.2) Distribution is:  0.20132659199999992\n"
          ]
        }
      ]
    },
    {
      "cell_type": "code",
      "source": [
        "x1 = list(np.arange(0,X+1))\n",
        "x2 = list(np.arange(X+1,Y))\n",
        "x3 = list(np.arange(Y,n+1))\n",
        "plt.bar(x1, binom.pmf(x1, p=p, n=n), color ='gray')\n",
        "plt.bar(x2, binom.pmf(x2, p=p, n=n), color ='#DFFF00')\n",
        "plt.bar(x3, binom.pmf(x3, p=p, n=n), color ='gray')\n",
        "plt.xlim(-1,n+1)\n",
        "plt.xticks(np.arange(0,n+1), fontsize=12, ha='center')\n",
        "plt.title(f'B({n}, {p})')\n",
        "xs = np.arange(X+1, Y)\n",
        "prob = np.sum([binom.pmf(xs, p=p, n=n) for xs in xs])\n",
        "plt.text(7, 0.02, f'$P({np.round(X, 3)} < X < {np.round(Y, 3)})$ \\n {np.round(prob, 2)}', fontsize=18);"
      ],
      "metadata": {
        "colab": {
          "base_uri": "https://localhost:8080/",
          "height": 284
        },
        "id": "FQ-xBNM-_FdA",
        "outputId": "69e00b8c-4bd3-4579-e1f4-77782f2d92b8"
      },
      "execution_count": 17,
      "outputs": [
        {
          "output_type": "display_data",
          "data": {
            "text/plain": [
              "<Figure size 432x288 with 1 Axes>"
            ],
            "image/png": "[encoded data removed]"
          },
          "metadata": {
            "needs_background": "light"
          }
        }
      ]
    },
    {
      "cell_type": "markdown",
      "source": [
        "To find the probabilty between two points $[X,Y)$ use the code below:"
      ],
      "metadata": {
        "id": "xAm4u-pExhO2"
      }
    },
    {
      "cell_type": "code",
      "source": [
        "X = 2\n",
        "Y = 4\n",
        "n, p = [10, 0.2]\n",
        "xs = np.arange(X, Y)\n",
        "print(f'The probabilty between *[{X}, {Y})* in the B({n},{p}) Distribution is: ', np.sum([binom.pmf(xs, p=p, n=n) for xs in xs]))"
      ],
      "metadata": {
        "colab": {
          "base_uri": "https://localhost:8080/"
        },
        "id": "ozUIQG8bxldK",
        "outputId": "055f57c2-fe05-4ebb-c3ee-53b5c89f6b94"
      },
      "execution_count": 18,
      "outputs": [
        {
          "output_type": "stream",
          "name": "stdout",
          "text": [
            "The probabilty between *[2, 4)* in the B(10,0.2) Distribution is:  0.50331648\n"
          ]
        }
      ]
    },
    {
      "cell_type": "code",
      "source": [
        "x1 = list(np.arange(0,X))\n",
        "x2 = list(np.arange(X,Y))\n",
        "x3 = list(np.arange(Y,n+1))\n",
        "plt.bar(x1, binom.pmf(x1, p=p, n=n), color ='gray')\n",
        "plt.bar(x2, binom.pmf(x2, p=p, n=n), color ='#DFFF00')\n",
        "plt.bar(x3, binom.pmf(x3, p=p, n=n), color ='gray')\n",
        "plt.xlim(-1,n+1)\n",
        "plt.xticks(np.arange(0,n+1), fontsize=12, ha='center')\n",
        "plt.title(f'B({n}, {p})')\n",
        "xs = np.arange(X, Y)\n",
        "prob = np.sum([binom.pmf(xs, p=p, n=n) for xs in xs])\n",
        "plt.text(7, 0.02, f'$P({np.round(X, 3)} \\leq X < {np.round(Y, 3)})$ \\n {np.round(prob, 2)}', fontsize=18);"
      ],
      "metadata": {
        "colab": {
          "base_uri": "https://localhost:8080/",
          "height": 284
        },
        "id": "cDfaDGznDL5I",
        "outputId": "8708e1ec-2b75-4926-ddb0-fc17f76f3c94"
      },
      "execution_count": 19,
      "outputs": [
        {
          "output_type": "display_data",
          "data": {
            "text/plain": [
              "<Figure size 432x288 with 1 Axes>"
            ],
            "image/png": "[encoded data removed]"
          },
          "metadata": {
            "needs_background": "light"
          }
        }
      ]
    },
    {
      "cell_type": "markdown",
      "source": [
        "To find the probabilty between two points $(X,Y]$ use the code below:"
      ],
      "metadata": {
        "id": "TtKV1U-tyEBr"
      }
    },
    {
      "cell_type": "code",
      "source": [
        "X = 2\n",
        "Y = 4\n",
        "n, p = [10, 0.2]\n",
        "xs = np.arange(X+1, Y+1)\n",
        "print(f'The probabilty between *({X}, {Y}]* in the B({n},{p}) Distribution is: ', np.sum([binom.pmf(xs, p=p, n=n) for xs in xs]))"
      ],
      "metadata": {
        "colab": {
          "base_uri": "https://localhost:8080/"
        },
        "id": "B6iatDGhyQLH",
        "outputId": "5e33d902-cdeb-47fc-8a33-ae602462fd4b"
      },
      "execution_count": 20,
      "outputs": [
        {
          "output_type": "stream",
          "name": "stdout",
          "text": [
            "The probabilty between *(2, 4]* in the B(10,0.2) Distribution is:  0.2894069759999998\n"
          ]
        }
      ]
    },
    {
      "cell_type": "code",
      "source": [
        "x1 = list(np.arange(0,X+1))\n",
        "x2 = list(np.arange(X+1,Y+1))\n",
        "x3 = list(np.arange(Y+1,n+1))\n",
        "plt.bar(x1, binom.pmf(x1, p=p, n=n), color ='gray')\n",
        "plt.bar(x2, binom.pmf(x2, p=p, n=n), color ='#DFFF00')\n",
        "plt.bar(x3, binom.pmf(x3, p=p, n=n), color ='gray')\n",
        "plt.xlim(-1,n+1)\n",
        "plt.xticks(np.arange(0,n+1), fontsize=12, ha='center')\n",
        "plt.title(f'B({n}, {p})')\n",
        "xs = np.arange(X+1, Y+1)\n",
        "prob = np.sum([binom.pmf(xs, p=p, n=n) for xs in xs])\n",
        "plt.text(7, 0.02, f'$P({np.round(X, 3)} < X \\leq {np.round(Y, 3)})$ \\n {np.round(prob, 2)}', fontsize=18);"
      ],
      "metadata": {
        "colab": {
          "base_uri": "https://localhost:8080/",
          "height": 284
        },
        "id": "YlvUAe4MEXwK",
        "outputId": "495aafa0-836a-40d9-a410-7319e0eb566a"
      },
      "execution_count": 21,
      "outputs": [
        {
          "output_type": "display_data",
          "data": {
            "text/plain": [
              "<Figure size 432x288 with 1 Axes>"
            ],
            "image/png": "[encoded data removed]"
          },
          "metadata": {
            "needs_background": "light"
          }
        }
      ]
    },
    {
      "cell_type": "markdown",
      "source": [
        "To find the probabilty of a point use the code below:\n",
        "\n",
        "''\n",
        "binom.pmf($X,P,n$)\n",
        "''"
      ],
      "metadata": {
        "id": "dHQOxQ-gU5KC"
      }
    },
    {
      "cell_type": "code",
      "source": [
        "X = 2\n",
        "n, p = [10, 0.2]\n",
        "print(f'The probabilty of *X={X}* in the B({n},{p}) Distribution is: ', binom.pmf(X, p=p, n=n))"
      ],
      "metadata": {
        "colab": {
          "base_uri": "https://localhost:8080/"
        },
        "outputId": "6cd4d50a-6beb-41c3-f0cf-eafb90385721",
        "id": "d_KMq-YPU5KD"
      },
      "execution_count": 22,
      "outputs": [
        {
          "output_type": "stream",
          "name": "stdout",
          "text": [
            "The probabilty of *X=2* in the B(10,0.2) Distribution is:  0.30198988800000004\n"
          ]
        }
      ]
    },
    {
      "cell_type": "code",
      "source": [
        "x1 = list(np.arange(0,X))\n",
        "x2 = X\n",
        "x3 = list(np.arange(X+1,n+1))\n",
        "plt.bar(x1, binom.pmf(x1, p=p, n=n), color ='gray')\n",
        "plt.bar(x2, binom.pmf(x2, p=p, n=n), color ='#DFFF00')\n",
        "plt.bar(x3, binom.pmf(x3, p=p, n=n), color ='gray')\n",
        "plt.xlim(-1,n+1)\n",
        "plt.xticks(np.arange(0,n+1), fontsize=12, ha='center')\n",
        "plt.title(f'B({n}, {p})')\n",
        "prob = np.sum([binom.pmf(x2, p=p, n=n)])\n",
        "plt.text(7, 0.02, f'$P({np.round(X, 3)}) = $ {np.round(prob, 2)}', fontsize=18);"
      ],
      "metadata": {
        "colab": {
          "base_uri": "https://localhost:8080/",
          "height": 284
        },
        "id": "gS2E38_2Esad",
        "outputId": "7661a644-d418-412b-da56-47312017b3a5"
      },
      "execution_count": 23,
      "outputs": [
        {
          "output_type": "display_data",
          "data": {
            "text/plain": [
              "<Figure size 432x288 with 1 Axes>"
            ],
            "image/png": "[encoded data removed]"
          },
          "metadata": {
            "needs_background": "light"
          }
        }
      ]
    },
    {
      "cell_type": "markdown",
      "source": [
        "If $X_1, X_2, ..., X_n \\sim Ber(P) \\quad$ then $\\quad Y =  \\sum_{i=1}^n X_i  \\sim B(n,P)$"
      ],
      "metadata": {
        "id": "HjmA0A0fFFme"
      }
    },
    {
      "cell_type": "markdown",
      "source": [
        "<a name='Negative_Binomial_Distribution'></a>\n",
        "\n",
        "## **2.3. Negative Binomial (Pascal) Distribution:**"
      ],
      "metadata": {
        "id": "eAUshqfZd-_d"
      }
    },
    {
      "cell_type": "markdown",
      "source": [
        "Suppose now that $n$ independent trials, each of which results in a “success” with probability $p$ and in a “failure” with probability $1 − p$, are to be performed. If $X$ represents the number of failures before rth success, then $X$ is said to be a negative binomial random variable with parameters $(r, p)$.\n",
        "\n",
        "$P(X=i) = \\binom{r+i-1}{r-1} p^r (1-p)^{i} \\quad \\quad i = 0,1,2,...$\n",
        "\n",
        "$\\\\ $\n",
        "\n",
        "$E(X) = \\frac{r(1-p)}{p}$\n",
        "\n",
        "$Var(X) = \\frac{r(1-p)}{p^2}$\n",
        "\n",
        "$Skewness(X) = \\frac{2-p}{\\sqrt{r(1-p)}}$\n",
        "\n",
        "$Kurtosis(X) = \\frac{p^2-6p+6}{r(1-p)}$\n",
        "\n",
        "$\\\\ $\n",
        "\n",
        "Moment-generating function:\n",
        "\n",
        "$M_{x}(t) = p^r [1-(1-p)e^t]^{-r}$"
      ],
      "metadata": {
        "id": "EVkoQpaXe9Ri"
      }
    },
    {
      "cell_type": "code",
      "source": [
        "np.random.seed(1)\n",
        "N = 10000000\n",
        "n = 15\n",
        "r, p = [4, 0.5]\n",
        "\n",
        "pas_data = nbinom.rvs(n = r, p = p, size = N)\n",
        "\n",
        "sns.histplot(pas_data, color='brown', stat='density', bins=68)\n",
        "\n",
        "plt.xlim(0,n)\n",
        "plt.xticks(list(range(0,n+1)), fontsize=12, ha='center')\n",
        "plt.title('Pascal Distribution');"
      ],
      "metadata": {
        "colab": {
          "base_uri": "https://localhost:8080/",
          "height": 284
        },
        "id": "HurSX6iaeUid",
        "outputId": "07b47dd4-2a49-4e64-fca9-4a6bb2720884"
      },
      "execution_count": 24,
      "outputs": [
        {
          "output_type": "display_data",
          "data": {
            "text/plain": [
              "<Figure size 432x288 with 1 Axes>"
            ],
            "image/png": "[encoded data removed]"
          },
          "metadata": {
            "needs_background": "light"
          }
        }
      ]
    },
    {
      "cell_type": "code",
      "source": [
        "r, p = [4, 0.5]\n",
        "print(f'The mean of the NB({r},{p}) Distribution is: ', np.round(nbinom.mean(p = p, n = r), 4))\n",
        "print(f'The median of the NB({r},{p}) Distribution is: ', np.round(nbinom.median(p = p, n = r), 4))\n",
        "print(f'The variance of the NB({r},{p}) Distribution is: ', np.round(nbinom.var(p = p, n = r), 4))\n",
        "print(f'The standard deviation of the NB({r},{p}) Distribution is: ', np.round(nbinom.std(p = p, n = r), 4))\n",
        "print(f'The skewness of the NB({r},{p}) Distribution is: ', np.round(nbinom.stats(p = p, n = r, moments='mvsk')[2], 4))\n",
        "print(f'The kurtosis of the NB({r},{p}) Distribution is: ', np.round(nbinom.stats(p = p, n = r, moments='mvsk')[3], 4))"
      ],
      "metadata": {
        "colab": {
          "base_uri": "https://localhost:8080/"
        },
        "id": "EM9m5Zim0oDM",
        "outputId": "ae3df4a6-bdc4-4fd0-842d-43eba4727385"
      },
      "execution_count": 25,
      "outputs": [
        {
          "output_type": "stream",
          "name": "stdout",
          "text": [
            "The mean of the NB(4,0.5) Distribution is:  4.0\n",
            "The median of the NB(4,0.5) Distribution is:  3.0\n",
            "The variance of the NB(4,0.5) Distribution is:  8.0\n",
            "The standard deviation of the NB(4,0.5) Distribution is:  2.8284\n",
            "The skewness of the NB(4,0.5) Distribution is:  1.0607\n",
            "The kurtosis of the NB(4,0.5) Distribution is:  1.625\n"
          ]
        }
      ]
    },
    {
      "cell_type": "markdown",
      "source": [
        "Integrating the PDF, gives us the cumulative distribution function (CDF) which is a function that maps values to their percentile rank in a distribution."
      ],
      "metadata": {
        "id": "CBx1cK6y14kn"
      }
    },
    {
      "cell_type": "code",
      "source": [
        "x = np.arange(0, n, 0.001)\n",
        "x1 = np.arange(0, n)\n",
        "x2 = np.arange(0, n-1) + 0.999\n",
        "\n",
        "plt.scatter(x, nbinom.cdf(x, p=p, n=r), color = 'r')\n",
        "plt.scatter(x2, nbinom.cdf(x2, p=p, n=r), color = 'white', edgecolor='black', s=100)\n",
        "plt.scatter(x1, nbinom.cdf(x1, p=p, n=r), color = 'black', edgecolor='black', s=100)\n",
        "plt.xlim(0,n);"
      ],
      "metadata": {
        "colab": {
          "base_uri": "https://localhost:8080/",
          "height": 265
        },
        "outputId": "0c22fcee-8f8e-48af-c1e9-83c6bf2290a5",
        "id": "X-jgGBzp14kn"
      },
      "execution_count": 26,
      "outputs": [
        {
          "output_type": "display_data",
          "data": {
            "text/plain": [
              "<Figure size 432x288 with 1 Axes>"
            ],
            "image/png": "[encoded data removed]"
          },
          "metadata": {
            "needs_background": "light"
          }
        }
      ]
    },
    {
      "cell_type": "markdown",
      "source": [
        "The binomial distribution histogram depends on the $n$ and $p$."
      ],
      "metadata": {
        "id": "RnHxI_n92VsO"
      }
    },
    {
      "cell_type": "code",
      "source": [
        "r1, r2, r3 = [3, 4, 7]\n",
        "p1, p2, p3 = [0.5, 0.3, 0.8]\n",
        "\n",
        "fig, axes = plt.subplots(1, 3, figsize=(15, 5), sharey=True)\n",
        "fig.suptitle('Pascal Distribution')\n",
        "\n",
        "sns.histplot(ax=axes[0], x=nbinom.rvs(n = r1, p = p1, size = N),  bins=50, color = '#A1C935')\n",
        "axes[0].set_title(f'NB({r1},{p1})')\n",
        "\n",
        "sns.histplot(ax=axes[1], x=nbinom.rvs(n = r2, p = p2, size = N),  bins=50, color = '#1AEACD')\n",
        "axes[1].set_title(f'NB({r2},{p2})')\n",
        "\n",
        "sns.histplot(ax=axes[2], x=nbinom.rvs(n = r3, p = p3, size = N),  bins=50, color = '#F75D59')\n",
        "axes[2].set_title(f'NB({r3},{p3})');"
      ],
      "metadata": {
        "colab": {
          "base_uri": "https://localhost:8080/",
          "height": 356
        },
        "outputId": "1c2cb41c-6030-4e79-c2a8-ce317e416468",
        "id": "ZZgaR6Ob2VsQ"
      },
      "execution_count": 27,
      "outputs": [
        {
          "output_type": "display_data",
          "data": {
            "text/plain": [
              "<Figure size 1080x360 with 3 Axes>"
            ],
            "image/png": "[encoded data removed]"
          },
          "metadata": {
            "needs_background": "light"
          }
        }
      ]
    },
    {
      "cell_type": "markdown",
      "source": [
        "To find the left probabilty of a point use the code below:\n",
        "\n",
        "''\n",
        "nbinom.cdf($X,P,r$)\n",
        "''\n",
        "\n",
        "To find the right probabilty of a point use the code below:\n",
        "\n",
        "''\n",
        "nbinom.sf($X,P,r$)\n",
        "''"
      ],
      "metadata": {
        "id": "rkcrQ1iv3GRw"
      }
    },
    {
      "cell_type": "code",
      "source": [
        "X = 4\n",
        "r, p = [4, 0.6]\n",
        "print(f'The left probabilty of *{X}* in the NB({r},{p}) Distribution is: ', nbinom.cdf(X, p=p, n=r))\n",
        "print(f'The Right probabilty of *{X}* in the NB({r},{p}) Distribution is: ', nbinom.sf(X, p=p, n=r))"
      ],
      "metadata": {
        "colab": {
          "base_uri": "https://localhost:8080/"
        },
        "outputId": "fcf9d37f-17ef-47f2-df3e-ff42ef27c652",
        "id": "f5Z3jo_t3GRx"
      },
      "execution_count": 28,
      "outputs": [
        {
          "output_type": "stream",
          "name": "stdout",
          "text": [
            "The left probabilty of *4* in the NB(4,0.6) Distribution is:  0.8263296\n",
            "The Right probabilty of *4* in the NB(4,0.6) Distribution is:  0.17367040000000003\n"
          ]
        }
      ]
    },
    {
      "cell_type": "markdown",
      "source": [
        "To find the probabilty between two points $[X,Y]$ use the code below:"
      ],
      "metadata": {
        "id": "JbL3uCtF4H0d"
      }
    },
    {
      "cell_type": "code",
      "source": [
        "X = 2\n",
        "Y = 5\n",
        "r, p = [4, 0.6]\n",
        "xs = np.arange(X, Y+1)\n",
        "print(f'The probabilty between *[{X}, {Y}]* in the NB({r},{p}) Distribution is: ', np.sum([nbinom.pmf(xs, p=p, n=r) for xs in xs]))"
      ],
      "metadata": {
        "colab": {
          "base_uri": "https://localhost:8080/"
        },
        "outputId": "17bbd514-d8f3-4ae7-d161-3bdb468bd3dc",
        "id": "emxN1gJN4H0e"
      },
      "execution_count": 29,
      "outputs": [
        {
          "output_type": "stream",
          "name": "stdout",
          "text": [
            "The probabilty between *[2, 5]* in the NB(4,0.6) Distribution is:  0.5636874239999998\n"
          ]
        }
      ]
    },
    {
      "cell_type": "code",
      "source": [
        "x1 = list(np.arange(0,X))\n",
        "x2 = list(np.arange(X,Y+1))\n",
        "x3 = list(np.arange(Y+1,n+1))\n",
        "plt.bar(x1, nbinom.pmf(x1, p=p, n=r), color ='gray')\n",
        "plt.bar(x2, nbinom.pmf(x2, p=p, n=r), color ='#DFFF00')\n",
        "plt.bar(x3, nbinom.pmf(x3, p=p, n=r), color ='gray')\n",
        "plt.xlim(-1,n+1)\n",
        "plt.xticks(np.arange(0,n+1), fontsize=12, ha='center')\n",
        "plt.title(f'NB({r}, {p})')\n",
        "xs = np.arange(X, Y+1)\n",
        "prob = np.sum([nbinom.pmf(xs, p=p, n=r) for xs in xs])\n",
        "plt.text(8, 0.02, f'$P({np.round(X, 3)} \\leq X \\leq {np.round(Y, 3)})$ \\n {np.round(prob, 2)}', fontsize=18);"
      ],
      "metadata": {
        "colab": {
          "base_uri": "https://localhost:8080/",
          "height": 284
        },
        "id": "-jQAIVGA5RHx",
        "outputId": "9a60f609-9bb0-41a1-f670-4f5f38bc5948"
      },
      "execution_count": 30,
      "outputs": [
        {
          "output_type": "display_data",
          "data": {
            "text/plain": [
              "<Figure size 432x288 with 1 Axes>"
            ],
            "image/png": "[encoded data removed]"
          },
          "metadata": {
            "needs_background": "light"
          }
        }
      ]
    },
    {
      "cell_type": "markdown",
      "source": [
        "To find the probabilty between two points $(X,Y)$ use the code below:"
      ],
      "metadata": {
        "id": "tG_HoGyG5wR3"
      }
    },
    {
      "cell_type": "code",
      "source": [
        "X = 2\n",
        "Y = 5\n",
        "r, p = [4, 0.6]\n",
        "xs = np.arange(X+1, Y)\n",
        "print(f'The probabilty between *({X}, {Y})* in the NB({r},{p}) Distribution is: ', np.sum([nbinom.pmf(xs, p=p, n=r) for xs in xs]))"
      ],
      "metadata": {
        "colab": {
          "base_uri": "https://localhost:8080/"
        },
        "outputId": "b7fb210f-6356-49cb-b484-eb4f80554a6e",
        "id": "3Oy7TX6C5wR4"
      },
      "execution_count": 31,
      "outputs": [
        {
          "output_type": "stream",
          "name": "stdout",
          "text": [
            "The probabilty between *(2, 5)* in the NB(4,0.6) Distribution is:  0.2820096000000001\n"
          ]
        }
      ]
    },
    {
      "cell_type": "code",
      "source": [
        "x1 = list(np.arange(0,X+1))\n",
        "x2 = list(np.arange(X+1,Y))\n",
        "x3 = list(np.arange(Y,n+1))\n",
        "plt.bar(x1, nbinom.pmf(x1, p=p, n=r), color ='gray')\n",
        "plt.bar(x2, nbinom.pmf(x2, p=p, n=r), color ='#DFFF00')\n",
        "plt.bar(x3, nbinom.pmf(x3, p=p, n=r), color ='gray')\n",
        "plt.xlim(-1,n+1)\n",
        "plt.xticks(np.arange(0,n+1), fontsize=12, ha='center')\n",
        "plt.title(f'NB({r}, {p})')\n",
        "xs = np.arange(X+1, Y)\n",
        "prob = np.sum([nbinom.pmf(xs, p=p, n=r) for xs in xs])\n",
        "plt.text(8, 0.02, f'$P({np.round(X, 3)} < X < {np.round(Y, 3)})$ \\n {np.round(prob, 2)}', fontsize=18);"
      ],
      "metadata": {
        "colab": {
          "base_uri": "https://localhost:8080/",
          "height": 284
        },
        "outputId": "e038ec9c-05ad-4f6b-fff1-a45877c54b1e",
        "id": "U-IGPmSm5wR5"
      },
      "execution_count": 32,
      "outputs": [
        {
          "output_type": "display_data",
          "data": {
            "text/plain": [
              "<Figure size 432x288 with 1 Axes>"
            ],
            "image/png": "[encoded data removed]"
          },
          "metadata": {
            "needs_background": "light"
          }
        }
      ]
    },
    {
      "cell_type": "markdown",
      "source": [
        "To find the probabilty between two points $[X,Y)$ use the code below:"
      ],
      "metadata": {
        "id": "nDTLBWPm81nz"
      }
    },
    {
      "cell_type": "code",
      "source": [
        "X = 2\n",
        "Y = 5\n",
        "r, p = [4, 0.6]\n",
        "xs = np.arange(X, Y)\n",
        "print(f'The probabilty between *[{X}, {Y})* in the NB({r},{p}) Distribution is: ', np.sum([nbinom.pmf(xs, p=p, n=r) for xs in xs]))"
      ],
      "metadata": {
        "colab": {
          "base_uri": "https://localhost:8080/"
        },
        "outputId": "fcb747ac-043c-4ab3-b856-7436fb921fff",
        "id": "mi58xHNj81n0"
      },
      "execution_count": 33,
      "outputs": [
        {
          "output_type": "stream",
          "name": "stdout",
          "text": [
            "The probabilty between *[2, 5)* in the NB(4,0.6) Distribution is:  0.48936959999999985\n"
          ]
        }
      ]
    },
    {
      "cell_type": "code",
      "source": [
        "x1 = list(np.arange(0,X))\n",
        "x2 = list(np.arange(X,Y))\n",
        "x3 = list(np.arange(Y,n+1))\n",
        "plt.bar(x1, nbinom.pmf(x1, p=p, n=r), color ='gray')\n",
        "plt.bar(x2, nbinom.pmf(x2, p=p, n=r), color ='#DFFF00')\n",
        "plt.bar(x3, nbinom.pmf(x3, p=p, n=r), color ='gray')\n",
        "plt.xlim(-1,n+1)\n",
        "plt.xticks(np.arange(0,n+1), fontsize=12, ha='center')\n",
        "plt.title(f'NB({r}, {p})')\n",
        "xs = np.arange(X, Y)\n",
        "prob = np.sum([nbinom.pmf(xs, p=p, n=r) for xs in xs])\n",
        "plt.text(8, 0.02, f'$P({np.round(X, 3)} \\leq X < {np.round(Y, 3)})$ \\n {np.round(prob, 2)}', fontsize=18);"
      ],
      "metadata": {
        "colab": {
          "base_uri": "https://localhost:8080/",
          "height": 284
        },
        "outputId": "2f846f58-c9a7-41a0-d8cb-b76427a874a4",
        "id": "WLf_x_TF81n1"
      },
      "execution_count": 34,
      "outputs": [
        {
          "output_type": "display_data",
          "data": {
            "text/plain": [
              "<Figure size 432x288 with 1 Axes>"
            ],
            "image/png": "[encoded data removed]"
          },
          "metadata": {
            "needs_background": "light"
          }
        }
      ]
    },
    {
      "cell_type": "markdown",
      "source": [
        "To find the probabilty between two points $(X,Y]$ use the code below:"
      ],
      "metadata": {
        "id": "5ioDU2wm9RS-"
      }
    },
    {
      "cell_type": "code",
      "source": [
        "X = 2\n",
        "Y = 5\n",
        "r, p = [4, 0.6]\n",
        "xs = np.arange(X+1, Y+1)\n",
        "print(f'The probabilty between *({X}, {Y}]* in the NB({r},{p}) Distribution is: ', np.sum([nbinom.pmf(xs, p=p, n=r) for xs in xs]))"
      ],
      "metadata": {
        "colab": {
          "base_uri": "https://localhost:8080/"
        },
        "outputId": "b6b7ef15-1a1b-4a81-90e0-4c706765c427",
        "id": "rLbOAAME9RS_"
      },
      "execution_count": 35,
      "outputs": [
        {
          "output_type": "stream",
          "name": "stdout",
          "text": [
            "The probabilty between *(2, 5]* in the NB(4,0.6) Distribution is:  0.3563274240000001\n"
          ]
        }
      ]
    },
    {
      "cell_type": "code",
      "source": [
        "x1 = list(np.arange(0,X+1))\n",
        "x2 = list(np.arange(X+1,Y+1))\n",
        "x3 = list(np.arange(Y+1,n+1))\n",
        "plt.bar(x1, nbinom.pmf(x1, p=p, n=r), color ='gray')\n",
        "plt.bar(x2, nbinom.pmf(x2, p=p, n=r), color ='#DFFF00')\n",
        "plt.bar(x3, nbinom.pmf(x3, p=p, n=r), color ='gray')\n",
        "plt.xlim(-1,n+1)\n",
        "plt.xticks(np.arange(0,n+1), fontsize=12, ha='center')\n",
        "plt.title(f'NB({r}, {p})')\n",
        "xs = np.arange(X+1, Y+1)\n",
        "prob = np.sum([nbinom.pmf(xs, p=p, n=r) for xs in xs])\n",
        "plt.text(8, 0.02, f'$P({np.round(X, 3)} < X \\leq {np.round(Y, 3)})$ \\n {np.round(prob, 2)}', fontsize=18);"
      ],
      "metadata": {
        "colab": {
          "base_uri": "https://localhost:8080/",
          "height": 284
        },
        "outputId": "71c92a29-780f-4ca0-cae8-2cb0e6cd69c6",
        "id": "AvNavNRm9RTA"
      },
      "execution_count": 36,
      "outputs": [
        {
          "output_type": "display_data",
          "data": {
            "text/plain": [
              "<Figure size 432x288 with 1 Axes>"
            ],
            "image/png": "[encoded data removed]"
          },
          "metadata": {
            "needs_background": "light"
          }
        }
      ]
    },
    {
      "cell_type": "markdown",
      "source": [
        "To find the probabilty of a point use the code below:\n",
        "\n",
        "''\n",
        "nbinom.pmf($X,P,r$)\n",
        "''"
      ],
      "metadata": {
        "id": "O-3lH-zz9p8f"
      }
    },
    {
      "cell_type": "code",
      "source": [
        "X = 2\n",
        "r, p = [4, 0.6]\n",
        "print(f'The probabilty of *X={X}* in the NB({r},{p}) Distribution is: ', nbinom.pmf(X, p=p, n=r))"
      ],
      "metadata": {
        "colab": {
          "base_uri": "https://localhost:8080/"
        },
        "outputId": "592bd653-85f5-4c61-ff66-13afe27a2d6e",
        "id": "Nw2yekQQ9p8g"
      },
      "execution_count": 37,
      "outputs": [
        {
          "output_type": "stream",
          "name": "stdout",
          "text": [
            "The probabilty of *X=2* in the NB(4,0.6) Distribution is:  0.2073599999999998\n"
          ]
        }
      ]
    },
    {
      "cell_type": "code",
      "source": [
        "x1 = list(np.arange(0,X))\n",
        "x2 = X\n",
        "x3 = list(np.arange(X+1,n+1))\n",
        "plt.bar(x1, nbinom.pmf(x1, p=p, n=r), color ='gray')\n",
        "plt.bar(x2, nbinom.pmf(x2, p=p, n=r), color ='#DFFF00')\n",
        "plt.bar(x3, nbinom.pmf(x3, p=p, n=r), color ='gray')\n",
        "plt.xlim(-1,n+1)\n",
        "plt.xticks(np.arange(0,n+1), fontsize=12, ha='center')\n",
        "plt.title(f'NB({r}, {p})')\n",
        "prob = np.sum([nbinom.pmf(x2, p=p, n=r)])\n",
        "plt.text(8, 0.02, f'$P({np.round(X, 3)}) = $ {np.round(prob, 2)}', fontsize=18);"
      ],
      "metadata": {
        "colab": {
          "base_uri": "https://localhost:8080/",
          "height": 284
        },
        "outputId": "e5ae9032-f23b-47e9-b06a-ff736ce742fd",
        "id": "vi_a387B9p8h"
      },
      "execution_count": 38,
      "outputs": [
        {
          "output_type": "display_data",
          "data": {
            "text/plain": [
              "<Figure size 432x288 with 1 Axes>"
            ],
            "image/png": "[encoded data removed]"
          },
          "metadata": {
            "needs_background": "light"
          }
        }
      ]
    },
    {
      "cell_type": "markdown",
      "source": [
        "<a name='Geometric_Distribution'></a>\n",
        "\n",
        "## **2.4. Geometric Distribution:**"
      ],
      "metadata": {
        "id": "XMMnBa5iJUpD"
      }
    },
    {
      "cell_type": "markdown",
      "source": [
        "The geometric distribution is a special case of the negative binomial distribution.\n",
        "\n",
        "Suppose now that $n$ independent trials, each of which results in a “success” with probability $p$ and in a “failure” with probability $1 − p$, are to be performed. If $X$ represents the number of experiemnts to the occurrence of the fisrt success, then $X$ is said to be a geometric random variable with parameter $(p)$.\n",
        "\n",
        "$P(X=i) = (1-p)^{i-1}\\ p \\quad \\quad i = 1,2,...,\\infty$\n",
        "\n",
        "$\\\\ $\n",
        "\n",
        "$E(X) = \\frac{1}{p}$\n",
        "\n",
        "$Var(X) = \\frac{1-p}{p^2} = \\frac{q}{P^2}$\n",
        "\n",
        "$Median(X) = \\lceil \\frac{-1}{log_2 (1-p)} \\rceil$\n",
        "\n",
        "$Skewness(X) = \\frac{2\\ -\\ p}{\\sqrt{1\\ -\\ p}}$\n",
        "\n",
        "$Kurtosis(X) = 6+ \\frac{p^2}{1\\ -\\ p}$\n",
        "\n",
        "$\\\\ $\n",
        "\n",
        "Moment-generating function:\n",
        "\n",
        "$M_{x}(t) = \\frac{p\\ e^t}{1\\ -\\ q\\ e^t}$\n",
        "\n",
        "$\\\\ $\n",
        "\n",
        "$CDF = F(X=x) = 1-q^x$"
      ],
      "metadata": {
        "id": "7v4WrQTfYtww"
      }
    },
    {
      "cell_type": "code",
      "source": [
        "np.random.seed(1)\n",
        "N = 1000000\n",
        "p = 0.6\n",
        "\n",
        "geo_data = np.random.geometric(p = p, size = N)\n",
        "\n",
        "sns.histplot(geo_data, color='orange', stat='density', bins=50)\n",
        "\n",
        "plt.xlim(1,15)\n",
        "plt.xticks(list(range(1,15)), fontsize=12, ha='center')\n",
        "plt.title('Geometric Distribution');"
      ],
      "metadata": {
        "id": "-zniiZHOJaki",
        "colab": {
          "base_uri": "https://localhost:8080/",
          "height": 284
        },
        "outputId": "1ddba456-6ff0-49d8-dd52-3e822f762440"
      },
      "execution_count": 39,
      "outputs": [
        {
          "output_type": "display_data",
          "data": {
            "text/plain": [
              "<Figure size 432x288 with 1 Axes>"
            ],
            "image/png": "[encoded data removed]"
          },
          "metadata": {
            "needs_background": "light"
          }
        }
      ]
    },
    {
      "cell_type": "code",
      "source": [
        "p = 0.6\n",
        "print(f'The mean of the G({p}) Distribution is: ', np.round(geom.mean(p = p), 4))\n",
        "print(f'The median of the G({p}) Distribution is: ', np.round(geom.median(p = p), 4))\n",
        "print(f'The variance of the G({p}) Distribution is: ', np.round(geom.var(p = p), 4))\n",
        "print(f'The standard deviation of the G({p}) Distribution is: ', np.round(geom.std(p = p), 4))\n",
        "print(f'The skewness of the G({p}) Distribution is: ', np.round(geom.stats(p = p, moments='mvsk')[2], 4))\n",
        "print(f'The kurtosis of the G({p}) Distribution is: ', np.round(geom.stats(p = p, moments='mvsk')[3], 4))"
      ],
      "metadata": {
        "colab": {
          "base_uri": "https://localhost:8080/"
        },
        "id": "7n0s2hHUilT8",
        "outputId": "ece50203-effb-4cad-d962-01c9b7c10feb"
      },
      "execution_count": 40,
      "outputs": [
        {
          "output_type": "stream",
          "name": "stdout",
          "text": [
            "The mean of the G(0.6) Distribution is:  1.6667\n",
            "The median of the G(0.6) Distribution is:  1.0\n",
            "The variance of the G(0.6) Distribution is:  1.1111\n",
            "The standard deviation of the G(0.6) Distribution is:  1.0541\n",
            "The skewness of the G(0.6) Distribution is:  2.2136\n",
            "The kurtosis of the G(0.6) Distribution is:  6.9\n"
          ]
        }
      ]
    },
    {
      "cell_type": "markdown",
      "source": [
        "Integrating the PDF, gives us the cumulative distribution function (CDF) which is a function that maps values to their percentile rank in a distribution."
      ],
      "metadata": {
        "id": "ktPXTBJfItDJ"
      }
    },
    {
      "cell_type": "code",
      "source": [
        "n = 6\n",
        "x = np.arange(0, n, 0.001)\n",
        "x1 = np.arange(0, n)\n",
        "x2 = np.arange(0, n-1) + 0.999\n",
        "\n",
        "plt.scatter(x, geom.cdf(x, p=p), color = 'r')\n",
        "plt.scatter(x2, geom.cdf(x2, p=p), color = 'white', edgecolor='black', s=100)\n",
        "plt.scatter(x1, geom.cdf(x1, p=p), color = 'black', edgecolor='black', s=100)\n",
        "plt.xlim(-0.1,n);"
      ],
      "metadata": {
        "colab": {
          "base_uri": "https://localhost:8080/",
          "height": 265
        },
        "id": "0HIc4gGnMmcY",
        "outputId": "f7328e7f-52a0-498b-8ecf-484afbf3aa37"
      },
      "execution_count": 41,
      "outputs": [
        {
          "output_type": "display_data",
          "data": {
            "text/plain": [
              "<Figure size 432x288 with 1 Axes>"
            ],
            "image/png": "[encoded data removed]"
          },
          "metadata": {
            "needs_background": "light"
          }
        }
      ]
    },
    {
      "cell_type": "markdown",
      "source": [
        "To find the left probabilty of a point use the code below:\n",
        "\n",
        "''\n",
        "geom.cdf($X,P$)\n",
        "''\n",
        "\n",
        "To find the right probabilty of a point use the code below:\n",
        "\n",
        "''\n",
        "geom.sf($X,P$)\n",
        "''"
      ],
      "metadata": {
        "id": "QX0gpNAcjkxZ"
      }
    },
    {
      "cell_type": "code",
      "source": [
        "X = 3\n",
        "p = 0.6\n",
        "print(f'The left probabilty of *{X}* in the G({p}) Distribution is: ', geom.cdf(X, p=p))\n",
        "print(f'The Right probabilty of *{X}* in the G({p}) Distribution is: ', geom.sf(X, p=p))"
      ],
      "metadata": {
        "colab": {
          "base_uri": "https://localhost:8080/"
        },
        "outputId": "4294f0ad-6d1a-4ad1-a8fc-d197da3da4e8",
        "id": "TDv634j5jkxb"
      },
      "execution_count": 42,
      "outputs": [
        {
          "output_type": "stream",
          "name": "stdout",
          "text": [
            "The left probabilty of *3* in the G(0.6) Distribution is:  0.9359999999999999\n",
            "The Right probabilty of *3* in the G(0.6) Distribution is:  0.06400000000000002\n"
          ]
        }
      ]
    },
    {
      "cell_type": "markdown",
      "source": [
        "To find the probabilty between two points $[X,Y]$ use the code below:"
      ],
      "metadata": {
        "id": "Fyxvnvnokj0G"
      }
    },
    {
      "cell_type": "code",
      "source": [
        "X = 2\n",
        "Y = 4\n",
        "p = 0.6\n",
        "xs = np.arange(X, Y+1)\n",
        "print(f'The probabilty between *[{X}, {Y}]* in the G({p}) Distribution is: ', np.sum([geom.pmf(xs, p=p) for xs in xs]))"
      ],
      "metadata": {
        "colab": {
          "base_uri": "https://localhost:8080/"
        },
        "outputId": "ee0d22b9-8b10-429a-e2dd-aec7a009169a",
        "id": "DOoHBL7-kj0G"
      },
      "execution_count": 43,
      "outputs": [
        {
          "output_type": "stream",
          "name": "stdout",
          "text": [
            "The probabilty between *[2, 4]* in the G(0.6) Distribution is:  0.3744\n"
          ]
        }
      ]
    },
    {
      "cell_type": "code",
      "source": [
        "x1 = list(np.arange(1,X))\n",
        "x2 = list(np.arange(X,Y+1))\n",
        "x3 = list(np.arange(Y+1,Y+10))\n",
        "plt.bar(x1, geom.pmf(x1, p=p), color ='gray')\n",
        "plt.bar(x2, geom.pmf(x2, p=p), color ='#DFFF00')\n",
        "plt.bar(x3, geom.pmf(x3, p=p), color ='gray')\n",
        "plt.xlim(0,10)\n",
        "plt.xticks(np.arange(0,Y+10), fontsize=12, ha='center')\n",
        "plt.title(f'G({p})')\n",
        "xs = np.arange(X, Y+1)\n",
        "prob = np.sum([geom.pmf(xs, p=p) for xs in xs])\n",
        "plt.text(8.5, 0.02, f'$P({np.round(X, 3)} \\leq X \\leq {np.round(Y, 3)})$ \\n {np.round(prob, 2)}', fontsize=18);"
      ],
      "metadata": {
        "colab": {
          "base_uri": "https://localhost:8080/",
          "height": 284
        },
        "outputId": "eea9a2f3-8fce-4cb7-b214-4c132c0e1a7c",
        "id": "LByIeWG_kj0I"
      },
      "execution_count": 44,
      "outputs": [
        {
          "output_type": "display_data",
          "data": {
            "text/plain": [
              "<Figure size 432x288 with 1 Axes>"
            ],
            "image/png": "[encoded data removed]"
          },
          "metadata": {
            "needs_background": "light"
          }
        }
      ]
    },
    {
      "cell_type": "markdown",
      "source": [
        "To find the probabilty between two points $(X,Y)$ use the code below:"
      ],
      "metadata": {
        "id": "u1GuWGA-mJrf"
      }
    },
    {
      "cell_type": "code",
      "source": [
        "X = 2\n",
        "Y = 4\n",
        "p = 0.6\n",
        "xs = np.arange(X+1, Y)\n",
        "print(f'The probabilty between *({X}, {Y})* in the Normal Standard Distribution is: ', np.sum([geom.pmf(xs, p=p) for xs in xs]))"
      ],
      "metadata": {
        "colab": {
          "base_uri": "https://localhost:8080/"
        },
        "outputId": "8c4351e2-ad4a-4c0d-d886-3017bd024401",
        "id": "1efpZjPNmJrg"
      },
      "execution_count": 45,
      "outputs": [
        {
          "output_type": "stream",
          "name": "stdout",
          "text": [
            "The probabilty between *(2, 4)* in the Normal Standard Distribution is:  0.09600000000000002\n"
          ]
        }
      ]
    },
    {
      "cell_type": "code",
      "source": [
        "x1 = list(np.arange(1,X+1))\n",
        "x2 = list(np.arange(X+1,Y))\n",
        "x3 = list(np.arange(Y,Y+10))\n",
        "plt.bar(x1, geom.pmf(x1, p=p), color ='gray')\n",
        "plt.bar(x2, geom.pmf(x2, p=p), color ='#DFFF00')\n",
        "plt.bar(x3, geom.pmf(x3, p=p), color ='gray')\n",
        "plt.xlim(0,10)\n",
        "plt.xticks(np.arange(0,Y+10), fontsize=12, ha='center')\n",
        "plt.title(f'G({p})')\n",
        "xs = np.arange(X+1, Y)\n",
        "prob = np.sum([geom.pmf(xs, p=p) for xs in xs])\n",
        "plt.text(8.5, 0.02, f'$P({np.round(X, 3)} < X < {np.round(Y, 3)})$ \\n {np.round(prob, 2)}', fontsize=18);"
      ],
      "metadata": {
        "colab": {
          "base_uri": "https://localhost:8080/",
          "height": 284
        },
        "outputId": "202bb04a-ea53-4a10-a92d-a4ec6f5a0d76",
        "id": "6n-Cnw9HmJrh"
      },
      "execution_count": 46,
      "outputs": [
        {
          "output_type": "display_data",
          "data": {
            "text/plain": [
              "<Figure size 432x288 with 1 Axes>"
            ],
            "image/png": "[encoded data removed]"
          },
          "metadata": {
            "needs_background": "light"
          }
        }
      ]
    },
    {
      "cell_type": "markdown",
      "source": [
        "To find the probabilty between two points $[X,Y)$ use the code below:"
      ],
      "metadata": {
        "id": "dY81LwTLnLIO"
      }
    },
    {
      "cell_type": "code",
      "source": [
        "X = 2\n",
        "Y = 4\n",
        "p = 0.6\n",
        "xs = np.arange(X, Y)\n",
        "print(f'The probabilty between *[{X}, {Y})* in the G({p}) Distribution is: ', np.sum([geom.pmf(xs, p=p) for xs in xs]))"
      ],
      "metadata": {
        "colab": {
          "base_uri": "https://localhost:8080/"
        },
        "outputId": "a82d6b30-8091-48be-870f-3fbc351906cb",
        "id": "wADy_TTTnLIP"
      },
      "execution_count": 47,
      "outputs": [
        {
          "output_type": "stream",
          "name": "stdout",
          "text": [
            "The probabilty between *[2, 4)* in the G(0.6) Distribution is:  0.336\n"
          ]
        }
      ]
    },
    {
      "cell_type": "code",
      "source": [
        "x1 = list(np.arange(1,X))\n",
        "x2 = list(np.arange(X,Y))\n",
        "x3 = list(np.arange(Y,n+1))\n",
        "plt.bar(x1, geom.pmf(x1, p=p), color ='gray')\n",
        "plt.bar(x2, geom.pmf(x2, p=p), color ='#DFFF00')\n",
        "plt.bar(x3, geom.pmf(x3, p=p), color ='gray')\n",
        "plt.xlim(0,10)\n",
        "plt.xticks(np.arange(0,Y+10), fontsize=12, ha='center')\n",
        "plt.title(f'G({p})')\n",
        "xs = np.arange(X, Y)\n",
        "prob = np.sum([geom.pmf(xs, p=p) for xs in xs])\n",
        "plt.text(8.5, 0.02, f'$P({np.round(X, 3)} \\leq X < {np.round(Y, 3)})$ \\n {np.round(prob, 2)}', fontsize=18);"
      ],
      "metadata": {
        "colab": {
          "base_uri": "https://localhost:8080/",
          "height": 284
        },
        "outputId": "90d6ec58-b34c-4b33-e040-a8e850580e40",
        "id": "WhrahEjanLIQ"
      },
      "execution_count": 48,
      "outputs": [
        {
          "output_type": "display_data",
          "data": {
            "text/plain": [
              "<Figure size 432x288 with 1 Axes>"
            ],
            "image/png": "[encoded data removed]"
          },
          "metadata": {
            "needs_background": "light"
          }
        }
      ]
    },
    {
      "cell_type": "markdown",
      "source": [
        "To find the probabilty between two points $(X,Y]$ use the code below:"
      ],
      "metadata": {
        "id": "qi58XxsXoJIS"
      }
    },
    {
      "cell_type": "code",
      "source": [
        "X = 2\n",
        "Y = 4\n",
        "p = 0.6\n",
        "xs = np.arange(X+1, Y+1)\n",
        "print(f'The probabilty between *({X}, {Y}]* in the G({p}) Distribution is: ', np.sum([geom.pmf(xs, p=p) for xs in xs]))"
      ],
      "metadata": {
        "colab": {
          "base_uri": "https://localhost:8080/"
        },
        "outputId": "f926f92a-47ed-4b3a-8d54-9f4b85c89066",
        "id": "dlEYv_COoJIT"
      },
      "execution_count": 49,
      "outputs": [
        {
          "output_type": "stream",
          "name": "stdout",
          "text": [
            "The probabilty between *(2, 4]* in the G(0.6) Distribution is:  0.13440000000000002\n"
          ]
        }
      ]
    },
    {
      "cell_type": "code",
      "source": [
        "x1 = list(np.arange(1,X+1))\n",
        "x2 = list(np.arange(X+1,Y+1))\n",
        "x3 = list(np.arange(Y+1,Y+10))\n",
        "plt.bar(x1, geom.pmf(x1, p=p), color ='gray')\n",
        "plt.bar(x2, geom.pmf(x2, p=p), color ='#DFFF00')\n",
        "plt.bar(x3, geom.pmf(x3, p=p), color ='gray')\n",
        "plt.xlim(0,10)\n",
        "plt.xticks(np.arange(0,Y+10), fontsize=12, ha='center')\n",
        "plt.title(f'G({p})')\n",
        "xs = np.arange(X+1, Y+1)\n",
        "prob = np.sum([geom.pmf(xs, p=p) for xs in xs])\n",
        "plt.text(8., 0.02, f'$P({np.round(X, 3)} < X \\leq {np.round(Y, 3)})$ \\n {np.round(prob, 2)}', fontsize=18);"
      ],
      "metadata": {
        "colab": {
          "base_uri": "https://localhost:8080/",
          "height": 284
        },
        "outputId": "b0185b1f-e393-40ec-cab7-8828ecefb138",
        "id": "O4Hm6-OVoJIU"
      },
      "execution_count": 50,
      "outputs": [
        {
          "output_type": "display_data",
          "data": {
            "text/plain": [
              "<Figure size 432x288 with 1 Axes>"
            ],
            "image/png": "[encoded data removed]"
          },
          "metadata": {
            "needs_background": "light"
          }
        }
      ]
    },
    {
      "cell_type": "markdown",
      "source": [
        "To find the probabilty of a point use the code below:\n",
        "\n",
        "''\n",
        "geom.pmf($X,P$)\n",
        "''"
      ],
      "metadata": {
        "id": "6DDYvsknpDYv"
      }
    },
    {
      "cell_type": "code",
      "source": [
        "X = 2\n",
        "p = 0.6\n",
        "print(f'The probabilty of *X={X}* in the G({p}) Distribution is: ', geom.pmf(X, p=p))"
      ],
      "metadata": {
        "colab": {
          "base_uri": "https://localhost:8080/"
        },
        "outputId": "7783f030-e27a-4ae6-cf02-4cc16dcc6dab",
        "id": "QZwbC5rJpDYw"
      },
      "execution_count": 51,
      "outputs": [
        {
          "output_type": "stream",
          "name": "stdout",
          "text": [
            "The probabilty of *X=2* in the G(0.6) Distribution is:  0.24\n"
          ]
        }
      ]
    },
    {
      "cell_type": "code",
      "source": [
        "x1 = list(np.arange(1,X))\n",
        "x2 = X\n",
        "x3 = list(np.arange(X+1,Y+10))\n",
        "plt.bar(x1, geom.pmf(x1, p=p), color ='gray')\n",
        "plt.bar(x2, geom.pmf(x2, p=p), color ='#DFFF00')\n",
        "plt.bar(x3, geom.pmf(x3, p=p), color ='gray')\n",
        "plt.xlim(0,10)\n",
        "plt.xticks(np.arange(0,Y+10), fontsize=12, ha='center')\n",
        "plt.title(f'G({p})')\n",
        "prob = np.sum([geom.pmf(x2, p=p)])\n",
        "plt.text(8.5, 0.02, f'$P({np.round(X, 3)}) = $ {np.round(prob, 2)}', fontsize=18);"
      ],
      "metadata": {
        "colab": {
          "base_uri": "https://localhost:8080/",
          "height": 284
        },
        "outputId": "1a4f3029-714b-4664-a4de-fe7c88fd0971",
        "id": "qeG0Ppa5pDYy"
      },
      "execution_count": 52,
      "outputs": [
        {
          "output_type": "display_data",
          "data": {
            "text/plain": [
              "<Figure size 432x288 with 1 Axes>"
            ],
            "image/png": "[encoded data removed]"
          },
          "metadata": {
            "needs_background": "light"
          }
        }
      ]
    },
    {
      "cell_type": "markdown",
      "source": [
        "$P(X>s+t\\ |\\ X>s) = P(X>t)$"
      ],
      "metadata": {
        "id": "wHfxrvvOyRiq"
      }
    },
    {
      "cell_type": "markdown",
      "source": [
        "<a name='Poisson_Distribution'></a>\n",
        "\n",
        "## **2.5. Poisson Distribution:**"
      ],
      "metadata": {
        "id": "Bl35Ww-5HNtN"
      }
    },
    {
      "cell_type": "markdown",
      "source": [
        "$P(X=x) = \\frac{e^{-\\lambda}\\lambda^x}{x!} \\quad \\quad x = 0,1,...,\\infty$\n",
        "\n",
        "$\\\\ $\n",
        "\n",
        "$E(X) = \\lambda$\n",
        "\n",
        "$Var(X) = \\lambda$\n",
        "\n",
        "$Skewness(X) = \\lambda^{-\\frac{1}{2}}$\n",
        "\n",
        "$Kurtosis(X) = \\lambda^{-1}$\n",
        "\n",
        "$Mode(X) = \\begin{cases}\\lambda,\\lambda-1 & \\lambda \\in integer \\\\ [\\lambda] & \\lambda \\not\\in integer \\end{cases}$\n",
        "\n",
        "$\\\\ $\n",
        "\n",
        "Moment-generating function:\n",
        "\n",
        "$M_{x}(t) = e^{\\lambda(e^t-1)}$"
      ],
      "metadata": {
        "id": "Yv5EDsRSZbJO"
      }
    },
    {
      "cell_type": "code",
      "source": [
        "np.random.seed(1)\n",
        "N = 1000000\n",
        "lam = 3\n",
        "\n",
        "poi_data = np.random.poisson(lam = lam, size = N)\n",
        "\n",
        "sns.histplot(poi_data, color='Brown', stat='density', bins=50)\n",
        "\n",
        "plt.title('Poisson Distribution');"
      ],
      "metadata": {
        "id": "f1pJM57IHM9n",
        "colab": {
          "base_uri": "https://localhost:8080/",
          "height": 281
        },
        "outputId": "d9c61aba-d771-41b4-f4ed-3f187c2f59ad"
      },
      "execution_count": 53,
      "outputs": [
        {
          "output_type": "display_data",
          "data": {
            "text/plain": [
              "<Figure size 432x288 with 1 Axes>"
            ],
            "image/png": "[encoded data removed]"
          },
          "metadata": {
            "needs_background": "light"
          }
        }
      ]
    },
    {
      "cell_type": "code",
      "source": [
        "def mode_poisson(lam):\n",
        "  if math.modf(lam)[0] == 0.0:\n",
        "    return [lam, lam-1]\n",
        "  else:\n",
        "    return np.floor(lam)"
      ],
      "metadata": {
        "id": "rSZc3xTyXLcW"
      },
      "execution_count": 54,
      "outputs": []
    },
    {
      "cell_type": "code",
      "source": [
        "lam = 3\n",
        "print(f'The mean of the P({lam}) Distribution is: ', np.round(poisson.mean(lam), 4))\n",
        "print(f'The median of the P({lam}) Distribution is: ', np.round(poisson.median(lam), 4))\n",
        "print(f'The variance of the P({lam}) Distribution is: ', np.round(poisson.var(lam), 4))\n",
        "print(f'The standard deviation of the P({lam}) Distribution is: ', np.round(poisson.std(lam), 4))\n",
        "print(f'The mode of the P({lam}) Distribution is: ', np.round(mode_poisson(lam), 4))\n",
        "print(f'The skewness of the P({lam}) Distribution is: ', np.round(poisson.stats(lam, moments='mvsk')[2], 4))\n",
        "print(f'The kurtosis of the P({lam}) Distribution is: ', np.round(poisson.stats(lam, moments='mvsk')[3], 4))"
      ],
      "metadata": {
        "colab": {
          "base_uri": "https://localhost:8080/"
        },
        "id": "NVaPuaB8dKs3",
        "outputId": "68a9fe60-8862-47f8-ab2c-e67d6b90c41f"
      },
      "execution_count": 55,
      "outputs": [
        {
          "output_type": "stream",
          "name": "stdout",
          "text": [
            "The mean of the P(3) Distribution is:  3.0\n",
            "The median of the P(3) Distribution is:  3.0\n",
            "The variance of the P(3) Distribution is:  3.0\n",
            "The standard deviation of the P(3) Distribution is:  1.7321\n",
            "The mode of the P(3) Distribution is:  [3 2]\n",
            "The skewness of the P(3) Distribution is:  0.5774\n",
            "The kurtosis of the P(3) Distribution is:  0.3333\n"
          ]
        }
      ]
    },
    {
      "cell_type": "markdown",
      "source": [
        "Integrating the PDF, gives us the cumulative distribution function (CDF) which is a function that maps values to their percentile rank in a distribution."
      ],
      "metadata": {
        "id": "tuMbDMELNsM6"
      }
    },
    {
      "cell_type": "code",
      "source": [
        "n = 8\n",
        "x = np.arange(0, n, 0.001)\n",
        "x1 = np.arange(0, n)\n",
        "x2 = np.arange(0, n-1) + 0.999\n",
        "\n",
        "plt.scatter(x, poisson.cdf(x, lam), color = 'r')\n",
        "plt.scatter(x2, poisson.cdf(x2, lam), color = 'white', edgecolor='black', s=100)\n",
        "plt.scatter(x1, poisson.cdf(x1, lam), color = 'black', edgecolor='black', s=100)\n",
        "plt.xlim(-0.1,n);"
      ],
      "metadata": {
        "colab": {
          "base_uri": "https://localhost:8080/",
          "height": 265
        },
        "id": "SYtrA-ETNhhd",
        "outputId": "ab9870f5-c7fe-4cae-cdd1-b9ab0aa4e7c2"
      },
      "execution_count": 56,
      "outputs": [
        {
          "output_type": "display_data",
          "data": {
            "text/plain": [
              "<Figure size 432x288 with 1 Axes>"
            ],
            "image/png": "[encoded data removed]"
          },
          "metadata": {
            "needs_background": "light"
          }
        }
      ]
    },
    {
      "cell_type": "markdown",
      "source": [
        "The poisson distribution histogram depends on the $\\lambda$."
      ],
      "metadata": {
        "id": "SJ5RowUaeXoj"
      }
    },
    {
      "cell_type": "code",
      "source": [
        "lam1, lam2, lam3 = [3, 4, 10]\n",
        "\n",
        "fig, axes = plt.subplots(1, 3, figsize=(15, 5), sharey=True)\n",
        "fig.suptitle('Poisson Distribution')\n",
        "\n",
        "sns.histplot(ax=axes[0], x=np.random.poisson(lam = lam1, size = N),  bins=50, color = '#B4EA1A')\n",
        "axes[0].set_title(f'P({lam1})')\n",
        "\n",
        "sns.histplot(ax=axes[1], x=np.random.poisson(lam = lam2, size = N),  bins=50, color = '#6960EC')\n",
        "axes[1].set_title(f'P({lam2})')\n",
        "\n",
        "sns.histplot(ax=axes[2], x=np.random.poisson(lam = lam3, size = N),  bins=50, color = '#F75D59')\n",
        "axes[2].set_title(f'P({lam3})');"
      ],
      "metadata": {
        "colab": {
          "base_uri": "https://localhost:8080/",
          "height": 356
        },
        "id": "Oca3B_SaedDi",
        "outputId": "8774d02f-6c9f-4c88-ae6b-af1f03a8e0e7"
      },
      "execution_count": 98,
      "outputs": [
        {
          "output_type": "display_data",
          "data": {
            "text/plain": [
              "<Figure size 1080x360 with 3 Axes>"
            ],
            "image/png": "[encoded data removed]"
          },
          "metadata": {
            "needs_background": "light"
          }
        }
      ]
    },
    {
      "cell_type": "markdown",
      "source": [
        "To find the left probabilty of a point use the code below:\n",
        "\n",
        "''\n",
        "poisson.cdf($\\lambda$)\n",
        "''\n",
        "\n",
        "To find the right probabilty of a point use the code below:\n",
        "\n",
        "''\n",
        "poisson.sf($\\lambda$)\n",
        "''"
      ],
      "metadata": {
        "id": "fndQ_A7BgO83"
      }
    },
    {
      "cell_type": "code",
      "source": [
        "X = 3\n",
        "lam = 3\n",
        "print(f'The left probabilty of *{X}* in the P({lam}) Distribution is: ', poisson.cdf(X, lam))\n",
        "print(f'The Right probabilty of *{X}* in the P({lam}) Distribution is: ', poisson.sf(X, lam))"
      ],
      "metadata": {
        "colab": {
          "base_uri": "https://localhost:8080/"
        },
        "outputId": "d470add7-da35-4c3c-e91f-2f7c7583b229",
        "id": "7ZIdi46ggO85"
      },
      "execution_count": 58,
      "outputs": [
        {
          "output_type": "stream",
          "name": "stdout",
          "text": [
            "The left probabilty of *3* in the P(3) Distribution is:  0.6472318887822313\n",
            "The Right probabilty of *3* in the P(3) Distribution is:  0.35276811121776874\n"
          ]
        }
      ]
    },
    {
      "cell_type": "markdown",
      "source": [
        "To find the probabilty between two points $[X,Y]$ use the code below:"
      ],
      "metadata": {
        "id": "hqGdGmQVFws-"
      }
    },
    {
      "cell_type": "code",
      "source": [
        "X = 2\n",
        "Y = 5\n",
        "lam = 3\n",
        "xs = np.arange(X, Y+1)\n",
        "print(f'The probabilty between *[{X}, {Y}]* in the P({lam}) Distribution is: ', np.sum([poisson.pmf(xs, lam) for xs in xs]))"
      ],
      "metadata": {
        "colab": {
          "base_uri": "https://localhost:8080/"
        },
        "outputId": "fc083bb0-b61c-45d1-e009-04820d814c15",
        "id": "Q5VYhhDBFws-"
      },
      "execution_count": 59,
      "outputs": [
        {
          "output_type": "stream",
          "name": "stdout",
          "text": [
            "The probabilty between *[2, 5]* in the P(3) Distribution is:  0.716933784497241\n"
          ]
        }
      ]
    },
    {
      "cell_type": "code",
      "source": [
        "x1 = list(np.arange(0,X))\n",
        "x2 = list(np.arange(X,Y+1))\n",
        "x3 = list(np.arange(Y+1,Y+10))\n",
        "plt.bar(x1, poisson.pmf(x1, lam), color ='gray')\n",
        "plt.bar(x2, poisson.pmf(x2, lam), color ='#DFFF00')\n",
        "plt.bar(x3, poisson.pmf(x3, lam), color ='gray')\n",
        "plt.xlim(-1,Y+10)\n",
        "plt.xticks(np.arange(0,Y+10), fontsize=12, ha='center')\n",
        "plt.title(f'$P\\ (\\lambda = {lam})$')\n",
        "xs = np.arange(X, Y+1)\n",
        "prob = np.sum([poisson.pmf(xs, lam) for xs in xs])\n",
        "plt.text(9, 0.02, f'$P({np.round(X, 3)} \\leq X \\leq {np.round(Y, 3)})$ \\n {np.round(prob, 2)}', fontsize=18);"
      ],
      "metadata": {
        "colab": {
          "base_uri": "https://localhost:8080/",
          "height": 286
        },
        "id": "k_b3ct93GOio",
        "outputId": "1d247b32-7278-45b0-a76a-8c3370bb51d2"
      },
      "execution_count": 60,
      "outputs": [
        {
          "output_type": "display_data",
          "data": {
            "text/plain": [
              "<Figure size 432x288 with 1 Axes>"
            ],
            "image/png": "[encoded data removed]"
          },
          "metadata": {
            "needs_background": "light"
          }
        }
      ]
    },
    {
      "cell_type": "markdown",
      "source": [
        "To find the probabilty between two points $(X,Y)$ use the code below:"
      ],
      "metadata": {
        "id": "GAvzrWPEGo1l"
      }
    },
    {
      "cell_type": "code",
      "source": [
        "X = 2\n",
        "Y = 5\n",
        "lam = 3\n",
        "xs = np.arange(X+1, Y)\n",
        "print(f'The probabilty between *({X}, {Y})* in the P({lam1}) Distribution is: ', np.sum([poisson.pmf(xs, lam) for xs in xs]))"
      ],
      "metadata": {
        "colab": {
          "base_uri": "https://localhost:8080/"
        },
        "outputId": "17d65f0d-df3c-4c0f-b315-b0ae3ec543f5",
        "id": "e9iBud3qGo1l"
      },
      "execution_count": 61,
      "outputs": [
        {
          "output_type": "stream",
          "name": "stdout",
          "text": [
            "The probabilty between *(2, 5)* in the P(3) Distribution is:  0.3920731633969286\n"
          ]
        }
      ]
    },
    {
      "cell_type": "code",
      "source": [
        "x1 = list(np.arange(0,X+1))\n",
        "x2 = list(np.arange(X+1,Y))\n",
        "x3 = list(np.arange(Y,Y+10))\n",
        "plt.bar(x1, poisson.pmf(x1, lam), color ='gray')\n",
        "plt.bar(x2, poisson.pmf(x2, lam), color ='#DFFF00')\n",
        "plt.bar(x3, poisson.pmf(x3, lam), color ='gray')\n",
        "plt.xlim(-1,Y+10)\n",
        "plt.xticks(np.arange(0,Y+10), fontsize=12, ha='center')\n",
        "plt.title(f'$P\\ (\\lambda = {lam})$')\n",
        "xs = np.arange(X+1, Y)\n",
        "prob = np.sum([poisson.pmf(xs, lam) for xs in xs])\n",
        "plt.text(9, 0.02, f'$P({np.round(X, 3)} < X < {np.round(Y, 3)})$ \\n {np.round(prob, 2)}', fontsize=18);"
      ],
      "metadata": {
        "colab": {
          "base_uri": "https://localhost:8080/",
          "height": 286
        },
        "outputId": "25ea5192-ac1c-41a3-815e-7e72fcf6d3fb",
        "id": "0yfJR2TGGo1m"
      },
      "execution_count": 62,
      "outputs": [
        {
          "output_type": "display_data",
          "data": {
            "text/plain": [
              "<Figure size 432x288 with 1 Axes>"
            ],
            "image/png": "[encoded data removed]"
          },
          "metadata": {
            "needs_background": "light"
          }
        }
      ]
    },
    {
      "cell_type": "markdown",
      "source": [
        "To find the probabilty between two points $[X,Y)$ use the code below:"
      ],
      "metadata": {
        "id": "yxIp1f3HHI0o"
      }
    },
    {
      "cell_type": "code",
      "source": [
        "X = 2\n",
        "Y = 5\n",
        "lam = 3\n",
        "xs = np.arange(X, Y)\n",
        "print(f'The probabilty between *[{X}, {Y})* in the P({lam1}) Distribution is: ', np.sum([poisson.pmf(xs, lam) for xs in xs]))"
      ],
      "metadata": {
        "colab": {
          "base_uri": "https://localhost:8080/"
        },
        "outputId": "58c1953f-7e31-4052-e818-21d9e1390c50",
        "id": "IqrF0QKUHI0p"
      },
      "execution_count": 63,
      "outputs": [
        {
          "output_type": "stream",
          "name": "stdout",
          "text": [
            "The probabilty between *[2, 5)* in the P(3) Distribution is:  0.6161149710523164\n"
          ]
        }
      ]
    },
    {
      "cell_type": "code",
      "source": [
        "x1 = list(np.arange(0,X))\n",
        "x2 = list(np.arange(X,Y))\n",
        "x3 = list(np.arange(Y,Y+10))\n",
        "plt.bar(x1, poisson.pmf(x1, lam), color ='gray')\n",
        "plt.bar(x2, poisson.pmf(x2, lam), color ='#DFFF00')\n",
        "plt.bar(x3, poisson.pmf(x3, lam), color ='gray')\n",
        "plt.xlim(-1,Y+10)\n",
        "plt.xticks(np.arange(0,Y+10), fontsize=12, ha='center')\n",
        "plt.title(f'$P\\ (\\lambda = {lam})$')\n",
        "xs = np.arange(X, Y)\n",
        "prob = np.sum([poisson.pmf(xs, lam) for xs in xs])\n",
        "plt.text(9, 0.02, f'$P({np.round(X, 3)} \\leq X < {np.round(Y, 3)})$ \\n {np.round(prob, 2)}', fontsize=18);"
      ],
      "metadata": {
        "colab": {
          "base_uri": "https://localhost:8080/",
          "height": 286
        },
        "outputId": "66310c4b-9a14-45eb-afab-cebe2586b636",
        "id": "CDe7D1R2HI0p"
      },
      "execution_count": 64,
      "outputs": [
        {
          "output_type": "display_data",
          "data": {
            "text/plain": [
              "<Figure size 432x288 with 1 Axes>"
            ],
            "image/png": "[encoded data removed]"
          },
          "metadata": {
            "needs_background": "light"
          }
        }
      ]
    },
    {
      "cell_type": "markdown",
      "source": [
        "To find the probabilty between two points $(X,Y]$ use the code below:"
      ],
      "metadata": {
        "id": "9-xTzF_IHvA3"
      }
    },
    {
      "cell_type": "code",
      "source": [
        "X = 2\n",
        "Y = 5\n",
        "lam = 3\n",
        "xs = np.arange(X+1, Y+1)\n",
        "print(f'The probabilty between *({X}, {Y}]* in the P({lam1}) Distribution is: ', np.sum([poisson.pmf(xs, lam) for xs in xs]))"
      ],
      "metadata": {
        "colab": {
          "base_uri": "https://localhost:8080/"
        },
        "outputId": "e5be5ea8-8a6f-4ed9-e3d2-c3c3c2147052",
        "id": "mgkimrDrHvA3"
      },
      "execution_count": 65,
      "outputs": [
        {
          "output_type": "stream",
          "name": "stdout",
          "text": [
            "The probabilty between *(2, 5]* in the P(3) Distribution is:  0.49289197684185315\n"
          ]
        }
      ]
    },
    {
      "cell_type": "code",
      "source": [
        "x1 = list(np.arange(0,X+1))\n",
        "x2 = list(np.arange(X+1,Y+1))\n",
        "x3 = list(np.arange(Y+1,Y+10))\n",
        "plt.bar(x1, poisson.pmf(x1, lam), color ='gray')\n",
        "plt.bar(x2, poisson.pmf(x2, lam), color ='#DFFF00')\n",
        "plt.bar(x3, poisson.pmf(x3, lam), color ='gray')\n",
        "plt.xlim(-1,Y+10)\n",
        "plt.xticks(np.arange(0,Y+10), fontsize=12, ha='center')\n",
        "plt.title(f'$P\\ (\\lambda = {lam})$')\n",
        "xs = np.arange(X+1, Y+1)\n",
        "prob = np.sum([poisson.pmf(xs, lam) for xs in xs])\n",
        "plt.text(9, 0.02, f'$P({np.round(X, 3)} < X \\leq {np.round(Y, 3)})$ \\n {np.round(prob, 2)}', fontsize=18);"
      ],
      "metadata": {
        "colab": {
          "base_uri": "https://localhost:8080/",
          "height": 286
        },
        "outputId": "7db54a1d-e658-4cdf-f434-fe2e2230ba5e",
        "id": "IZpr3BEHHvA4"
      },
      "execution_count": 66,
      "outputs": [
        {
          "output_type": "display_data",
          "data": {
            "text/plain": [
              "<Figure size 432x288 with 1 Axes>"
            ],
            "image/png": "[encoded data removed]"
          },
          "metadata": {
            "needs_background": "light"
          }
        }
      ]
    },
    {
      "cell_type": "markdown",
      "source": [
        "To find the probabilty of a point use the code below:\n",
        "\n",
        "''\n",
        "poisson.pmf($X, \\lambda$)\n",
        "''"
      ],
      "metadata": {
        "id": "ew39Mly0IJSg"
      }
    },
    {
      "cell_type": "code",
      "source": [
        "X = 2\n",
        "lam = 3\n",
        "print(f'The probabilty of *X={X}* in the P({lam}) Distribution is: ', poisson.pmf(X, lam))"
      ],
      "metadata": {
        "colab": {
          "base_uri": "https://localhost:8080/"
        },
        "outputId": "7420ee3a-10ec-4e5e-e27c-6da8ff9338a1",
        "id": "iupFftiIIJSg"
      },
      "execution_count": 67,
      "outputs": [
        {
          "output_type": "stream",
          "name": "stdout",
          "text": [
            "The probabilty of *X=2* in the P(3) Distribution is:  0.22404180765538775\n"
          ]
        }
      ]
    },
    {
      "cell_type": "code",
      "source": [
        "x1 = list(np.arange(0,X))\n",
        "x2 = X\n",
        "x3 = list(np.arange(X+1,Y+10))\n",
        "plt.bar(x1, poisson.pmf(x1, lam), color ='gray')\n",
        "plt.bar(x2, poisson.pmf(x2, lam), color ='#DFFF00')\n",
        "plt.bar(x3, poisson.pmf(x3, lam), color ='gray')\n",
        "plt.xlim(-1,Y+10)\n",
        "plt.xticks(np.arange(0,Y+10), fontsize=12, ha='center')\n",
        "plt.title(f'$P\\ (\\lambda = {lam})$')\n",
        "prob = poisson.pmf(x2, lam)\n",
        "plt.text(9, 0.02, f'$P({np.round(X, 3)}) = $ {np.round(prob, 2)}', fontsize=18);"
      ],
      "metadata": {
        "colab": {
          "base_uri": "https://localhost:8080/",
          "height": 286
        },
        "outputId": "9c469f7b-0ec1-4257-adc9-d050df69c6b6",
        "id": "FVdZwFXTIJSg"
      },
      "execution_count": 68,
      "outputs": [
        {
          "output_type": "display_data",
          "data": {
            "text/plain": [
              "<Figure size 432x288 with 1 Axes>"
            ],
            "image/png": "[encoded data removed]"
          },
          "metadata": {
            "needs_background": "light"
          }
        }
      ]
    },
    {
      "cell_type": "markdown",
      "source": [
        "<a name='Discrete_Uniform_Distribution'></a>\n",
        "\n",
        "## **2.6. Discrete Uniform Distribution:**"
      ],
      "metadata": {
        "id": "dtrIR0AZhZla"
      }
    },
    {
      "cell_type": "markdown",
      "source": [
        "$P(X=x) = \\frac{1}{n} \\quad \\quad x = a,a+1,...,b-1,b$\n",
        "\n",
        "$\\ \\qquad \\qquad \\qquad \\qquad n = b − a + 1$\n",
        "\n",
        "$\\\\ $\n",
        "\n",
        "$E(X) = \\frac{a+b}{2}$\n",
        "\n",
        "$Var(X) = \\frac{n^2-1}{12}$\n",
        "\n",
        "$Median(X) = \\frac{a+b}{2}$\n",
        "\n",
        "$Skewness(X) = 0$\n",
        "\n",
        "$Kurtosis(X) = -\\frac{6(n^2+1)}{5(n^2-1)}$\n",
        "\n",
        "$\\\\ $\n",
        "\n",
        "Moment-generating function:\n",
        "\n",
        "$M_{x}(t) = \\frac{e^{at}-e^{(b+1)t}}{n(1-e^t)}$"
      ],
      "metadata": {
        "id": "faSLp_qDiCBl"
      }
    },
    {
      "cell_type": "code",
      "source": [
        "np.random.seed(1)\n",
        "N = 1000000\n",
        "a, b = [2,5]\n",
        "\n",
        "ud_data = np.random.randint(low = a, high = b+1, size = N)\n",
        "\n",
        "sns.histplot(ud_data, color='Silver', stat='density', bins=50)\n",
        "\n",
        "plt.xticks(list(range(a,b+1)), fontsize=12, ha='center')\n",
        "plt.title('Discrete Uniform Distribution');"
      ],
      "metadata": {
        "colab": {
          "base_uri": "https://localhost:8080/",
          "height": 284
        },
        "id": "LRJzFFArhfGC",
        "outputId": "219028fc-6ded-40e4-91cc-8cf3aacef0c7"
      },
      "execution_count": 69,
      "outputs": [
        {
          "output_type": "display_data",
          "data": {
            "text/plain": [
              "<Figure size 432x288 with 1 Axes>"
            ],
            "image/png": "[encoded data removed]"
          },
          "metadata": {
            "needs_background": "light"
          }
        }
      ]
    },
    {
      "cell_type": "code",
      "source": [
        "a, b = [2,5]\n",
        "r = np.arange(a, b+1)\n",
        "print(f'The mean of the U{r} Distribution is: ', np.round(randint.mean(a, b+1), 4))\n",
        "print(f'The median of the U{r} Distribution is: ', np.round(randint.median(a, b+1), 4))\n",
        "print(f'The variance of the U{r} Distribution is: ', np.round(randint.var(a, b+1), 4))\n",
        "print(f'The standard deviation of the U{r} Distribution is: ', np.round(randint.std(a, b+1), 4))\n",
        "print(f'The skewness of the U{r} Distribution is: ', np.round(randint.stats(a, b+1, moments='mvsk')[2], 4))\n",
        "print(f'The kurtosis of the U{r} Distribution is: ', np.round(randint.stats(a, b+1, moments='mvsk')[3], 4))"
      ],
      "metadata": {
        "colab": {
          "base_uri": "https://localhost:8080/"
        },
        "id": "3WutY8pHnY9x",
        "outputId": "edab00b6-2de4-4c14-f16e-93c80cb5a19f"
      },
      "execution_count": 70,
      "outputs": [
        {
          "output_type": "stream",
          "name": "stdout",
          "text": [
            "The mean of the U[2 3 4 5] Distribution is:  3.5\n",
            "The median of the U[2 3 4 5] Distribution is:  3.0\n",
            "The variance of the U[2 3 4 5] Distribution is:  1.25\n",
            "The standard deviation of the U[2 3 4 5] Distribution is:  1.118\n",
            "The skewness of the U[2 3 4 5] Distribution is:  0.0\n",
            "The kurtosis of the U[2 3 4 5] Distribution is:  -1.36\n"
          ]
        }
      ]
    },
    {
      "cell_type": "markdown",
      "source": [
        "Integrating the PDF, gives us the cumulative distribution function (CDF) which is a function that maps values to their percentile rank in a distribution."
      ],
      "metadata": {
        "id": "CvfsH5z3qgnM"
      }
    },
    {
      "cell_type": "code",
      "source": [
        "n = 6\n",
        "x = np.arange(a-2, b+1, 0.001)\n",
        "x1 = np.arange(a-2, b+1)\n",
        "x2 = np.arange(a-2, b) + 0.999\n",
        "\n",
        "plt.scatter(x, randint.cdf(x, a, b+1), color = 'r')\n",
        "plt.scatter(x2, randint.cdf(x2, a, b+1), color = 'white', edgecolor='black', s=100)\n",
        "plt.scatter(x1, randint.cdf(x1, a, b+1), color = 'black', edgecolor='black', s=100)\n",
        "plt.xlim(1,n);"
      ],
      "metadata": {
        "colab": {
          "base_uri": "https://localhost:8080/",
          "height": 265
        },
        "outputId": "43ef8ddc-ac4a-48f5-f8ba-3b79a173da26",
        "id": "zyRpPYEHqgnU"
      },
      "execution_count": 71,
      "outputs": [
        {
          "output_type": "display_data",
          "data": {
            "text/plain": [
              "<Figure size 432x288 with 1 Axes>"
            ],
            "image/png": "[encoded data removed]"
          },
          "metadata": {
            "needs_background": "light"
          }
        }
      ]
    },
    {
      "cell_type": "markdown",
      "source": [
        "To find the left probabilty of a point use the code below:\n",
        "\n",
        "''\n",
        "randint.cdf($a, b$)\n",
        "''\n",
        "\n",
        "To find the right probabilty of a point use the code below:\n",
        "\n",
        "''\n",
        "randint.sf($a, b$)\n",
        "''"
      ],
      "metadata": {
        "id": "yP7AtGPYr4nI"
      }
    },
    {
      "cell_type": "code",
      "source": [
        "X = 4\n",
        "a, b = [2,5]\n",
        "r = np.arange(a, b+1)\n",
        "print(f'The left probabilty of *{X}* in the U{r} Distribution is: ', randint.cdf(X, a, b+1))\n",
        "print(f'The Right probabilty of *{X}* in the U{r} Distribution is: ', randint.sf(X, a, b+1))"
      ],
      "metadata": {
        "colab": {
          "base_uri": "https://localhost:8080/"
        },
        "outputId": "64337939-00e8-4d17-994e-2379a41a7cf8",
        "id": "YvF4qfAQr4nJ"
      },
      "execution_count": 72,
      "outputs": [
        {
          "output_type": "stream",
          "name": "stdout",
          "text": [
            "The left probabilty of *4* in the U[2 3 4 5] Distribution is:  0.75\n",
            "The Right probabilty of *4* in the U[2 3 4 5] Distribution is:  0.25\n"
          ]
        }
      ]
    },
    {
      "cell_type": "markdown",
      "source": [
        "To find the probabilty between two points $[X,Y]$ use the code below:"
      ],
      "metadata": {
        "id": "FDJNw20esgdN"
      }
    },
    {
      "cell_type": "code",
      "source": [
        "X = 3\n",
        "Y = 5\n",
        "a, b = [2,5]\n",
        "r = list(np.arange(a, b+1))\n",
        "xs = np.arange(X, Y+1)\n",
        "print(f'The probabilty between *[{X}, {Y}]* in the U{r} Distribution is: ', np.sum([randint.pmf(xs, a, b+1) for xs in xs]))"
      ],
      "metadata": {
        "colab": {
          "base_uri": "https://localhost:8080/"
        },
        "outputId": "7b9f9df3-2cdb-4c62-bf87-7a3cac22f69a",
        "id": "o-kvkIDwsgdN"
      },
      "execution_count": 73,
      "outputs": [
        {
          "output_type": "stream",
          "name": "stdout",
          "text": [
            "The probabilty between *[3, 5]* in the U[2, 3, 4, 5] Distribution is:  0.75\n"
          ]
        }
      ]
    },
    {
      "cell_type": "code",
      "source": [
        "x1 = list(np.arange(0,X))\n",
        "x2 = list(np.arange(X,Y+1))\n",
        "x3 = list(np.arange(Y+1,Y+10))\n",
        "plt.bar(x1, randint.pmf(x1, a, b+1), color ='gray')\n",
        "plt.bar(x2, randint.pmf(x2, a, b+1), color ='#DFFF00')\n",
        "plt.bar(x3, randint.pmf(x3, a, b+1), color ='gray')\n",
        "plt.xlim(a-1,b+2)\n",
        "plt.xticks(np.arange(a-1,b+2), fontsize=12, ha='center')\n",
        "plt.title(f'$U\\ {r}$')\n",
        "xs = np.arange(X, Y+1)\n",
        "prob = np.sum([randint.pmf(xs, a, b+1) for xs in xs])\n",
        "plt.text(7, 0.02, f'$P({np.round(X, 3)} \\leq X \\leq {np.round(Y, 3)})$ \\n {np.round(prob, 2)}', fontsize=18);"
      ],
      "metadata": {
        "colab": {
          "base_uri": "https://localhost:8080/",
          "height": 286
        },
        "outputId": "24c436fc-b75a-47c3-9b81-ea19470dfdc7",
        "id": "yP01JTvYsgdO"
      },
      "execution_count": 74,
      "outputs": [
        {
          "output_type": "display_data",
          "data": {
            "text/plain": [
              "<Figure size 432x288 with 1 Axes>"
            ],
            "image/png": "[encoded data removed]"
          },
          "metadata": {
            "needs_background": "light"
          }
        }
      ]
    },
    {
      "cell_type": "markdown",
      "source": [
        "To find the probabilty between two points $(X,Y)$ use the code below:"
      ],
      "metadata": {
        "id": "OEUvv9Xttzvx"
      }
    },
    {
      "cell_type": "code",
      "source": [
        "X = 3\n",
        "Y = 5\n",
        "a, b = [2,5]\n",
        "r = list(np.arange(a, b+1))\n",
        "xs = np.arange(X+1, Y)\n",
        "print(f'The probabilty between *({X}, {Y})* in the U{r} Distribution is: ', np.sum([randint.pmf(xs, a, b+1) for xs in xs]))"
      ],
      "metadata": {
        "colab": {
          "base_uri": "https://localhost:8080/"
        },
        "outputId": "fb81075a-0db3-4946-c57b-f7dc40d2b243",
        "id": "1BLkLtJEtzvy"
      },
      "execution_count": 75,
      "outputs": [
        {
          "output_type": "stream",
          "name": "stdout",
          "text": [
            "The probabilty between *(3, 5)* in the U[2, 3, 4, 5] Distribution is:  0.25\n"
          ]
        }
      ]
    },
    {
      "cell_type": "code",
      "source": [
        "x1 = list(np.arange(0,X+1))\n",
        "x2 = list(np.arange(X+1,Y))\n",
        "x3 = list(np.arange(Y,Y+10))\n",
        "plt.bar(x1, randint.pmf(x1, a, b+1), color ='gray')\n",
        "plt.bar(x2, randint.pmf(x2, a, b+1), color ='#DFFF00')\n",
        "plt.bar(x3, randint.pmf(x3, a, b+1), color ='gray')\n",
        "plt.xlim(a-1,b+2)\n",
        "plt.xticks(np.arange(a-1,b+2), fontsize=12, ha='center')\n",
        "plt.title(f'$U\\ {r}$')\n",
        "xs = np.arange(X+1, Y)\n",
        "prob = np.sum([randint.pmf(xs, a, b+1) for xs in xs])\n",
        "plt.text(7, 0.02, f'$P({np.round(X, 3)} < X < {np.round(Y, 3)})$ \\n {np.round(prob, 2)}', fontsize=18);"
      ],
      "metadata": {
        "colab": {
          "base_uri": "https://localhost:8080/",
          "height": 286
        },
        "outputId": "f53e941a-2a3a-46d1-8562-cf3193fbdb07",
        "id": "ESYmvv4dtzvz"
      },
      "execution_count": 76,
      "outputs": [
        {
          "output_type": "display_data",
          "data": {
            "text/plain": [
              "<Figure size 432x288 with 1 Axes>"
            ],
            "image/png": "[encoded data removed]"
          },
          "metadata": {
            "needs_background": "light"
          }
        }
      ]
    },
    {
      "cell_type": "markdown",
      "source": [
        "To find the probabilty between two points $[X,Y)$ use the code below:"
      ],
      "metadata": {
        "id": "my_4el6yuxfx"
      }
    },
    {
      "cell_type": "code",
      "source": [
        "X = 3\n",
        "Y = 5\n",
        "a, b = [2,5]\n",
        "r = list(np.arange(a, b+1))\n",
        "xs = np.arange(X, Y)\n",
        "print(f'The probabilty between *[{X}, {Y})* in the U{r} Distribution is: ', np.sum([randint.pmf(xs, a, b+1) for xs in xs]))"
      ],
      "metadata": {
        "colab": {
          "base_uri": "https://localhost:8080/"
        },
        "outputId": "814f19c5-f407-4248-d441-96eba7e07504",
        "id": "trGE9TJauxfy"
      },
      "execution_count": 77,
      "outputs": [
        {
          "output_type": "stream",
          "name": "stdout",
          "text": [
            "The probabilty between *[3, 5)* in the U[2, 3, 4, 5] Distribution is:  0.5\n"
          ]
        }
      ]
    },
    {
      "cell_type": "code",
      "source": [
        "x1 = list(np.arange(0,X))\n",
        "x2 = list(np.arange(X,Y))\n",
        "x3 = list(np.arange(Y,Y+10))\n",
        "plt.bar(x1, randint.pmf(x1, a, b+1), color ='gray')\n",
        "plt.bar(x2, randint.pmf(x2, a, b+1), color ='#DFFF00')\n",
        "plt.bar(x3, randint.pmf(x3, a, b+1), color ='gray')\n",
        "plt.xlim(a-1,b+2)\n",
        "plt.xticks(np.arange(a-1,b+2), fontsize=12, ha='center')\n",
        "plt.title(f'$U\\ {r}$')\n",
        "xs = np.arange(X, Y)\n",
        "prob = np.sum([randint.pmf(xs, a, b+1) for xs in xs])\n",
        "plt.text(7, 0.02, f'$P({np.round(X, 3)} \\leq X < {np.round(Y, 3)})$ \\n {np.round(prob, 2)}', fontsize=18);"
      ],
      "metadata": {
        "colab": {
          "base_uri": "https://localhost:8080/",
          "height": 286
        },
        "outputId": "76f861ac-77d1-45e8-c172-0bcdaabc26e4",
        "id": "ubM8k-W8uxfz"
      },
      "execution_count": 78,
      "outputs": [
        {
          "output_type": "display_data",
          "data": {
            "text/plain": [
              "<Figure size 432x288 with 1 Axes>"
            ],
            "image/png": "[encoded data removed]"
          },
          "metadata": {
            "needs_background": "light"
          }
        }
      ]
    },
    {
      "cell_type": "markdown",
      "source": [
        "To find the probabilty between two points $(X,Y]$ use the code below:"
      ],
      "metadata": {
        "id": "8n2NKgASvThs"
      }
    },
    {
      "cell_type": "code",
      "source": [
        "X = 3\n",
        "Y = 5\n",
        "a, b = [2,5]\n",
        "r = list(np.arange(a, b+1))\n",
        "xs = np.arange(X+1, Y+1)\n",
        "print(f'The probabilty between *({X}, {Y}]* in the U{r} Distribution is: ', np.sum([randint.pmf(xs, a, b+1) for xs in xs]))"
      ],
      "metadata": {
        "colab": {
          "base_uri": "https://localhost:8080/"
        },
        "outputId": "3c146a5d-9386-4862-dd19-be26a51371a2",
        "id": "1V6w3MxivThs"
      },
      "execution_count": 79,
      "outputs": [
        {
          "output_type": "stream",
          "name": "stdout",
          "text": [
            "The probabilty between *(3, 5]* in the U[2, 3, 4, 5] Distribution is:  0.5\n"
          ]
        }
      ]
    },
    {
      "cell_type": "code",
      "source": [
        "x1 = list(np.arange(0,X+1))\n",
        "x2 = list(np.arange(X+1,Y+1))\n",
        "x3 = list(np.arange(Y+1,Y+10))\n",
        "plt.bar(x1, randint.pmf(x1, a, b+1), color ='gray')\n",
        "plt.bar(x2, randint.pmf(x2, a, b+1), color ='#DFFF00')\n",
        "plt.bar(x3, randint.pmf(x3, a, b+1), color ='gray')\n",
        "plt.xlim(a-1,b+2)\n",
        "plt.xticks(np.arange(a-1,b+2), fontsize=12, ha='center')\n",
        "plt.title(f'$U\\ {r}$')\n",
        "xs = np.arange(X+1, Y+1)\n",
        "prob = np.sum([randint.pmf(xs, a, b+1) for xs in xs])\n",
        "plt.text(7, 0.02, f'$P({np.round(X, 3)} < X \\leq {np.round(Y, 3)})$ \\n {np.round(prob, 2)}', fontsize=18);"
      ],
      "metadata": {
        "colab": {
          "base_uri": "https://localhost:8080/",
          "height": 286
        },
        "outputId": "505d6e04-21a7-4347-ffa0-99cbf99bf460",
        "id": "2gI6cwM-vTht"
      },
      "execution_count": 80,
      "outputs": [
        {
          "output_type": "display_data",
          "data": {
            "text/plain": [
              "<Figure size 432x288 with 1 Axes>"
            ],
            "image/png": "[encoded data removed]"
          },
          "metadata": {
            "needs_background": "light"
          }
        }
      ]
    },
    {
      "cell_type": "markdown",
      "source": [
        "To find the probabilty of a point use the code below:\n",
        "\n",
        "''\n",
        "randint.pmf($X, a, b+1$)\n",
        "''"
      ],
      "metadata": {
        "id": "WcMTHtMnvzer"
      }
    },
    {
      "cell_type": "code",
      "source": [
        "X = 3\n",
        "a, b = [2,5]\n",
        "print(f'The probabilty of *X={X}* in the U{r} Distribution is: ', randint.pmf(X, a, b+1))"
      ],
      "metadata": {
        "colab": {
          "base_uri": "https://localhost:8080/"
        },
        "outputId": "8afc8446-9e98-451d-b0c1-767ce6781db2",
        "id": "dXbmT6Dqvzes"
      },
      "execution_count": 81,
      "outputs": [
        {
          "output_type": "stream",
          "name": "stdout",
          "text": [
            "The probabilty of *X=3* in the U[2, 3, 4, 5] Distribution is:  0.25\n"
          ]
        }
      ]
    },
    {
      "cell_type": "code",
      "source": [
        "x1 = list(np.arange(0,X))\n",
        "x2 = X\n",
        "x3 = list(np.arange(X+1,Y+10))\n",
        "plt.bar(x1, randint.pmf(x1, a, b+1), color ='gray')\n",
        "plt.bar(x2, randint.pmf(x2, a, b+1), color ='#DFFF00')\n",
        "plt.bar(x3, randint.pmf(x3, a, b+1), color ='gray')\n",
        "plt.xlim(a-1,b+2)\n",
        "plt.xticks(np.arange(a-1,b+2), fontsize=12, ha='center')\n",
        "plt.title(f'$U\\ {r}$')\n",
        "prob = randint.pmf(x2, a, b+1)\n",
        "plt.text(7, 0.02, f'$P({np.round(X, 3)}) = $ {np.round(prob, 2)}', fontsize=18);"
      ],
      "metadata": {
        "colab": {
          "base_uri": "https://localhost:8080/",
          "height": 286
        },
        "outputId": "044590fc-2c04-4ba3-f420-0db3fa60b83c",
        "id": "_nYvQeMdvzet"
      },
      "execution_count": 82,
      "outputs": [
        {
          "output_type": "display_data",
          "data": {
            "text/plain": [
              "<Figure size 432x288 with 1 Axes>"
            ],
            "image/png": "[encoded data removed]"
          },
          "metadata": {
            "needs_background": "light"
          }
        }
      ]
    },
    {
      "cell_type": "markdown",
      "source": [
        "<a name='Hypergeometric_Distribution'></a>\n",
        "\n",
        "## **2.7. Hypergeometric Distribution:**"
      ],
      "metadata": {
        "id": "tDQwSzWJeoz2"
      }
    },
    {
      "cell_type": "markdown",
      "source": [
        "$P(X=i) = \\frac{\\binom{i}{m} \\binom{N-m}{n-i}}{\\binom{N}{n}} \\quad \\quad N = 0,1,2,...,\\infty$\n",
        "\n",
        "$\\ \\qquad \\qquad \\qquad \\qquad \\qquad \\quad m = 0,1,2,...,N$\n",
        "\n",
        "$\\ \\qquad \\qquad \\qquad \\qquad \\qquad \\quad n = 0,1,2,...,N$\n",
        "\n",
        "$\\\\ $\n",
        "\n",
        "$E(X) = \\frac{mn}{N}$\n",
        "\n",
        "$Var(X) = n \\frac{m}{N} (1-\\frac{m}{N}) \\frac{N-n}{N-1}$"
      ],
      "metadata": {
        "id": "j_Ddl6KBeuif"
      }
    },
    {
      "cell_type": "code",
      "source": [
        "np.random.seed(1)\n",
        "s = 1000000\n",
        "m, N, n = [50, 500, 100]\n",
        "\n",
        "hg_data = np.random.hypergeometric(ngood = m, nbad = N-m, nsample = n, size=s)\n",
        "\n",
        "sns.histplot(hg_data, color='cyan', stat='density', bins=50)\n",
        "\n",
        "plt.title('Hypergeometric Distribution');"
      ],
      "metadata": {
        "colab": {
          "base_uri": "https://localhost:8080/",
          "height": 281
        },
        "id": "zvp0BN9NgXxe",
        "outputId": "536d2b8b-85e4-426a-80a8-419612cc5cc3"
      },
      "execution_count": 83,
      "outputs": [
        {
          "output_type": "display_data",
          "data": {
            "text/plain": [
              "<Figure size 432x288 with 1 Axes>"
            ],
            "image/png": "[encoded data removed]"
          },
          "metadata": {
            "needs_background": "light"
          }
        }
      ]
    },
    {
      "cell_type": "code",
      "source": [
        "m, N, n = [50, 500, 100]\n",
        "print(f'The mean of the HG{N,m,n} Distribution is: ', np.round(hypergeom.mean(n = m, M = N, N = n), 4))\n",
        "print(f'The median of the HG{N,m,n} Distribution is: ', np.round(hypergeom.median(n = m, M = N, N = n), 4))\n",
        "print(f'The variance of the HG{N,m,n} Distribution is: ', np.round(hypergeom.var(n = m, M = N, N = n), 4))\n",
        "print(f'The standard deviation of the HG{N,m,n} Distribution is: ', np.round(hypergeom.std(n = m, M = N, N = n), 4))\n",
        "print(f'The skewness of the HG{N,m,n} Distribution is: ', np.round(hypergeom.stats(n = m, M = N, N = n, moments='mvsk')[2], 4))\n",
        "print(f'The kurtosis of the HG{N,m,n} Distribution is: ', np.round(hypergeom.stats(n = m, M = N, N = n, moments='mvsk')[3], 4))"
      ],
      "metadata": {
        "colab": {
          "base_uri": "https://localhost:8080/"
        },
        "id": "XapaJszTiRbx",
        "outputId": "3f521894-3054-4e72-c4d5-af796a18e60b"
      },
      "execution_count": 84,
      "outputs": [
        {
          "output_type": "stream",
          "name": "stdout",
          "text": [
            "The mean of the HG(500, 50, 100) Distribution is:  10.0\n",
            "The median of the HG(500, 50, 100) Distribution is:  10.0\n",
            "The variance of the HG(500, 50, 100) Distribution is:  7.2144\n",
            "The standard deviation of the HG(500, 50, 100) Distribution is:  2.686\n",
            "The skewness of the HG(500, 50, 100) Distribution is:  0.1794\n",
            "The kurtosis of the HG(500, 50, 100) Distribution is:  -0.0093\n"
          ]
        }
      ]
    },
    {
      "cell_type": "markdown",
      "source": [
        "Integrating the PDF, gives us the cumulative distribution function (CDF) which is a function that maps values to their percentile rank in a distribution."
      ],
      "metadata": {
        "id": "7hoHUIgXkKhe"
      }
    },
    {
      "cell_type": "code",
      "source": [
        "m, N, n = [50, 500, 100]\n",
        "x = np.arange(0, m+1, 0.001)\n",
        "x1 = np.arange(0, m+1)\n",
        "x2 = np.arange(0, m) + 0.999\n",
        "\n",
        "plt.scatter(x, hypergeom.cdf(x, n = m, M = N, N = n), color = 'r')\n",
        "plt.scatter(x2, hypergeom.cdf(x2, n = m, M = N, N = n), color = 'white', edgecolor='black', s=80)\n",
        "plt.scatter(x1, hypergeom.cdf(x1, n = m, M = N, N = n), color = 'black', edgecolor='black', s=80)\n",
        "plt.xlim(1,16.5);"
      ],
      "metadata": {
        "colab": {
          "base_uri": "https://localhost:8080/",
          "height": 265
        },
        "outputId": "6511b1b2-127c-4b5e-af9d-a1c86961ee9a",
        "id": "FXwHrJonkKhg"
      },
      "execution_count": 85,
      "outputs": [
        {
          "output_type": "display_data",
          "data": {
            "text/plain": [
              "<Figure size 432x288 with 1 Axes>"
            ],
            "image/png": "[encoded data removed]"
          },
          "metadata": {
            "needs_background": "light"
          }
        }
      ]
    },
    {
      "cell_type": "markdown",
      "source": [
        "To find the left probabilty of a point use the code below:\n",
        "\n",
        "''\n",
        "hypergeom.cdf(X, n = m, M = N, N = n)\n",
        "''\n",
        "\n",
        "To find the right probabilty of a point use the code below:\n",
        "\n",
        "''\n",
        "hypergeom.sf(X, n = m, M = N, N = n)\n",
        "''"
      ],
      "metadata": {
        "id": "6RmpKhJXmP1p"
      }
    },
    {
      "cell_type": "code",
      "source": [
        "X = 9\n",
        "m, N, n = [50, 500, 100]\n",
        "print(f'The left probabilty of *{X}* in the HG{N,m,n} Distribution is: ', hypergeom.cdf(X, n = m, M = N, N = n))\n",
        "print(f'The Right probabilty of *{X}* in the HG{N,m,n} Distribution is: ', hypergeom.sf(X, n = m, M = N, N = n))"
      ],
      "metadata": {
        "colab": {
          "base_uri": "https://localhost:8080/"
        },
        "outputId": "190cb736-7980-4cda-ef12-bd70618e662c",
        "id": "DWf8ovrcmP1q"
      },
      "execution_count": 86,
      "outputs": [
        {
          "output_type": "stream",
          "name": "stdout",
          "text": [
            "The left probabilty of *9* in the HG(500, 50, 100) Distribution is:  0.4377805207675606\n",
            "The Right probabilty of *9* in the HG(500, 50, 100) Distribution is:  0.5622194792327725\n"
          ]
        }
      ]
    },
    {
      "cell_type": "markdown",
      "source": [
        "To find the probabilty between two points $[X,Y]$ use the code below:"
      ],
      "metadata": {
        "id": "FygbTGmJmvRn"
      }
    },
    {
      "cell_type": "code",
      "source": [
        "X = 5\n",
        "Y = 8\n",
        "m, N, n = [50, 500, 100]\n",
        "xs = np.arange(X, Y+1)\n",
        "print(f'The probabilty between *[{X}, {Y}]* in the HG{N,m,n} Distribution is: ', np.sum([hypergeom.pmf(xs, n = m, M = N, N = n) for xs in xs]))"
      ],
      "metadata": {
        "colab": {
          "base_uri": "https://localhost:8080/"
        },
        "outputId": "16093086-deb2-4d21-d548-cbd025aaa169",
        "id": "SrXujRTcmvRq"
      },
      "execution_count": 87,
      "outputs": [
        {
          "output_type": "stream",
          "name": "stdout",
          "text": [
            "The probabilty between *[5, 8]* in the HG(500, 50, 100) Distribution is:  0.28120999699368426\n"
          ]
        }
      ]
    },
    {
      "cell_type": "code",
      "source": [
        "x1 = list(np.arange(0,X))\n",
        "x2 = list(np.arange(X,Y+1))\n",
        "x3 = list(np.arange(Y+1,22))\n",
        "plt.bar(x1, hypergeom.pmf(x1, n = m, M = N, N = n), color ='gray')\n",
        "plt.bar(x2, hypergeom.pmf(x2, n = m, M = N, N = n), color ='#DFFF00')\n",
        "plt.bar(x3, hypergeom.pmf(x3, n = m, M = N, N = n), color ='gray')\n",
        "plt.xlim(0, 22)\n",
        "plt.xticks(np.arange(0,22), fontsize=12, ha='center')\n",
        "plt.title(f'$HG{N,m,n}$')\n",
        "xs = np.arange(X, Y+1)\n",
        "prob = np.sum([hypergeom.pmf(xs, n = m, M = N, N = n) for xs in xs])\n",
        "plt.text(15, 0.02, f'$P({np.round(X, 3)} \\leq X \\leq {np.round(Y, 3)})$ \\n {np.round(prob, 2)}', fontsize=18);"
      ],
      "metadata": {
        "colab": {
          "base_uri": "https://localhost:8080/",
          "height": 286
        },
        "outputId": "a785d225-09bc-458c-c290-6dcd5d5f5404",
        "id": "VRV5t4temvRs"
      },
      "execution_count": 88,
      "outputs": [
        {
          "output_type": "display_data",
          "data": {
            "text/plain": [
              "<Figure size 432x288 with 1 Axes>"
            ],
            "image/png": "[encoded data removed]"
          },
          "metadata": {
            "needs_background": "light"
          }
        }
      ]
    },
    {
      "cell_type": "markdown",
      "source": [
        "To find the probabilty between two points $(X,Y)$ use the code below:"
      ],
      "metadata": {
        "id": "TKmPFkT-nmm3"
      }
    },
    {
      "cell_type": "code",
      "source": [
        "X = 5\n",
        "Y = 8\n",
        "m, N, n = [50, 500, 100]\n",
        "xs = np.arange(X+1, Y)\n",
        "print(f'The probabilty between *({X}, {Y})* in the HG{N,m,n} Distribution is: ', np.sum([hypergeom.pmf(xs, n = m, M = N, N = n) for xs in xs]))"
      ],
      "metadata": {
        "colab": {
          "base_uri": "https://localhost:8080/"
        },
        "outputId": "a247dca5-b8b0-46ae-da0d-40165a5cbede",
        "id": "eKlarBDmnmm6"
      },
      "execution_count": 89,
      "outputs": [
        {
          "output_type": "stream",
          "name": "stdout",
          "text": [
            "The probabilty between *(5, 8)* in the HG(500, 50, 100) Distribution is:  0.13660350069996455\n"
          ]
        }
      ]
    },
    {
      "cell_type": "code",
      "source": [
        "x1 = list(np.arange(0,X+1))\n",
        "x2 = list(np.arange(X+1,Y))\n",
        "x3 = list(np.arange(Y,22))\n",
        "plt.bar(x1, hypergeom.pmf(x1, n = m, M = N, N = n), color ='gray')\n",
        "plt.bar(x2, hypergeom.pmf(x2, n = m, M = N, N = n), color ='#DFFF00')\n",
        "plt.bar(x3, hypergeom.pmf(x3, n = m, M = N, N = n), color ='gray')\n",
        "plt.xlim(0,22)\n",
        "plt.xticks(np.arange(0,22), fontsize=12, ha='center')\n",
        "plt.title(f'$HG{N,m,n}$')\n",
        "xs = np.arange(X+1, Y)\n",
        "prob = np.sum([hypergeom.pmf(xs, n = m, M = N, N = n) for xs in xs])\n",
        "plt.text(15, 0.02, f'$P({np.round(X, 3)} < X < {np.round(Y, 3)})$ \\n {np.round(prob, 2)}', fontsize=18);"
      ],
      "metadata": {
        "colab": {
          "base_uri": "https://localhost:8080/",
          "height": 286
        },
        "outputId": "9ac4e4b0-a12e-4b93-dd63-145abd0e34a6",
        "id": "7NIq8laNnmm8"
      },
      "execution_count": 90,
      "outputs": [
        {
          "output_type": "display_data",
          "data": {
            "text/plain": [
              "<Figure size 432x288 with 1 Axes>"
            ],
            "image/png": "[encoded data removed]"
          },
          "metadata": {
            "needs_background": "light"
          }
        }
      ]
    },
    {
      "cell_type": "markdown",
      "source": [
        "To find the probabilty between two points $[X,Y)$ use the code below:"
      ],
      "metadata": {
        "id": "xwTO30WBoQCh"
      }
    },
    {
      "cell_type": "code",
      "source": [
        "X = 5\n",
        "Y = 8\n",
        "m, N, n = [50, 500, 100]\n",
        "xs = np.arange(X, Y)\n",
        "print(f'The probabilty between *[{X}, {Y})* in the HG{N,m,n} Distribution is: ', np.sum([hypergeom.pmf(xs, n = m, M = N, N = n) for xs in xs]))"
      ],
      "metadata": {
        "colab": {
          "base_uri": "https://localhost:8080/"
        },
        "outputId": "f32a86f9-c1d7-4252-cdcb-b6b1044e9726",
        "id": "t6Acq0cAoQCj"
      },
      "execution_count": 91,
      "outputs": [
        {
          "output_type": "stream",
          "name": "stdout",
          "text": [
            "The probabilty between *[5, 8)* in the HG(500, 50, 100) Distribution is:  0.1623105533636331\n"
          ]
        }
      ]
    },
    {
      "cell_type": "code",
      "source": [
        "x1 = list(np.arange(0,X))\n",
        "x2 = list(np.arange(X,Y))\n",
        "x3 = list(np.arange(Y,22))\n",
        "plt.bar(x1, hypergeom.pmf(x1, n = m, M = N, N = n), color ='gray')\n",
        "plt.bar(x2, hypergeom.pmf(x2, n = m, M = N, N = n), color ='#DFFF00')\n",
        "plt.bar(x3, hypergeom.pmf(x3, n = m, M = N, N = n), color ='gray')\n",
        "plt.xlim(0,22)\n",
        "plt.xticks(np.arange(0,22), fontsize=12, ha='center')\n",
        "plt.title(f'$HG{N,m,n}$')\n",
        "xs = np.arange(X, Y)\n",
        "prob = np.sum([hypergeom.pmf(xs, n = m, M = N, N = n) for xs in xs])\n",
        "plt.text(15, 0.02, f'$P({np.round(X, 3)} \\leq X < {np.round(Y, 3)})$ \\n {np.round(prob, 2)}', fontsize=18);"
      ],
      "metadata": {
        "colab": {
          "base_uri": "https://localhost:8080/",
          "height": 286
        },
        "outputId": "4abeab49-b4a5-4fb2-9fcf-00f62b7aa14e",
        "id": "4hoRiuhXoQCk"
      },
      "execution_count": 92,
      "outputs": [
        {
          "output_type": "display_data",
          "data": {
            "text/plain": [
              "<Figure size 432x288 with 1 Axes>"
            ],
            "image/png": "[encoded data removed]"
          },
          "metadata": {
            "needs_background": "light"
          }
        }
      ]
    },
    {
      "cell_type": "markdown",
      "source": [
        "To find the probabilty between two points $(X,Y]$ use the code below:"
      ],
      "metadata": {
        "id": "mcOv4nPnoxCs"
      }
    },
    {
      "cell_type": "code",
      "source": [
        "X = 5\n",
        "Y = 8\n",
        "m, N, n = [50, 500, 100]\n",
        "xs = np.arange(X+1, Y+1)\n",
        "print(f'The probabilty between *({X}, {Y}]* in the HG{N,m,n} Distribution is: ', np.sum([hypergeom.pmf(xs, n = m, M = N, N = n) for xs in xs]))"
      ],
      "metadata": {
        "colab": {
          "base_uri": "https://localhost:8080/"
        },
        "outputId": "93eb8b12-f250-4a28-966e-c2872c2ce908",
        "id": "_TK4upMwoxCt"
      },
      "execution_count": 93,
      "outputs": [
        {
          "output_type": "stream",
          "name": "stdout",
          "text": [
            "The probabilty between *(5, 8]* in the HG(500, 50, 100) Distribution is:  0.25550294433001575\n"
          ]
        }
      ]
    },
    {
      "cell_type": "code",
      "source": [
        "x1 = list(np.arange(0,X+1))\n",
        "x2 = list(np.arange(X+1,Y+1))\n",
        "x3 = list(np.arange(Y+1,22))\n",
        "plt.bar(x1, hypergeom.pmf(x1, n = m, M = N, N = n), color ='gray')\n",
        "plt.bar(x2, hypergeom.pmf(x2, n = m, M = N, N = n), color ='#DFFF00')\n",
        "plt.bar(x3, hypergeom.pmf(x3, n = m, M = N, N = n), color ='gray')\n",
        "plt.xlim(0,22)\n",
        "plt.xticks(np.arange(0,22), fontsize=12, ha='center')\n",
        "plt.title(f'$HG{N,m,n}$')\n",
        "xs = np.arange(X+1, Y+1)\n",
        "prob = np.sum([hypergeom.pmf(xs, n = m, M = N, N = n) for xs in xs])\n",
        "plt.text(15, 0.02, f'$P({np.round(X, 3)} < X \\leq {np.round(Y, 3)})$ \\n {np.round(prob, 2)}', fontsize=18);"
      ],
      "metadata": {
        "colab": {
          "base_uri": "https://localhost:8080/",
          "height": 286
        },
        "outputId": "f405c9c5-2029-4056-a96b-08a0c246bbd6",
        "id": "HWTyiIjcoxCu"
      },
      "execution_count": 94,
      "outputs": [
        {
          "output_type": "display_data",
          "data": {
            "text/plain": [
              "<Figure size 432x288 with 1 Axes>"
            ],
            "image/png": "[encoded data removed]"
          },
          "metadata": {
            "needs_background": "light"
          }
        }
      ]
    },
    {
      "cell_type": "markdown",
      "source": [
        "To find the probabilty of a point use the code below:\n",
        "\n",
        "''\n",
        "hypergeom.pmf(X, n = m, M = N, N = n)\n",
        "''"
      ],
      "metadata": {
        "id": "W-YEA62apQdT"
      }
    },
    {
      "cell_type": "code",
      "source": [
        "X = 7\n",
        "m, N, n = [50, 500, 100]\n",
        "print(f'The probabilty of *X={X}* in the HG{N,m,n} Distribution is: ',  hypergeom.pmf(X, n = m, M = N, N = n))"
      ],
      "metadata": {
        "colab": {
          "base_uri": "https://localhost:8080/"
        },
        "outputId": "595cfe62-ef00-406d-b32a-aecb8b653a24",
        "id": "Vjbq7iqgpQdT"
      },
      "execution_count": 95,
      "outputs": [
        {
          "output_type": "stream",
          "name": "stdout",
          "text": [
            "The probabilty of *X=7* in the HG(500, 50, 100) Distribution is:  0.08515328996156411\n"
          ]
        }
      ]
    },
    {
      "cell_type": "code",
      "source": [
        "x1 = list(np.arange(0,X))\n",
        "x2 = X\n",
        "x3 = list(np.arange(X+1,22))\n",
        "plt.bar(x1, hypergeom.pmf(x1, n = m, M = N, N = n), color ='gray')\n",
        "plt.bar(x2, hypergeom.pmf(x2, n = m, M = N, N = n), color ='#DFFF00')\n",
        "plt.bar(x3, hypergeom.pmf(x3, n = m, M = N, N = n), color ='gray')\n",
        "plt.xlim(0,22)\n",
        "plt.xticks(np.arange(0,22), fontsize=12, ha='center')\n",
        "plt.title(f'$HG{N,m,n}$')\n",
        "prob = hypergeom.pmf(x2, n = m, M = N, N = n)\n",
        "plt.text(15, 0.02, f'$P({np.round(X, 3)}) = $ {np.round(prob, 2)}', fontsize=18);"
      ],
      "metadata": {
        "colab": {
          "base_uri": "https://localhost:8080/",
          "height": 286
        },
        "outputId": "b87502dc-db2c-4a9d-c975-4c245dbea743",
        "id": "5S8stnBUpQdU"
      },
      "execution_count": 96,
      "outputs": [
        {
          "output_type": "display_data",
          "data": {
            "text/plain": [
              "<Figure size 432x288 with 1 Axes>"
            ],
            "image/png": "[encoded data removed]"
          },
          "metadata": {
            "needs_background": "light"
          }
        }
      ]
    }
  ]
}