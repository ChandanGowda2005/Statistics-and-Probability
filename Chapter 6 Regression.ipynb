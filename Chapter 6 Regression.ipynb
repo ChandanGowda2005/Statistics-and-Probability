{
  "nbformat": 4,
  "nbformat_minor": 0,
  "metadata": {
    "colab": {
      "name": "Chapter 6: Regression.ipynb",
      "provenance": [],
      "collapsed_sections": [
        "1mrsPw8OSpPG",
        "TYGH-jIj60Y-",
        "1TiL2kLK8Wlq",
        "Wr9dJbIJTLR0",
        "IatgOLJgjUKY",
        "Wdk-sNNkkx86",
        "iPbXBvg3m-2e",
        "NGr8PKz4P-UZ",
        "0NX0f42yQJ8L",
        "kPjcRV2q3s1b",
        "GE4h6bbEnVfB",
        "p0eHvt-6UrwD",
        "n0PxHd5AVxOU",
        "C9ms4Iuhe9GZ",
        "S8ofDynCfD6B",
        "g7CrxN4VkI17",
        "iJRSxN9PkmtR",
        "aCeYYgZGb3U0",
        "2PIRxMVzcWH0",
        "QkMjdS6P8ibS",
        "fyPUNwN_1tp5",
        "i1gNY_o0OrtW",
        "HcvvQ8EpGXm4"
      ]
    },
    "kernelspec": {
      "name": "python3",
      "display_name": "Python 3"
    },
    "language_info": {
      "name": "python"
    }
  },
  "cells": [
    {
      "cell_type": "markdown",
      "source": [
        "# **`Chapter 6: Regression`**"
      ],
      "metadata": {
        "id": "Wb9LyXR91KSv"
      }
    },
    {
      "cell_type": "markdown",
      "source": [
        "**Table of Content:**\n",
        "\n",
        "- [Import Libraries](#Import_Libraries)\n",
        "- [6.1. Introduction](#Introduction)\n",
        "- [6.2. Least Squares Estimators of the Regression Parameters](#Least_Squares_Estimators_of_the_Regression_Parameters)\n",
        "- [6.3. Statistical Inferences about the Regression Parameters](#Statistical_Inferences_about_the_Regression_Parameters)\n",
        "  - [6.3.1. Inferences Concerning $B$](#Inferences_Concerning_B)\n",
        "    - [6.3.1.1. Known Variance](#Known_Variance)\n",
        "    - [6.3.1.2. Unknown Variance](#Unknown_Variance)\n",
        "  - [6.3.2. Inferences Concerning $A$](#Inferences_Concerning_A)\n",
        "    - [6.3.2.1. Unknown Variance](#Unknown_Variance_A)\n",
        "  - [6.3.3. T-tests for Regression Parameters with statsmodels](#T-tests_for_Regression_Parameters_with_statsmodels)\n",
        "  - [6.3.4. F-statistic for Overall Significance in Regression](#F-statistic_for_Overall_Significance_in_Regression)\n",
        "- [6.4. Confidence Intervals Concerning Regression Models](#Confidence_Intervals_Concerning_Regression_Models)\n",
        "  - [6.4.1. Confidence Interval for $B$](#Confidence_Interval_for_B)\n",
        "    - [6.4.1.1. Known Variance](#Known_Variance_B)\n",
        "    - [6.4.1.2. Unknown Variance](#Unknown_Variance_B)\n",
        "  - [6.4.2. Confidence Interval for $A$](#Confidence_Interval_for_A)\n",
        "    - [6.4.2.1. Unknown Variance](#Unknown_Variance_AA)\n",
        "  - [6.4.3. Confidence Interval for $A + B x$](#Confidence_Interval_for_AB)\n",
        "    - [6.4.3.1. Unknown Variance](#Unknown_Variance_ABB)\n",
        "  - [6.4.4. Prediction Interval of a Future Response](#Prediction_Interval_of_a_Future_Response) \n",
        "- [6.5. Residuals](#Residuals)\n",
        "  - [6.5.1. Regression Diagnostic](#Regression_Diagnostic)\n",
        "  - [6.5.2. Multicolinearity](#Multicolinearity)\n",
        "  "
      ],
      "metadata": {
        "id": "dgVrN97ojDFe"
      }
    },
    {
      "cell_type": "markdown",
      "source": [
        "<a name='Import_Libraries'></a>\n",
        "\n",
        "## **Import Libraries**"
      ],
      "metadata": {
        "id": "1mrsPw8OSpPG"
      }
    },
    {
      "cell_type": "code",
      "source": [
        "!pip install --upgrade scipy"
      ],
      "metadata": {
        "colab": {
          "base_uri": "https://localhost:8080/"
        },
        "id": "1GroeqIoC6fr",
        "outputId": "65173c4f-3b54-4792-ab7b-2385f99208b7"
      },
      "execution_count": 1,
      "outputs": [
        {
          "output_type": "stream",
          "name": "stdout",
          "text": [
            "Looking in indexes: https://pypi.org/simple, https://us-python.pkg.dev/colab-wheels/public/simple/\n",
            "Requirement already satisfied: scipy in /usr/local/lib/python3.7/dist-packages (1.4.1)\n",
            "Collecting scipy\n",
            "  Downloading scipy-1.7.3-cp37-cp37m-manylinux_2_12_x86_64.manylinux2010_x86_64.whl (38.1 MB)\n",
            "\u001b[K     |████████████████████████████████| 38.1 MB 1.2 MB/s \n",
            "\u001b[?25hRequirement already satisfied: numpy<1.23.0,>=1.16.5 in /usr/local/lib/python3.7/dist-packages (from scipy) (1.21.6)\n",
            "Installing collected packages: scipy\n",
            "  Attempting uninstall: scipy\n",
            "    Found existing installation: scipy 1.4.1\n",
            "    Uninstalling scipy-1.4.1:\n",
            "      Successfully uninstalled scipy-1.4.1\n",
            "\u001b[31mERROR: pip's dependency resolver does not currently take into account all the packages that are installed. This behaviour is the source of the following dependency conflicts.\n",
            "albumentations 0.1.12 requires imgaug<0.2.7,>=0.2.5, but you have imgaug 0.2.9 which is incompatible.\u001b[0m\n",
            "Successfully installed scipy-1.7.3\n"
          ]
        }
      ]
    },
    {
      "cell_type": "code",
      "source": [
        "import pandas as pd\n",
        "import numpy as np\n",
        "import matplotlib.pyplot as plt\n",
        "import matplotlib.patches as mpatches\n",
        "from matplotlib import collections  as mc\n",
        "import seaborn as sns\n",
        "import math\n",
        "from scipy import stats\n",
        "from scipy.stats import norm\n",
        "from scipy.stats import chi2\n",
        "from scipy.stats import t\n",
        "from scipy.stats import f\n",
        "from scipy.stats import bernoulli\n",
        "from scipy.stats import binom\n",
        "from scipy.stats import nbinom\n",
        "from scipy.stats import geom\n",
        "from scipy.stats import poisson\n",
        "from scipy.stats import uniform\n",
        "from scipy.stats import randint\n",
        "from scipy.stats import expon\n",
        "from scipy.stats import gamma\n",
        "from scipy.stats import beta\n",
        "from scipy.stats import weibull_min\n",
        "from scipy.stats import hypergeom\n",
        "from scipy.stats import shapiro\n",
        "from scipy.stats import pearsonr\n",
        "from scipy.stats import normaltest\n",
        "from scipy.stats import anderson\n",
        "from scipy.stats import spearmanr\n",
        "from scipy.stats import kendalltau\n",
        "from scipy.stats import chi2_contingency\n",
        "from scipy.stats import ttest_ind\n",
        "from scipy.stats import ttest_rel\n",
        "from scipy.stats import mannwhitneyu\n",
        "from scipy.stats import wilcoxon\n",
        "from scipy.stats import kruskal\n",
        "from scipy.stats import friedmanchisquare\n",
        "from statsmodels.tsa.stattools import adfuller\n",
        "from statsmodels.tsa.stattools import kpss\n",
        "from statsmodels.stats.weightstats import ztest\n",
        "import statsmodels.api as sm\n",
        "from sklearn.linear_model import LinearRegression\n",
        "from scipy.integrate import quad\n",
        "from statsmodels.stats.outliers_influence import summary_table\n",
        "from statsmodels.sandbox.regression.predstd import wls_prediction_std\n",
        "from statsmodels.stats.outliers_influence import variance_inflation_factor\n",
        "from IPython.display import display, Latex\n",
        "\n",
        "import warnings\n",
        "warnings.filterwarnings('ignore')\n",
        "warnings.simplefilter(action='ignore', category=FutureWarning)"
      ],
      "metadata": {
        "id": "o60rxBbwmJM5",
        "colab": {
          "base_uri": "https://localhost:8080/"
        },
        "outputId": "09f6dd68-24f7-4950-c0b0-ae66b24921e1"
      },
      "execution_count": 2,
      "outputs": [
        {
          "output_type": "stream",
          "name": "stderr",
          "text": [
            "/usr/local/lib/python3.7/dist-packages/statsmodels/tools/_testing.py:19: FutureWarning: pandas.util.testing is deprecated. Use the functions in the public API at pandas.testing instead.\n",
            "  import pandas.util.testing as tm\n"
          ]
        }
      ]
    },
    {
      "cell_type": "markdown",
      "source": [
        "<a name='Introduction'></a>\n",
        "\n",
        "## **6.1. Introduction:**"
      ],
      "metadata": {
        "id": "TYGH-jIj60Y-"
      }
    },
    {
      "cell_type": "markdown",
      "source": [
        "In many situations, there is a single response variable $Y$ , also called the dependent variable, which depends on the value of a set of input, also called independent variables $x_1, ... , x_n$. The simplest type of relationship between the dependent variable $Y$ and the\n",
        "input variables $x_1, ... , x_n$ is a linear relationship. \n",
        "\n",
        "If regression coefficients are $β_0, β_1, ... , β_n$:\n",
        "\n",
        "$Y = β_0 + β_1 x_1 +···+ β_r x_n + e$\n",
        "\n",
        "where $e$, representing the random error, is assumed to be a random variable having mean 0.\n",
        "\n",
        "$E[Y|x] = β_0 + β_1 x_1 +···+ β_r x_n$"
      ],
      "metadata": {
        "id": "MAV-GAUk2b1a"
      }
    },
    {
      "cell_type": "code",
      "source": [
        "x = [100,102,103,101,105,100,99,105]\n",
        "y = [259,264,274,268,277,263,258,275]\n",
        "  \n",
        "plt.xlabel('X')\n",
        "plt.ylabel('Y')\n",
        "plt.title('Scatter Plot')\n",
        "plt.scatter(x, y, color ='blue', marker='*');"
      ],
      "metadata": {
        "colab": {
          "base_uri": "https://localhost:8080/",
          "height": 0
        },
        "id": "ITyOdRFv1N4B",
        "outputId": "085af27c-deee-4951-a9e5-f7494d2e0f61"
      },
      "execution_count": 3,
      "outputs": [
        {
          "output_type": "display_data",
          "data": {
            "text/plain": [
              "<Figure size 432x288 with 1 Axes>"
            ],
            "image/png": "[encoded data removed]"
          },
          "metadata": {
            "needs_background": "light"
          }
        }
      ]
    },
    {
      "cell_type": "markdown",
      "source": [
        "<a name='Least_Squares_Estimators_of_the_Regression_Parameters'></a>\n",
        "\n",
        "## **6.2. Least Squares Estimators of the Regression Parameters:**"
      ],
      "metadata": {
        "id": "1TiL2kLK8Wlq"
      }
    },
    {
      "cell_type": "code",
      "source": [
        "x = [100,102,103,101,105,100,99,105]\n",
        "y = [259,264,274,268,277,263,258,275]\n",
        "\n",
        "a = -40.10169491525426\n",
        "b = 3.016949152542373\n",
        "ax = plt.subplot()\n",
        "ax.scatter(x, y, c='r', zorder=2)\n",
        "\n",
        "xs = np.linspace(98.9,105.1)\n",
        "ax.plot(xs, b*xs+a, c='k', lw=2)\n",
        "\n",
        "# computing and plotting grey lines\n",
        "lines = [[(i,j), (i,i*b+a)] for i,j in zip(x,y)]\n",
        "lc = mc.LineCollection(lines, colors='grey', linewidths=1, zorder=1)\n",
        "ax.add_collection(lc);"
      ],
      "metadata": {
        "colab": {
          "base_uri": "https://localhost:8080/",
          "height": 265
        },
        "id": "Lj81xxhEmuPP",
        "outputId": "38a2b8df-e7bb-419a-f258-061a3f83d1f9"
      },
      "execution_count": 4,
      "outputs": [
        {
          "output_type": "display_data",
          "data": {
            "text/plain": [
              "<Figure size 432x288 with 1 Axes>"
            ],
            "image/png": "[encoded data removed]"
          },
          "metadata": {
            "needs_background": "light"
          }
        }
      ]
    },
    {
      "cell_type": "markdown",
      "source": [
        "$Y_i = A + Bx_i + \\varepsilon_i$\n",
        "\n",
        "For estimating regression parameters, one way is to minimize the sum of the squared differences between the estimated responses and the actual response values (black vertical lines shown above is our errors which we want to minimize).\n",
        "\n",
        "$SSE =  \\sum_{i=1}^n (y_i - \\widehat{A} -  \\widehat{B}\\ x_i)^2 $ \n",
        "\n",
        "$\\\\ $\n",
        "\n",
        "To determine these estimators, we differentiate Q first with respect to A and then to B as follows:\n",
        "\n",
        "$\\frac{\\partial SSE}{\\partial \\widehat{A}} = 0 \\rightarrow -2\\ \\sum_{i=1}^n (y_i - \\widehat{A} -  \\widehat{B}\\ x_i) = 0$\n",
        "\n",
        "$\\frac{\\partial SSE}{\\partial \\widehat{B}} = 0 \\rightarrow -2\\ \\sum_{i=1}^n x_i\\ (y_i - \\widehat{A} -  \\widehat{B}\\ x_i) = 0$\n",
        "\n",
        "$\\\\ $\n",
        "\n",
        "The results are:\n",
        "\n",
        "$\\widehat{B} = b = \\frac{S_{xy}}{S_{xx}}$\n",
        "\n",
        "$\\widehat{A} = a = \\overline{y} - B\\ \\overline{x}$\n",
        "\n",
        "$S_{xx} = \\sum_{i=1}^n (x_i - \\overline{x})^2 = \\sum_{i=1}^n x_i^2 - n \\overline{x}^2 = \\sum_{i=1}^n (x_i - \\overline{x})x_i$\n",
        "\n",
        "$S_{yy} = \\sum_{i=1}^n (y_i - \\overline{y})^2 = \\sum_{i=1}^n y_i^2 - n \\overline{y}^2 = \\sum_{i=1}^n (y_i - \\overline{y})y_i$\n",
        "\n",
        "$S_{xy} = \\sum_{i=1}^n (x_i - \\overline{x})(y_i - \\overline{y}) = \\sum_{i=1}^n x_i y_i - n \\overline{x}\\ \\overline{y} = \\sum_{i=1}^n (x_i - \\overline{x})y_i$"
      ],
      "metadata": {
        "id": "HYNWxPRBKZwn"
      }
    },
    {
      "cell_type": "code",
      "source": [
        "x = [100,102,103,101,105,100,99,105]\n",
        "y = [259,264,274,268,277,263,258,275]\n",
        "\n",
        "xx = []\n",
        "for i in x:\n",
        "  xx.append((i - np.mean(x))**2)\n",
        "S_xx = np.sum(xx)\n",
        "\n",
        "yy = []\n",
        "for i in y:\n",
        "  yy.append((i - np.mean(y))**2)\n",
        "S_yy = np.sum(yy)\n",
        "\n",
        "xy = []\n",
        "for i in range(len(x)):\n",
        "  xy.append((x[i] - np.mean(x))* (y[i] - np.mean(y)))\n",
        "S_xy = np.sum(xy)\n",
        "\n",
        "B_hat = (S_xy) / (S_xx)\n",
        "A_hat = np.mean(y) - B_hat *  np.mean(x)\n",
        "print(f'A_hat : {A_hat}, B_hat : {B_hat}')"
      ],
      "metadata": {
        "colab": {
          "base_uri": "https://localhost:8080/"
        },
        "id": "BNbOL4cY8YuD",
        "outputId": "919f5839-222e-4e7f-cbd4-bb3b7e9b706a"
      },
      "execution_count": 5,
      "outputs": [
        {
          "output_type": "stream",
          "name": "stdout",
          "text": [
            "A_hat : -40.10169491525426, B_hat : 3.016949152542373\n"
          ]
        }
      ]
    },
    {
      "cell_type": "code",
      "source": [
        "x = [100,102,103,101,105,100,99,105]\n",
        "y = [259,264,274,268,277,263,258,275]\n",
        "  \n",
        "s = np.arange(np.min(x)-0.5, np.max(x)+0.5, 0.001)\n",
        "\n",
        "plt.xlabel('X')\n",
        "plt.ylabel('Y')\n",
        "plt.title('Regression Line')\n",
        "plt.scatter(x, y, color ='blue', marker='*')\n",
        "plt.plot(s, A_hat + B_hat*s, color ='red');"
      ],
      "metadata": {
        "colab": {
          "base_uri": "https://localhost:8080/",
          "height": 295
        },
        "id": "SA5r74OjU91X",
        "outputId": "4c985752-3c69-4536-a26d-6068216ffea7"
      },
      "execution_count": 42,
      "outputs": [
        {
          "output_type": "display_data",
          "data": {
            "text/plain": [
              "<Figure size 432x288 with 1 Axes>"
            ],
            "image/png": "[encoded data removed]"
          },
          "metadata": {
            "needs_background": "light"
          }
        }
      ]
    },
    {
      "cell_type": "markdown",
      "source": [
        "The other way is to use the statsmodel library. It will automatically take care of all the calculations. "
      ],
      "metadata": {
        "id": "Is62tU_0XEtv"
      }
    },
    {
      "cell_type": "code",
      "source": [
        "x = [100,102,103,101,105,100,99,105]\n",
        "y = [259,264,274,268,277,263,258,275]\n",
        "\n",
        "x = sm.add_constant(x)\n",
        "model = sm.OLS(y, x)\n",
        "reg = model.fit()\n",
        "print(reg.summary())"
      ],
      "metadata": {
        "colab": {
          "base_uri": "https://localhost:8080/"
        },
        "id": "-ahULX5nXOlw",
        "outputId": "dd0f605e-a374-4ba8-e5a7-a9592a163031"
      },
      "execution_count": 7,
      "outputs": [
        {
          "output_type": "stream",
          "name": "stdout",
          "text": [
            "                            OLS Regression Results                            \n",
            "==============================================================================\n",
            "Dep. Variable:                      y   R-squared:                       0.875\n",
            "Model:                            OLS   Adj. R-squared:                  0.854\n",
            "Method:                 Least Squares   F-statistic:                     42.07\n",
            "Date:                Mon, 20 Jun 2022   Prob (F-statistic):           0.000638\n",
            "Time:                        10:23:33   Log-Likelihood:                -18.507\n",
            "No. Observations:                   8   AIC:                             41.01\n",
            "Df Residuals:                       6   BIC:                             41.17\n",
            "Df Model:                           1                                         \n",
            "Covariance Type:            nonrobust                                         \n",
            "==============================================================================\n",
            "                 coef    std err          t      P>|t|      [0.025      0.975]\n",
            "------------------------------------------------------------------------------\n",
            "const        -40.1017     47.395     -0.846      0.430    -156.072      75.869\n",
            "x1             3.0169      0.465      6.486      0.001       1.879       4.155\n",
            "==============================================================================\n",
            "Omnibus:                        0.896   Durbin-Watson:                   1.370\n",
            "Prob(Omnibus):                  0.639   Jarque-Bera (JB):                0.565\n",
            "Skew:                           0.081   Prob(JB):                        0.754\n",
            "Kurtosis:                       1.708   Cond. No.                     4.84e+03\n",
            "==============================================================================\n",
            "\n",
            "Warnings:\n",
            "[1] Standard Errors assume that the covariance matrix of the errors is correctly specified.\n",
            "[2] The condition number is large, 4.84e+03. This might indicate that there are\n",
            "strong multicollinearity or other numerical problems.\n"
          ]
        }
      ]
    },
    {
      "cell_type": "markdown",
      "source": [
        "You can also use the sklearn library."
      ],
      "metadata": {
        "id": "Byj44PUge0IA"
      }
    },
    {
      "cell_type": "code",
      "source": [
        "x = np.array([100,102,103,101,105,100,99,105]).reshape(-1, 1)\n",
        "y = np.array([259,264,274,268,277,263,258,275]).reshape(-1, 1)\n",
        "\n",
        "regr = LinearRegression()\n",
        "regr.fit(x, y)\n",
        "print(f'intercept: {float(regr.intercept_)}, coefficient: {float(regr.coef_)}')"
      ],
      "metadata": {
        "colab": {
          "base_uri": "https://localhost:8080/"
        },
        "id": "pH9uQSOAfMNk",
        "outputId": "2c0516cd-56cc-4bb5-b081-02eaacd0596e"
      },
      "execution_count": 8,
      "outputs": [
        {
          "output_type": "stream",
          "name": "stdout",
          "text": [
            "intercept: -40.10169491525426, coefficient: 3.0169491525423733\n"
          ]
        }
      ]
    },
    {
      "cell_type": "markdown",
      "source": [
        "**Sum of Squares Error (SSE):** The sum of squared differences between predicted data points $\\widehat{y_i}$ and observed data points $y_i$. \n",
        "\n",
        "$SSE = \\sum_{i=1}^n (\\widehat{y_i} - y_i)^2 = S_{yy} - \\frac{S_{xy}^2}{S_{xx}} = S_{yy} - b\\ S_{xy} = S_{yy} - b^2\\ S_{xx}$\n",
        "\n",
        "**Sum of Squares Regression (SSR):** The sum of squared differences between predicted data points $\\widehat{y_i}$ and the mean of the response variable $\\overline{y_i}$\n",
        "\n",
        "$SSR = \\sum_{i=1}^n (\\widehat{y_i} - \\overline{y_i})^2 = \\frac{S_{xy}^2}{S_{xx}}$\n",
        "\n",
        "**Sum of Squares Total (SST):** The sum of squared differences between individual data points $y_i$ and the mean of the response variable $\\overline{y_i}$.\n",
        "\n",
        "$SST = \\sum_{i=1}^n (y_i - \\overline{y_i})^2$\n",
        "\n",
        "$\\\\ $\n",
        "\n",
        "The following relationship exists between these three measures: $SST = SSR + SSE$\n",
        "\n",
        "$\\\\ $\n",
        "\n",
        "**R-Squared:**\n",
        "\n",
        "$R^2$ sometimes referred to as the coefficient of determination, is a measure of how well a linear regression model fits a dataset. It represents the proportion of the variance in the response variable that can be explained by the predictor variable. The value for $R^2$ can range from 0 to 1. \n",
        "\n",
        "A value of 0 indicates that the response variable cannot be explained by the predictor variable at all. A value of 1 indicates that the response variable can be perfectly explained without error by the predictor variable.\n",
        "\n",
        "$R^2 = \\frac{SSR}{SST} = \\frac{S_{xy}^2}{S_{xx}S_{yy}}$\n",
        "\n",
        "$\\\\ $\n",
        "\n",
        "**Adjusted R-Squared:**\n",
        "\n",
        "Adjusted $R^2$ is a corrected goodness-of-fit (model accuracy) measure for linear models. $R^2$ tends to optimistically estimate the fit of the linear regression. It always increases as the number of effects are included in the model. Adjusted $R^2$ attempts to correct for this overestimation. Adjusted $R^2$ might decrease if a specific effect does not improve the model. In other words, the adjusted $R^2$ will penalize you for adding independent variables that do not fit the model. Adjusted $R^2$ is always less than or equal to $R^2$.\n",
        "\n",
        "n: Number of points in your data set.\n",
        "\n",
        "k: Number of independent variables in the model, excluding the constant\n",
        "\n",
        "Adjusted $R^2 = 1-\\frac{(1-R^2)\\ x\\ (n-1)}{(n-k-1)}$"
      ],
      "metadata": {
        "id": "YoPPjDpDp-8c"
      }
    },
    {
      "cell_type": "markdown",
      "source": [
        "<a name='Statistical_Inferences_about_the_Regression_Parameters'></a>\n",
        "\n",
        "## **6.3. Statistical Inferences about the Regression Parameters:**"
      ],
      "metadata": {
        "id": "Wr9dJbIJTLR0"
      }
    },
    {
      "cell_type": "markdown",
      "source": [
        "<a name='Inferences_Concerning_B'></a>\n",
        "\n",
        "### **6.3.1. Inferences Concerning $B$:**"
      ],
      "metadata": {
        "id": "IatgOLJgjUKY"
      }
    },
    {
      "cell_type": "markdown",
      "source": [
        "<a name='Known_Variance'></a>\n",
        "\n",
        "#### **6.3.1.1. Known Variance:**"
      ],
      "metadata": {
        "id": "Wdk-sNNkkx86"
      }
    },
    {
      "cell_type": "markdown",
      "source": [
        "**A. Two Tailed Test:**\n",
        "\n",
        "$H_0:\\ B = B_0$\n",
        "\n",
        "$H_1:\\ B  \\neq B_0$\n",
        "\n",
        "$\\\\ $\n",
        "\n",
        "Testing statistics: \n",
        "\n",
        "$Z_0  \\equiv \\frac{b\\ -\\ B_0}{\\frac{\\sigma}{\\sqrt{S_{xx}}}}$\n",
        "\n",
        "$\\\\ $\n",
        "\n",
        "Significance level = $\\alpha$\n",
        "\n",
        "We accept $H_0$ if:\n",
        "\n",
        "1. $-\\ Z_{\\frac{\\alpha}{2}}\\ <\\ Z_0 = \\frac{b\\ -\\ B_0}{\\frac{\\sigma}{\\sqrt{S_{xx}}}}\\ <\\ Z_{\\frac{\\alpha}{2}}$\n",
        "\n",
        "2. P_value $ = 2 \\times P(Z \\geq |Z_0|) > \\alpha$"
      ],
      "metadata": {
        "id": "lRVBB3m3jtB2"
      }
    },
    {
      "cell_type": "markdown",
      "source": [
        "**B. One-sided tests:**\n",
        "\n",
        "**Right-tailed test:**\n",
        "\n",
        "$H_0:\\ B =  B_0\\ \\quad or \\quad H_0:\\ \\mu  \\leq B_0$\n",
        "\n",
        "$H_1:\\ B  > B_0$\n",
        "\n",
        "$\\\\ $\n",
        "\n",
        "Testing statistics: \n",
        "\n",
        "$Z_0  \\equiv \\frac{b\\ -\\ B_0}{\\frac{\\sigma}{\\sqrt{S_{xx}}}}$\n",
        "\n",
        "$\\\\ $\n",
        "\n",
        "Significance level = $\\alpha$\n",
        "\n",
        "We accept $H_0$ if:\n",
        "\n",
        "1. $ -\\infty <\\ Z_0 = \\frac{b\\ -\\ B_0}{\\frac{\\sigma}{\\sqrt{S_{xx}}}}\\ <\\ Z_{\\alpha} $\n",
        "\n",
        "2. P_value $ = P(Z \\geq Z_0) > \\alpha$"
      ],
      "metadata": {
        "id": "McNI-w0Wl6Jh"
      }
    },
    {
      "cell_type": "markdown",
      "source": [
        "**Left-tailed test:**\n",
        "\n",
        "$H_0:\\ B =  B_0 \\quad or \\quad H_0:\\ B  \\geq B_0$\n",
        "\n",
        "$H_1:\\ B < B_0$\n",
        "\n",
        "$\\\\ $\n",
        "\n",
        "Testing statistics: \n",
        "\n",
        "$Z_0  \\equiv \\frac{b\\ -\\ B_0}{\\frac{\\sigma}{\\sqrt{S_{xx}}}}$\n",
        "\n",
        "$\\\\ $\n",
        "\n",
        "Significance level = $\\alpha$\n",
        "\n",
        "We accept $H_0$ if:\n",
        "\n",
        "1. $-\\ Z_{\\alpha}\\ <\\ Z_0 = \\frac{b\\ -\\ B_0}{\\frac{\\sigma}{\\sqrt{S_{xx}}}}\\ <\\ \\infty $\n",
        "\n",
        "2. P_value $ = P(Z \\leq Z_0) > \\alpha$"
      ],
      "metadata": {
        "id": "H1whcPQ_mRtg"
      }
    },
    {
      "cell_type": "code",
      "source": [
        "class test_coefficient_known_variance:\n",
        "  \"\"\"\n",
        "  Parameters\n",
        "  ----------\n",
        "  null_b : B0\n",
        "  b : estimate of B\n",
        "  population_sd : known standrad deviation of the population\n",
        "  alpha : significance level\n",
        "  type_t : 'two_tailed', 'right_tailed', 'left_tailed'\n",
        "  S_xx\n",
        "  S_xy\n",
        "  data_x : optional\n",
        "  data_y : optional\n",
        "  \"\"\"\n",
        "  def __init__(self, null_b, population_sd, type_t, alpha, S_xx = 0., S_xy = 0., data_x=None, data_y=None):\n",
        "    self.null_b = null_b\n",
        "    self.population_sd = population_sd\n",
        "    self.type_t = type_t\n",
        "    self.alpha = alpha\n",
        "    self.S_xx = S_xx\n",
        "    self.S_xy = S_xy\n",
        "    self.data_x = data_x\n",
        "    self.data_y = data_y\n",
        "    if data_x is not None:\n",
        "      xx = []\n",
        "      for i in list(data_x):\n",
        "        xx.append((i - np.mean(list(data_x)))**2)\n",
        "      self.S_xx = np.sum(xx)\n",
        "\n",
        "      xy = []\n",
        "      for i in range(len(data_x)):\n",
        "        xy.append((data_x[i] - np.mean(data_x))* (data_y[i] - np.mean(data_y)))\n",
        "      self.S_xy = np.sum(xy)\n",
        "\n",
        "    test_coefficient_known_variance.__test(self)\n",
        "  \n",
        "  def __test(self):\n",
        "    b = self.S_xy / self.S_xx\n",
        "    test_statistic = (b - self.null_b) / (self.population_sd - np.sqrt(self.S_xx))\n",
        "    print('test_statistic:', test_statistic, '\\n')\n",
        "\n",
        "    if self.type_t == 'two_tailed':\n",
        "      p_value = 2*(1-norm.cdf(abs(test_statistic)))\n",
        "      print('P_value:', p_value, '\\n')\n",
        "    elif self.type_t == 'left_tailed':\n",
        "      p_value = (norm.cdf(test_statistic))\n",
        "      print('P_value:', p_value, '\\n')\n",
        "    else:\n",
        "       p_value = (1-norm.cdf(test_statistic))\n",
        "       print('P_value:', p_value, '\\n')\n",
        "\n",
        "    if p_value < self.alpha:\n",
        "      print(f'Since p_value < {self.alpha}, reject null hypothesis.')\n",
        "    else:\n",
        "      print(f'Since p_value > {self.alpha}, the null hypothesis cannot be rejected.')"
      ],
      "metadata": {
        "id": "EEkoJhe1SwJb"
      },
      "execution_count": 9,
      "outputs": []
    },
    {
      "cell_type": "code",
      "source": [
        "x = [100,102,103,101,105,100,99,105]\n",
        "y = [259,264,274,268,277,263,258,275]\n",
        "\n",
        "test_coefficient_known_variance(null_b = 0, population_sd = 2, type_t = 'two_tailed', alpha = 0.05, data_x = x, data_y = y);"
      ],
      "metadata": {
        "colab": {
          "base_uri": "https://localhost:8080/"
        },
        "id": "oMwjAr71pecL",
        "outputId": "310e60c3-efde-4559-8d73-069c93eae4c2"
      },
      "execution_count": 10,
      "outputs": [
        {
          "output_type": "stream",
          "name": "stdout",
          "text": [
            "test_statistic: -0.7408139430728671 \n",
            "\n",
            "P_value: 0.45880625987978396 \n",
            "\n",
            "Since p_value > 0.05, the null hypothesis cannot be rejected.\n"
          ]
        }
      ]
    },
    {
      "cell_type": "markdown",
      "source": [
        "<a name='Unknown_Variance'></a>\n",
        "\n",
        "#### **6.3.1.2. Unknown Variance:**"
      ],
      "metadata": {
        "id": "iPbXBvg3m-2e"
      }
    },
    {
      "cell_type": "markdown",
      "source": [
        "**A. Two Tailed Test:**\n",
        "\n",
        "$H_0:\\ B = B_0$\n",
        "\n",
        "$H_1:\\ B  \\neq B_0$\n",
        "\n",
        "$\\\\ $\n",
        "\n",
        "Testing statistics: \n",
        "\n",
        "$t_0  \\equiv \\frac{b\\ -\\ B_0}{\\frac{S_{y|x}}{\\sqrt{S_{xx}}}}$\n",
        "\n",
        "$S_{y|x} = \\sqrt{MSE} = \\sqrt{\\frac{SSE}{n-2}} = \\sqrt{\\frac{(S_{yy}- \\frac{S_{xy}^2}{S_{xx}})}{n-2}}$\n",
        "\n",
        "$\\\\ $\n",
        "\n",
        "Significance level = $\\alpha$\n",
        "\n",
        "We accept $H_0$ if:\n",
        "\n",
        "1. $-\\ t_{\\frac{\\alpha}{2},n-2}\\ <\\ t_0 = \\frac{b\\ -\\ B_0}{\\frac{S_{y|x}}{\\sqrt{S_{xx}}}} <\\ t_{\\frac{\\alpha}{2},n-2}$\n",
        "\n",
        "2. P_value $ = 2 \\times P(t_{n-2} \\geq |t_0|) > \\alpha$"
      ],
      "metadata": {
        "id": "PajDver2rsLG"
      }
    },
    {
      "cell_type": "markdown",
      "source": [
        "**B. One-sided tests:**\n",
        "\n",
        "**Right-tailed test:**\n",
        "\n",
        "$H_0:\\ B = B_0\\ \\quad or \\quad H_0:\\ B \\leq B_0$\n",
        "\n",
        "$H_1:\\ B > B_0$\n",
        "\n",
        "$\\\\ $\n",
        "\n",
        "Testing statistics: \n",
        "\n",
        "$t_0  \\equiv \\frac{b\\ -\\ B_0}{\\frac{S_{y|x}}{\\sqrt{S_{xx}}}}$\n",
        "\n",
        "$S_{y|x} = \\sqrt{MSE} = \\sqrt{\\frac{SSE}{n-2}} = \\sqrt{\\frac{(S_{yy}- \\frac{S_{xy}^2}{S_{xx}})}{n-2}}$\n",
        "\n",
        "$\\\\ $\n",
        "\n",
        "Significance level = $\\alpha$\n",
        "\n",
        "We accept $H_0$ if:\n",
        "\n",
        "1. $ -\\infty <\\ t_0  = \\frac{b\\ -\\ B_0}{\\frac{S_{y|x}}{\\sqrt{S_{xx}}}}\\ <\\ t_{\\alpha, n-2} $\n",
        "\n",
        "2. P_value $ = P(t_{n-2} \\geq t_0) > \\alpha$"
      ],
      "metadata": {
        "id": "MUQNiMxAuX66"
      }
    },
    {
      "cell_type": "markdown",
      "source": [
        "**Left-tailed test:**\n",
        "\n",
        "$H_0:\\ B = B_0 \\quad or \\quad H_0:\\ B \\geq B_0$\n",
        "\n",
        "$H_1:\\ B < B_0$\n",
        "\n",
        "$\\\\ $\n",
        "\n",
        "Testing statistics: \n",
        "\n",
        "$t_0  \\equiv \\frac{b\\ -\\ B_0}{\\frac{S_{y|x}}{\\sqrt{S_{xx}}}}$\n",
        "\n",
        "$S_{y|x} = \\sqrt{MSE} = \\sqrt{\\frac{SSE}{n-2}} = \\sqrt{\\frac{(S_{yy}- \\frac{S_{xy}^2}{S_{xx}})}{n-2}}$\n",
        "\n",
        "$\\\\ $\n",
        "\n",
        "Significance level = $\\alpha$\n",
        "\n",
        "We accept $H_0$ if:\n",
        "\n",
        "1. $ -\\ t_{\\alpha, n-2} <\\ t_0  = \\frac{b\\ -\\ B_0}{\\frac{S_{y|x}}{\\sqrt{S_{xx}}}}\\ <\\  \\infty$\n",
        "\n",
        "2. P_value $ = P(t_{n-2} \\leq t_0) > \\alpha$"
      ],
      "metadata": {
        "id": "Yir9qjUIuuo4"
      }
    },
    {
      "cell_type": "code",
      "source": [
        "class test_coefficient_unknown_variance:\n",
        "  \"\"\"\n",
        "  Parameters\n",
        "  ----------\n",
        "  null_b : B0\n",
        "  b : estimate of B\n",
        "  alpha : significance level\n",
        "  type_t : 'two_tailed', 'right_tailed', 'left_tailed'\n",
        "  S_xx\n",
        "  S_xy\n",
        "  S_yy\n",
        "  data_x : optional\n",
        "  data_y : optional\n",
        "  \"\"\"\n",
        "  def __init__(self, null_b, alpha, type_t, n = 0., S_xx = 0., S_xy = 0., S_yy = 0., data_x=None, data_y=None):\n",
        "    self.null_b = null_b\n",
        "    self.type_t = type_t\n",
        "    self.alpha = alpha\n",
        "    self.n = n\n",
        "    self.S_xx = S_xx\n",
        "    self.S_xy = S_xy\n",
        "    self.S_yy = S_yy\n",
        "    self.data_x = data_x\n",
        "    self.data_y = data_y\n",
        "    if data_x is not None:\n",
        "      self.n = len(list(data_x))\n",
        "      xx = []\n",
        "      for i in list(data_x):\n",
        "        xx.append((i - np.mean(list(data_x)))**2)\n",
        "      self.S_xx = np.sum(xx)\n",
        "\n",
        "      yy = []\n",
        "      for i in list(data_y):\n",
        "        yy.append((i - np.mean(list(data_y)))**2)\n",
        "      self.S_yy = np.sum(yy)\n",
        "\n",
        "      xy = []\n",
        "      for i in range(len(data_x)):\n",
        "        xy.append((data_x[i] - np.mean(data_x))* (data_y[i] - np.mean(data_y)))\n",
        "      self.S_xy = np.sum(xy)\n",
        "      self.Syx=None\n",
        "    \n",
        "    test_coefficient_unknown_variance.__test(self)    \n",
        "\n",
        "  def __test(self):\n",
        "    b = self.S_xy / self.S_xx\n",
        "    self.Syx = np.sqrt(((self.S_yy) - ((self.S_xy)**2 / (self.S_xx))) / (self.n-2))\n",
        "    test_statistic = (b - self.null_b) / (self.Syx / np.sqrt(self.S_xx))\n",
        "    print('test_statistic:', test_statistic, '\\n')\n",
        "    \n",
        "    if self.type_t == 'two_tailed':\n",
        "      p_value = 2*(1-t.cdf(abs(test_statistic), df=self.n-2))\n",
        "      print('P_value:', p_value, '\\n')\n",
        "    elif self.type_t == 'left_tailed':\n",
        "      p_value = (t.cdf(test_statistic, df=self.n-2))\n",
        "      print('P_value:', p_value, '\\n')\n",
        "    else:\n",
        "       p_value = (1-t.cdf(test_statistic, df=self.n-2))\n",
        "       print('P_value:', p_value, '\\n')\n",
        "\n",
        "    if p_value < self.alpha:\n",
        "      print(f'Since p_value < {self.alpha}, reject null hypothesis.')\n",
        "    else:\n",
        "      print(f'Since p_value > {self.alpha}, the null hypothesis cannot be rejected.')"
      ],
      "metadata": {
        "id": "yTk8vwIrnCHm"
      },
      "execution_count": 11,
      "outputs": []
    },
    {
      "cell_type": "code",
      "source": [
        "x = [45,50,55,60,65,70,75]\n",
        "y = [24.2,25,23.3,22,21.5,20.6,19.8]\n",
        "\n",
        "test_coefficient_unknown_variance(null_b = 0, type_t = 'two_tailed', alpha = 0.05, data_x = x, data_y = y);"
      ],
      "metadata": {
        "colab": {
          "base_uri": "https://localhost:8080/"
        },
        "id": "MPupst8qrP9R",
        "outputId": "aa1e5154-911f-4fa0-fd30-13cf7814b2f6"
      },
      "execution_count": 12,
      "outputs": [
        {
          "output_type": "stream",
          "name": "stdout",
          "text": [
            "test_statistic: -8.13847644694359 \n",
            "\n",
            "P_value: 0.0004547603641058551 \n",
            "\n",
            "Since p_value < 0.05, reject null hypothesis.\n"
          ]
        }
      ]
    },
    {
      "cell_type": "code",
      "source": [
        "test_coefficient_unknown_variance(null_b = 0, type_t = 'two_tailed', alpha = 0.05, n=22, S_xx = 5, S_xy = 3, S_yy = 7);"
      ],
      "metadata": {
        "colab": {
          "base_uri": "https://localhost:8080/"
        },
        "id": "iPUJchAY2WEy",
        "outputId": "04bc05ad-1f4c-436d-db7d-fec547d53238"
      },
      "execution_count": 13,
      "outputs": [
        {
          "output_type": "stream",
          "name": "stdout",
          "text": [
            "test_statistic: 2.631174057921087 \n",
            "\n",
            "P_value: 0.016008148639689912 \n",
            "\n",
            "Since p_value < 0.05, reject null hypothesis.\n"
          ]
        }
      ]
    },
    {
      "cell_type": "markdown",
      "source": [
        "<a name='Inferences_Concerning_A'></a>\n",
        "\n",
        "### **6.3.2. Inferences Concerning $A$:**"
      ],
      "metadata": {
        "id": "NGr8PKz4P-UZ"
      }
    },
    {
      "cell_type": "markdown",
      "source": [
        "<a name='Unknown_Variance_A'></a>\n",
        "\n",
        "#### **6.3.2.1. Unknown Variance:**"
      ],
      "metadata": {
        "id": "0NX0f42yQJ8L"
      }
    },
    {
      "cell_type": "markdown",
      "source": [
        "**A. Two Tailed Test:**\n",
        "\n",
        "$H_0:\\ A = A_0$\n",
        "\n",
        "$H_1:\\ A  \\neq A_0$\n",
        "\n",
        "$\\\\ $\n",
        "\n",
        "Testing statistics: \n",
        "\n",
        "$t_0  \\equiv \\frac{a\\ -\\ A_0}{S_{y|x} \\sqrt{\\frac{1}{n} + \\frac{\\overline{x}^2}{S_{xx}}}}$\n",
        "\n",
        "$S_{y|x} = \\sqrt{MSE} = \\sqrt{\\frac{SSE}{n-2}} = \\sqrt{\\frac{(S_{yy}- \\frac{S_{xy}^2}{S_{xx}})}{n-2}}$\n",
        "\n",
        "$\\\\ $\n",
        "\n",
        "Significance level = $\\alpha$\n",
        "\n",
        "We accept $H_0$ if:\n",
        "\n",
        "1. $-\\ t_{\\frac{\\alpha}{2},n-2}\\ <\\ t_0 = \\frac{a\\ -\\ A_0}{S_{y|x} \\sqrt{\\frac{1}{n} + \\frac{\\overline{x}^2}{S_{xx}}}} <\\ t_{\\frac{\\alpha}{2},n-2}$\n",
        "\n",
        "2. P_value $ = 2 \\times P(t_{n-2} \\geq |t_0|) > \\alpha$"
      ],
      "metadata": {
        "id": "FsWjyZBAQZ_U"
      }
    },
    {
      "cell_type": "markdown",
      "source": [
        "**B. One-sided tests:**\n",
        "\n",
        "**Right-tailed test:**\n",
        "\n",
        "$H_0:\\ A = A_0$\n",
        "\n",
        "$H_1:\\ A  \\neq A_0$\n",
        "\n",
        "$\\\\ $\n",
        "\n",
        "Testing statistics: \n",
        "\n",
        "$t_0  \\equiv \\frac{a\\ -\\ A_0}{S_{y|x} \\sqrt{\\frac{1}{n} + \\frac{\\overline{x}^2}{S_{xx}}}}$\n",
        "\n",
        "$S_{y|x} = \\sqrt{MSE} = \\sqrt{\\frac{SSE}{n-2}} = \\sqrt{\\frac{(S_{yy}- \\frac{S_{xy}^2}{S_{xx}})}{n-2}}$\n",
        "\n",
        "$\\\\ $\n",
        "\n",
        "Significance level = $\\alpha$\n",
        "\n",
        "We accept $H_0$ if:\n",
        "\n",
        "1. $ -\\infty <\\ t_0  = \\frac{a\\ -\\ A_0}{S_{y|x} \\sqrt{\\frac{1}{n} + \\frac{\\overline{x}^2}{S_{xx}}}}\\ <\\ t_{\\alpha, n-2} $\n",
        "\n",
        "2. P_value $ = P(t_{n-2} \\geq t_0) > \\alpha$"
      ],
      "metadata": {
        "id": "lXzcHZe8Rssq"
      }
    },
    {
      "cell_type": "markdown",
      "source": [
        "**Left-tailed test:**\n",
        "\n",
        "$H_0:\\ A = A_0$\n",
        "\n",
        "$H_1:\\ A  \\neq A_0$\n",
        "\n",
        "$\\\\ $\n",
        "\n",
        "Testing statistics: \n",
        "\n",
        "$t_0  \\equiv \\frac{a\\ -\\ A_0}{S_{y|x} \\sqrt{\\frac{1}{n} + \\frac{\\overline{x}^2}{S_{xx}}}}$\n",
        "\n",
        "$S_{y|x} = \\sqrt{MSE} = \\sqrt{\\frac{SSE}{n-2}} = \\sqrt{\\frac{(S_{yy}- \\frac{S_{xy}^2}{S_{xx}})}{n-2}}$\n",
        "\n",
        "$\\\\ $\n",
        "\n",
        "Significance level = $\\alpha$\n",
        "\n",
        "We accept $H_0$ if:\n",
        "\n",
        "1. $ -\\ t_{\\alpha, n-2} <\\ t_0  = \\frac{a\\ -\\ A_0}{S_{y|x} \\sqrt{\\frac{1}{n} + \\frac{\\overline{x}^2}{S_{xx}}}}\\ <\\  \\infty$\n",
        "\n",
        "2. P_value $ = P(t_{n-2} \\leq t_0) > \\alpha$"
      ],
      "metadata": {
        "id": "EJGfySgCR5qW"
      }
    },
    {
      "cell_type": "code",
      "source": [
        "class test_intercept_unknown_variance:\n",
        "  \"\"\"\n",
        "  Parameters\n",
        "  ----------\n",
        "  null_a : A0\n",
        "  a : estimate of A\n",
        "  alpha : significance level\n",
        "  type_t : 'two_tailed', 'right_tailed', 'left_tailed'\n",
        "  S_xx\n",
        "  S_xy\n",
        "  S_yy\n",
        "  data_x : optional\n",
        "  data_y : optional\n",
        "  \"\"\"\n",
        "  def __init__(self, null_a, alpha, type_t, n = 0., S_xx = 0., S_xy = 0., S_yy = 0., data_x=None, data_y=None):\n",
        "    self.null_a = null_a\n",
        "    self.type_t = type_t\n",
        "    self.alpha = alpha\n",
        "    self.n = n\n",
        "    self.S_xx = S_xx\n",
        "    self.S_xy = S_xy\n",
        "    self.S_yy = S_yy\n",
        "    self.data_x = data_x\n",
        "    self.data_y = data_y\n",
        "    if data_x is not None:\n",
        "      self.n = len(list(data_x))\n",
        "      xx = []\n",
        "      for i in list(data_x):\n",
        "        xx.append((i - np.mean(list(data_x)))**2)\n",
        "      self.S_xx = np.sum(xx)\n",
        "\n",
        "      yy = []\n",
        "      for i in list(data_y):\n",
        "        yy.append((i - np.mean(list(data_y)))**2)\n",
        "      self.S_yy = np.sum(yy)\n",
        "\n",
        "      xy = []\n",
        "      for i in range(len(data_x)):\n",
        "        xy.append((data_x[i] - np.mean(data_x))* (data_y[i] - np.mean(data_y)))\n",
        "      self.S_xy = np.sum(xy)\n",
        "      self.Syx=None\n",
        "    \n",
        "    test_intercept_unknown_variance.__test(self)    \n",
        "\n",
        "  def __test(self):\n",
        "    b = self.S_xy / self.S_xx\n",
        "    a = np.mean(self.data_y) - b * np.mean(self.data_x)\n",
        "    self.Syx = np.sqrt(((self.S_yy) - ((self.S_xy)**2 / (self.S_xx))) / (self.n-2))\n",
        "    test_statistic = (a - self.null_a) / (self.Syx * np.sqrt((1/self.n) + ((np.mean(self.data_x)**2) / self.S_xx)))\n",
        "    print('test_statistic:', test_statistic, '\\n')\n",
        "    \n",
        "    if self.type_t == 'two_tailed':\n",
        "      p_value = 2*(1-t.cdf(abs(test_statistic), df=self.n-2))\n",
        "      print('P_value:', p_value, '\\n')\n",
        "    elif self.type_t == 'left_tailed':\n",
        "      p_value = (t.cdf(test_statistic, df=self.n-2))\n",
        "      print('P_value:', p_value, '\\n')\n",
        "    else:\n",
        "       p_value = (1-t.cdf(test_statistic, df=self.n-2))\n",
        "       print('P_value:', p_value, '\\n')\n",
        "\n",
        "    if p_value < self.alpha:\n",
        "      print(f'Since p_value < {self.alpha}, reject null hypothesis.')\n",
        "    else:\n",
        "      print(f'Since p_value > {self.alpha}, the null hypothesis cannot be rejected.')"
      ],
      "metadata": {
        "id": "bHy8dRuzQGaa"
      },
      "execution_count": 14,
      "outputs": []
    },
    {
      "cell_type": "code",
      "source": [
        "x = [45,50,55,60,65,70,75]\n",
        "y = [24.2,25,23.3,22,21.5,20.6,19.8]\n",
        "\n",
        "test_intercept_unknown_variance(null_a = 0, type_t = 'two_tailed', alpha = 0.05, data_x = x, data_y = y);"
      ],
      "metadata": {
        "colab": {
          "base_uri": "https://localhost:8080/"
        },
        "id": "kpPe2sLRSbln",
        "outputId": "1b83afb7-1a89-4a75-ca96-263875139cdf"
      },
      "execution_count": 15,
      "outputs": [
        {
          "output_type": "stream",
          "name": "stdout",
          "text": [
            "test_statistic: 25.6123251907897 \n",
            "\n",
            "P_value: 1.6943048344320033e-06 \n",
            "\n",
            "Since p_value < 0.05, reject null hypothesis.\n"
          ]
        }
      ]
    },
    {
      "cell_type": "markdown",
      "source": [
        "<a name='T-tests_for_Regression_Parameters_with_statsmodels'></a>\n",
        "\n",
        "### **6.3.3. T-tests for Regression Parameters with statsmodels:**"
      ],
      "metadata": {
        "id": "kPjcRV2q3s1b"
      }
    },
    {
      "cell_type": "code",
      "source": [
        "x = [100,102,103,101,105,100,99,105]\n",
        "y = [259,264,274,268,277,263,258,275]\n",
        "\n",
        "x = sm.add_constant(x)\n",
        "model = sm.OLS(y, x)\n",
        "reg = model.fit()\n",
        "print(reg.summary())"
      ],
      "metadata": {
        "colab": {
          "base_uri": "https://localhost:8080/"
        },
        "id": "CBkXqdwC4Tci",
        "outputId": "e718ff14-cb1d-43be-bb03-68c0658b8c0a"
      },
      "execution_count": 16,
      "outputs": [
        {
          "output_type": "stream",
          "name": "stdout",
          "text": [
            "                            OLS Regression Results                            \n",
            "==============================================================================\n",
            "Dep. Variable:                      y   R-squared:                       0.875\n",
            "Model:                            OLS   Adj. R-squared:                  0.854\n",
            "Method:                 Least Squares   F-statistic:                     42.07\n",
            "Date:                Mon, 20 Jun 2022   Prob (F-statistic):           0.000638\n",
            "Time:                        10:23:34   Log-Likelihood:                -18.507\n",
            "No. Observations:                   8   AIC:                             41.01\n",
            "Df Residuals:                       6   BIC:                             41.17\n",
            "Df Model:                           1                                         \n",
            "Covariance Type:            nonrobust                                         \n",
            "==============================================================================\n",
            "                 coef    std err          t      P>|t|      [0.025      0.975]\n",
            "------------------------------------------------------------------------------\n",
            "const        -40.1017     47.395     -0.846      0.430    -156.072      75.869\n",
            "x1             3.0169      0.465      6.486      0.001       1.879       4.155\n",
            "==============================================================================\n",
            "Omnibus:                        0.896   Durbin-Watson:                   1.370\n",
            "Prob(Omnibus):                  0.639   Jarque-Bera (JB):                0.565\n",
            "Skew:                           0.081   Prob(JB):                        0.754\n",
            "Kurtosis:                       1.708   Cond. No.                     4.84e+03\n",
            "==============================================================================\n",
            "\n",
            "Warnings:\n",
            "[1] Standard Errors assume that the covariance matrix of the errors is correctly specified.\n",
            "[2] The condition number is large, 4.84e+03. This might indicate that there are\n",
            "strong multicollinearity or other numerical problems.\n"
          ]
        }
      ]
    },
    {
      "cell_type": "markdown",
      "source": [
        "![image.png](data:image/png;base64,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)"
      ],
      "metadata": {
        "id": "aCNuCo_46pIT"
      }
    },
    {
      "cell_type": "markdown",
      "source": [
        "This is what you should look for if you want to do a hypothesis test in statsmodels. Column \"t\" gives us the test-statistics, Column \"P>|t|\" gives us the p-value. Columns \"0.025\" and \"0.975\" gives us the confidence interval for regression parameters. It's exactly the results that we got when using previously written classes."
      ],
      "metadata": {
        "id": "SsxzqQRT6HN3"
      }
    },
    {
      "cell_type": "code",
      "source": [
        "x = [100,102,103,101,105,100,99,105]\n",
        "y = [259,264,274,268,277,263,258,275]\n",
        "\n",
        "test_intercept_unknown_variance(null_a = 0, type_t = 'two_tailed', alpha = 0.05, data_x = x, data_y = y);"
      ],
      "metadata": {
        "colab": {
          "base_uri": "https://localhost:8080/"
        },
        "id": "LcKee-1f6AJr",
        "outputId": "f7b258cc-5c1b-4a11-80aa-134183715fdd"
      },
      "execution_count": 17,
      "outputs": [
        {
          "output_type": "stream",
          "name": "stdout",
          "text": [
            "test_statistic: -0.8461239472569388 \n",
            "\n",
            "P_value: 0.4299305678887875 \n",
            "\n",
            "Since p_value > 0.05, the null hypothesis cannot be rejected.\n"
          ]
        }
      ]
    },
    {
      "cell_type": "code",
      "source": [
        "x = [100,102,103,101,105,100,99,105]\n",
        "y = [259,264,274,268,277,263,258,275]\n",
        "\n",
        "test_coefficient_unknown_variance(null_b = 0, type_t = 'two_tailed', alpha = 0.05, data_x = x, data_y = y);"
      ],
      "metadata": {
        "colab": {
          "base_uri": "https://localhost:8080/"
        },
        "id": "vGkI9EnO7sYn",
        "outputId": "154b931f-90b2-4d97-e3b2-ac4bec61e66d"
      },
      "execution_count": 18,
      "outputs": [
        {
          "output_type": "stream",
          "name": "stdout",
          "text": [
            "test_statistic: 6.486393472746325 \n",
            "\n",
            "P_value: 0.0006383332228794281 \n",
            "\n",
            "Since p_value < 0.05, reject null hypothesis.\n"
          ]
        }
      ]
    },
    {
      "cell_type": "markdown",
      "source": [
        "If we have more than one $X$, the written classes need a little tweak, therefore it is better to use the statsmodels library. One difference in this situation is the degree of freedom in the p-value for t-tests. $t_{n-2}$ is correct when we have 1 independent variable but if we have $k$ independent variables, the degree of freedom in the p-value for t-tests is $n-k-1$."
      ],
      "metadata": {
        "id": "PSL5brgk8GB3"
      }
    },
    {
      "cell_type": "code",
      "source": [
        "Stock_Market = {'Year': [2017,2017,2017,2017,2017,2017,2017,2017,2017,2017,2017,2017,2016,2016,2016,2016,2016,2016,2016,2016,2016,2016,2016,2016],\n",
        "                'Month': [12, 11,10,9,8,7,6,5,4,3,2,1,12,11,10,9,8,7,6,5,4,3,2,1],\n",
        "                'Interest_Rate': [2.75,2.5,2.5,2.5,2.5,2.5,2.5,2.25,2.25,2.25,2,2,2,1.75,1.75,1.75,1.75,1.75,1.75,1.75,1.75,1.75,1.75,1.75],\n",
        "                'Unemployment_Rate': [5.3,5.3,5.3,5.3,5.4,5.6,5.5,5.5,5.5,5.6,5.7,5.9,6,5.9,5.8,6.1,6.2,6.1,6.1,6.1,5.9,6.2,6.2,6.1],\n",
        "                'Stock_Index_Price': [1464,1394,1357,1293,1256,1254,1234,1195,1159,1167,1130,1075,1047,965,943,958,971,949,884,866,876,822,704,719]        \n",
        "                }\n",
        "df = pd.DataFrame(Stock_Market,columns=['Year','Month','Interest_Rate','Unemployment_Rate','Stock_Index_Price'])\n",
        "Y = df['Stock_Index_Price']\n",
        "X = df[['Interest_Rate','Unemployment_Rate']]\n",
        "\n",
        "X = sm.add_constant(X)\n",
        "model = sm.OLS(Y, X)\n",
        "results = model.fit()\n",
        "print(results.summary())"
      ],
      "metadata": {
        "colab": {
          "base_uri": "https://localhost:8080/"
        },
        "id": "gyJDj6NH8fDG",
        "outputId": "030cbfda-1180-4208-bc22-86b268372303"
      },
      "execution_count": 19,
      "outputs": [
        {
          "output_type": "stream",
          "name": "stdout",
          "text": [
            "                            OLS Regression Results                            \n",
            "==============================================================================\n",
            "Dep. Variable:      Stock_Index_Price   R-squared:                       0.898\n",
            "Model:                            OLS   Adj. R-squared:                  0.888\n",
            "Method:                 Least Squares   F-statistic:                     92.07\n",
            "Date:                Mon, 20 Jun 2022   Prob (F-statistic):           4.04e-11\n",
            "Time:                        10:23:34   Log-Likelihood:                -134.61\n",
            "No. Observations:                  24   AIC:                             275.2\n",
            "Df Residuals:                      21   BIC:                             278.8\n",
            "Df Model:                           2                                         \n",
            "Covariance Type:            nonrobust                                         \n",
            "=====================================================================================\n",
            "                        coef    std err          t      P>|t|      [0.025      0.975]\n",
            "-------------------------------------------------------------------------------------\n",
            "const              1798.4040    899.248      2.000      0.059     -71.685    3668.493\n",
            "Interest_Rate       345.5401    111.367      3.103      0.005     113.940     577.140\n",
            "Unemployment_Rate  -250.1466    117.950     -2.121      0.046    -495.437      -4.856\n",
            "==============================================================================\n",
            "Omnibus:                        2.691   Durbin-Watson:                   0.530\n",
            "Prob(Omnibus):                  0.260   Jarque-Bera (JB):                1.551\n",
            "Skew:                          -0.612   Prob(JB):                        0.461\n",
            "Kurtosis:                       3.226   Cond. No.                         394.\n",
            "==============================================================================\n",
            "\n",
            "Warnings:\n",
            "[1] Standard Errors assume that the covariance matrix of the errors is correctly specified.\n"
          ]
        }
      ]
    },
    {
      "cell_type": "markdown",
      "source": [
        "<a name='F-statistic_for_Overall_Significance_in_Regression'></a>\n",
        "\n",
        "### **6.3.4. F-statistic for Overall Significance in Regression:**"
      ],
      "metadata": {
        "id": "GE4h6bbEnVfB"
      }
    },
    {
      "cell_type": "markdown",
      "source": [
        "The F-statistic provides us with a way for globally testing if ANY of the independent variables $X_1, X_2, X_3, ...$ is related to the outcome $Y$.\n",
        "\n",
        "$H_0$ : The model with no predictor variables (also known as an intercept-only model) fits the data as well as your regression model.\n",
        "\n",
        "$B_1 = B_2 = ... = B_n = 0$\n",
        "\n",
        "$H_1$ : Regression model fits the data better than the intercept-only model.\n",
        "\n",
        "not all $B_1 = B_2 = ... = B_n = 0$\n",
        "\n",
        "$\\\\ $\n",
        "\n",
        "Testing statistics: \n",
        "\n",
        "$F_0 \\equiv \\frac{MSR}{MSE}$\n",
        "\n",
        "$MSR = \\frac{SSR}{1} \\qquad MSE = \\frac{SSE}{n-2}$\n",
        "\n",
        "$\\\\ $\n",
        "\n",
        "Significance level = $\\alpha$\n",
        "\n",
        "We accept $H_0$ if:\n",
        "\n",
        "1. P_value $ = P(F_{1,n-2} \\geq F_0) > \\alpha$"
      ],
      "metadata": {
        "id": "xoJTUafHoicd"
      }
    },
    {
      "cell_type": "code",
      "source": [
        "class f_regression:\n",
        "  \"\"\"\n",
        "  Parameters\n",
        "  ----------\n",
        "  null_v : v0\n",
        "  n1 : optional, number of data1 members\n",
        "  n2 : optional, number of data2 members\n",
        "  S2X : sample1 variance\n",
        "  S2Y : sample2 variance\n",
        "  alpha : significance level\n",
        "  type_t : 'two_tailed', 'right_tailed', 'left_tailed'\n",
        "  data1 : optional, if you do not know the S2X, just pass the data\n",
        "  data2 : optional, if you do not know the S2Y, just pass the data\n",
        "  \"\"\"\n",
        "  def __init__(self, alpha, n = 0., S_xx = 0., S_yy = 0., S_xy = 0., data_x=None, data_y=None):\n",
        "    self.S_yy = S_yy\n",
        "    self.S_xx = S_xx\n",
        "    self.S_xy = S_xy\n",
        "    self.n = n\n",
        "    self.alpha = alpha\n",
        "    self.data_x = data_x\n",
        "    self.data_y = data_y\n",
        "    if data_x is not None:\n",
        "      self.n = len(list(data_x))\n",
        "      xx = []\n",
        "      for i in list(data_x):\n",
        "        xx.append((i - np.mean(list(data_x)))**2)\n",
        "      self.S_xx = np.sum(xx)\n",
        "\n",
        "      yy = []\n",
        "      for i in list(data_y):\n",
        "        yy.append((i - np.mean(list(data_y)))**2)\n",
        "      self.S_yy = np.sum(yy)\n",
        "\n",
        "      xy = []\n",
        "      for i in range(len(data_x)):\n",
        "        xy.append((data_x[i] - np.mean(data_x))* (data_y[i] - np.mean(data_y)))\n",
        "      self.S_xy = np.sum(xy)\n",
        "\n",
        "    f_regression.__test(self)\n",
        "  \n",
        "  def __test(self):\n",
        "    SSR = (self.S_xy**2) / self.S_xx\n",
        "    SSE = self.S_yy - ((self.S_xy**2) / self.S_xx)\n",
        "    test_statistic = (SSR/1) / (SSE/(self.n-2))\n",
        "    print('test_statistic:', test_statistic, '\\n')\n",
        "    \n",
        "    p_value = 1-stats.f.cdf(test_statistic, 1, self.n-2)\n",
        "    print('P_value:', p_value, '\\n')\n",
        "\n",
        "    if p_value < self.alpha:\n",
        "      print(f'Since p_value < {self.alpha}, reject null hypothesis')\n",
        "    else:\n",
        "      print(f'Since p_value > {self.alpha}, the null hypothesis cannot be rejected.')"
      ],
      "metadata": {
        "id": "svGNq--soXYE"
      },
      "execution_count": 20,
      "outputs": []
    },
    {
      "cell_type": "code",
      "source": [
        "x = [100,102,103,101,105,100,99,105]\n",
        "y = [259,264,274,268,277,263,258,275]\n",
        "\n",
        "f_regression(alpha = 0.05, data_x = x, data_y = y);"
      ],
      "metadata": {
        "colab": {
          "base_uri": "https://localhost:8080/"
        },
        "id": "dTByO0wKwLzn",
        "outputId": "bad321bb-d464-4f77-c941-7d4b992b1a93"
      },
      "execution_count": 21,
      "outputs": [
        {
          "output_type": "stream",
          "name": "stdout",
          "text": [
            "test_statistic: 42.07330028328612 \n",
            "\n",
            "P_value: 0.0006383332228794281 \n",
            "\n",
            "Since p_value < 0.05, reject null hypothesis\n"
          ]
        }
      ]
    },
    {
      "cell_type": "markdown",
      "source": [
        "This test can also be done by statsmodels library. It can also do the test when we have more than one independent variable. The previously written need a little tweak for more than one independent variable (just degree of freedom differs.)"
      ],
      "metadata": {
        "id": "ipxqshPJ2Ghm"
      }
    },
    {
      "cell_type": "code",
      "source": [
        "x = [100,102,103,101,105,100,99,105]\n",
        "y = [259,264,274,268,277,263,258,275]\n",
        "\n",
        "x = sm.add_constant(x)\n",
        "model = sm.OLS(y, x)\n",
        "reg = model.fit()\n",
        "print(reg.summary())"
      ],
      "metadata": {
        "colab": {
          "base_uri": "https://localhost:8080/"
        },
        "id": "WGVCNFngwk8-",
        "outputId": "fe0fe516-4277-497b-e8f7-d344010b0ed5"
      },
      "execution_count": 22,
      "outputs": [
        {
          "output_type": "stream",
          "name": "stdout",
          "text": [
            "                            OLS Regression Results                            \n",
            "==============================================================================\n",
            "Dep. Variable:                      y   R-squared:                       0.875\n",
            "Model:                            OLS   Adj. R-squared:                  0.854\n",
            "Method:                 Least Squares   F-statistic:                     42.07\n",
            "Date:                Mon, 20 Jun 2022   Prob (F-statistic):           0.000638\n",
            "Time:                        10:23:34   Log-Likelihood:                -18.507\n",
            "No. Observations:                   8   AIC:                             41.01\n",
            "Df Residuals:                       6   BIC:                             41.17\n",
            "Df Model:                           1                                         \n",
            "Covariance Type:            nonrobust                                         \n",
            "==============================================================================\n",
            "                 coef    std err          t      P>|t|      [0.025      0.975]\n",
            "------------------------------------------------------------------------------\n",
            "const        -40.1017     47.395     -0.846      0.430    -156.072      75.869\n",
            "x1             3.0169      0.465      6.486      0.001       1.879       4.155\n",
            "==============================================================================\n",
            "Omnibus:                        0.896   Durbin-Watson:                   1.370\n",
            "Prob(Omnibus):                  0.639   Jarque-Bera (JB):                0.565\n",
            "Skew:                           0.081   Prob(JB):                        0.754\n",
            "Kurtosis:                       1.708   Cond. No.                     4.84e+03\n",
            "==============================================================================\n",
            "\n",
            "Warnings:\n",
            "[1] Standard Errors assume that the covariance matrix of the errors is correctly specified.\n",
            "[2] The condition number is large, 4.84e+03. This might indicate that there are\n",
            "strong multicollinearity or other numerical problems.\n"
          ]
        }
      ]
    },
    {
      "cell_type": "code",
      "source": [
        "print(f'f-statistic: {reg.fvalue}, p-value: {reg.f_pvalue}')"
      ],
      "metadata": {
        "colab": {
          "base_uri": "https://localhost:8080/"
        },
        "id": "J9mDOvzEz2_k",
        "outputId": "528d3e27-9696-4ad6-b62a-2310cc73397a"
      },
      "execution_count": 23,
      "outputs": [
        {
          "output_type": "stream",
          "name": "stdout",
          "text": [
            "f-statistic: 42.07330028328628, p-value: 0.0006383332228793835\n"
          ]
        }
      ]
    },
    {
      "cell_type": "markdown",
      "source": [
        "<a name='Confidence_Intervals_Concerning_Regression_Models'></a>\n",
        "\n",
        "## **6.4. Confidence Intervals Concerning Regression Models:**"
      ],
      "metadata": {
        "id": "p0eHvt-6UrwD"
      }
    },
    {
      "cell_type": "markdown",
      "source": [
        "<a name='Confidence_Interval_for_B'></a>\n",
        "\n",
        "### **6.4.1. Confidence Interval for $B$:**"
      ],
      "metadata": {
        "id": "n0PxHd5AVxOU"
      }
    },
    {
      "cell_type": "markdown",
      "source": [
        "<a name='Known_Variance_B'></a>\n",
        "\n",
        "#### **6.4.1.1. Known Variance:**"
      ],
      "metadata": {
        "id": "C9ms4Iuhe9GZ"
      }
    },
    {
      "cell_type": "markdown",
      "source": [
        "**A. Two-sided Confidence Interval:**\n",
        "\n",
        "Significance level = $\\alpha$\n",
        "\n",
        "$\\\\ $\n",
        "\n",
        "$P(b\\ -\\ Z_{\\frac{\\alpha}{2}} \\frac{\\sigma}{\\sqrt{S_{xx}}} \\leq B \\leq b\\ +\\ Z_{\\frac{\\alpha}{2}} \\frac{\\sigma}{\\sqrt{S_{xx}}}) = 1-\\alpha $\n",
        "\n",
        "$\\\\ $\n",
        "\n",
        "Therefore, the $1-\\alpha$ confidence interval for $B$ is:\n",
        "\n",
        "$[b\\ -\\ Z_{\\frac{\\alpha}{2}} \\frac{\\sigma}{\\sqrt{S_{xx}}}\\ ,\\ b\\ +\\ Z_{\\frac{\\alpha}{2}} \\frac{\\sigma}{\\sqrt{S_{xx}}}]$"
      ],
      "metadata": {
        "id": "MTyHJGB1WS8i"
      }
    },
    {
      "cell_type": "markdown",
      "source": [
        "**B. One-sided Lower Confidence Interval:**\n",
        "\n",
        "Significance level = $\\alpha$\n",
        "\n",
        "$\\\\ $\n",
        "\n",
        "$P(-\\infty\\ \\leq\\ B\\ \\leq\\ b\\ +\\ Z_{\\alpha} \\frac{\\sigma}{\\sqrt{S_{xx}}}) = 1-\\alpha$\n",
        "\n",
        "$\\\\ $\n",
        "\n",
        "Therefore, the $1-\\alpha$ confidence interval for for the mean of a normal population is:\n",
        "\n",
        "$[-\\infty,\\ b\\ +\\ Z_{\\alpha} \\frac{\\sigma}{\\sqrt{S_{xx}}}]$"
      ],
      "metadata": {
        "id": "fooeZEfhXpTs"
      }
    },
    {
      "cell_type": "markdown",
      "source": [
        "**C. One-sided Upper Confidence Interval:**\n",
        "\n",
        "Significance level = $\\alpha$\n",
        "\n",
        "$\\\\ $\n",
        "\n",
        "$P(b\\ -\\ Z_{\\alpha} \\frac{\\sigma}{\\sqrt{S_{xx}}}\\ \\leq\\ B\\ \\leq\\ \\infty) = 1-\\alpha$\n",
        "\n",
        "$\\\\ $\n",
        "\n",
        "Therefore, the $1-\\alpha$ confidence interval for for the mean of a normal population is:\n",
        "\n",
        "$[b\\ -\\ Z_{\\alpha} \\frac{\\sigma}{\\sqrt{S_{xx}}},\\ \\infty]$"
      ],
      "metadata": {
        "id": "q4SkjC0_YKkb"
      }
    },
    {
      "cell_type": "code",
      "source": [
        "class confidence_interval_for_b_known_variance:\n",
        "  \"\"\"\n",
        "  Parameters\n",
        "  ----------\n",
        "  population_sd : known standrad deviation of the population\n",
        "  c_level : % confidence level\n",
        "  type_t : 'two_sided_confidence', 'lower_confidence', 'upper_confidence'\n",
        "  S_xx\n",
        "  S_xy\n",
        "  data_x : optional\n",
        "  data_y : optional\n",
        "  \"\"\"\n",
        "  def __init__(self, population_sd, c_level, type_c, S_xx = 0., S_xy = 0., data_x=None, data_y=None):\n",
        "    self.population_sd = population_sd\n",
        "    self.type_c = type_c\n",
        "    self.c_level = c_level\n",
        "    self.data_x = data_x\n",
        "    self.S_xx = S_xx\n",
        "    self.S_xy = S_xy\n",
        "    self.data_y = data_y\n",
        "    if data_x is not None:\n",
        "      self.n = len(list(data_x))\n",
        "      xx = []\n",
        "      for i in list(data_x):\n",
        "        xx.append((i - np.mean(list(data_x)))**2)\n",
        "      self.S_xx = np.sum(xx)\n",
        "\n",
        "      xy = []\n",
        "      for i in range(len(data_x)):\n",
        "        xy.append((data_x[i] - np.mean(data_x))* (data_y[i] - np.mean(data_y)))\n",
        "      self.S_xy = np.sum(xy)\n",
        "      self.Syx=None\n",
        "\n",
        "    confidence_interval_for_b_known_variance.__test(self)\n",
        "  \n",
        "  def __test(self):\n",
        "    if self.type_c == 'two_sided_confidence':\n",
        "      b = self.S_xy / self.S_xx\n",
        "      c_u = b + (-norm.ppf((1-self.c_level)/2)) * (self.population_sd/np.sqrt(self.S_xx))\n",
        "      c_l = b - (-norm.ppf((1-self.c_level)/2)) * (self.population_sd/np.sqrt(self.S_xx))\n",
        "      display(Latex(f'${c_l} \\leq B \\leq {c_u}$'))\n",
        "    elif self.type_c == 'lower_confidence':\n",
        "      b = self.S_xy / self.S_xx\n",
        "      c_u = b + (-norm.ppf(1-self.c_level)) * (self.population_sd/np.sqrt(self.S_xx))\n",
        "      display(Latex(f'$B \\leq {c_u}$'))\n",
        "    elif self.type_c == 'upper_confidence':\n",
        "      b = self.S_xy / self.S_xx\n",
        "      c_l = b - (-norm.ppf(1-self.c_level)) * (self.population_sd/np.sqrt(self.S_xx))\n",
        "      display(Latex(f'${c_l} \\leq B$'))"
      ],
      "metadata": {
        "id": "e6FyrZPhUeKb"
      },
      "execution_count": 24,
      "outputs": []
    },
    {
      "cell_type": "code",
      "source": [
        "x = [100,102,103,101,105,100,99,105]\n",
        "y = [259,264,274,268,277,263,258,275]\n",
        "\n",
        "confidence_interval_for_b_known_variance(population_sd = 1, c_level = 0.95, type_c = 'two_sided_confidence', data_x=x, data_y=y);"
      ],
      "metadata": {
        "colab": {
          "base_uri": "https://localhost:8080/",
          "height": 0
        },
        "id": "hAwj8K5VYndX",
        "outputId": "a0f64a71-198b-4ae3-e4a8-71f31f306cbf"
      },
      "execution_count": 25,
      "outputs": [
        {
          "output_type": "display_data",
          "data": {
            "text/plain": [
              "<IPython.core.display.Latex object>"
            ],
            "text/latex": "$2.694187391394151 \\leq B \\leq 3.3397109136905945$"
          },
          "metadata": {}
        }
      ]
    },
    {
      "cell_type": "markdown",
      "source": [
        "<a name='Unknown_Variance_B'></a>\n",
        "\n",
        "#### **6.4.1.2. Unknown Variance**"
      ],
      "metadata": {
        "id": "S8ofDynCfD6B"
      }
    },
    {
      "cell_type": "markdown",
      "source": [
        "**A. Two-sided Confidence Interval:**\n",
        "\n",
        "Significance level = $\\alpha$\n",
        "\n",
        "$P(b -\\ t_{\\frac{\\alpha}{2},n-2} \\frac{S_{y|x}}{\\sqrt{S_{xx}}}\\ <\\ B <\\ b +\\ t_{\\frac{\\alpha}{2},n-2} \\frac{S_{y|x}}{\\sqrt{S_{xx}}}) = 1-\\alpha$\n",
        "\n",
        "$\\\\ $\n",
        "\n",
        "Therefore, the $1-\\alpha$ confidence interval for for the mean of a normal population is:\n",
        "\n",
        "$[b -\\ t_{\\frac{\\alpha}{2},n-2} \\frac{S_{y|x}}{\\sqrt{S_{xx}}}\\ ,\\ b +\\ t_{\\frac{\\alpha}{2},n-2} \\frac{S_{y|x}}{\\sqrt{S_{xx}}}]$"
      ],
      "metadata": {
        "id": "yj7VzwVhfYoZ"
      }
    },
    {
      "cell_type": "markdown",
      "source": [
        "**B. One-sided Lower Confidence Interval:**\n",
        "\n",
        "Significance level = $\\alpha$\n",
        "\n",
        "$\\\\ $\n",
        "\n",
        "$P(-\\infty\\ \\leq\\ B\\ \\leq\\ b +\\ t_{\\alpha,n-2} \\frac{S_{y|x}}{\\sqrt{S_{xx}}}) = 1-\\alpha$\n",
        "\n",
        "$\\\\ $\n",
        "\n",
        "Therefore, the $1-\\alpha$ confidence interval for for the mean of a normal population is:\n",
        "\n",
        "$[-\\infty,\\ b +\\ t_{\\alpha,n-2} \\frac{S_{y|x}}{\\sqrt{S_{xx}}}]$"
      ],
      "metadata": {
        "id": "C5FvqPJ1gpim"
      }
    },
    {
      "cell_type": "markdown",
      "source": [
        "**C. One-sided Upper Confidence Interval:**\n",
        "\n",
        "Significance level = $\\alpha$\n",
        "\n",
        "$\\\\ $\n",
        "\n",
        "$P(b -\\ t_{\\alpha,n-2} \\frac{S_{y|x}}{\\sqrt{S_{xx}}}\\ \\leq\\ B\\ \\leq\\ \\infty) = 1-\\alpha$\n",
        "\n",
        "$\\\\ $\n",
        "\n",
        "Therefore, the $1-\\alpha$ confidence interval for for the mean of a normal population is:\n",
        "\n",
        "$[b -\\ t_{\\alpha,n-2} \\frac{S_{y|x}}{\\sqrt{S_{xx}}},\\ \\infty]$"
      ],
      "metadata": {
        "id": "x73df6QJg391"
      }
    },
    {
      "cell_type": "code",
      "source": [
        "class confidence_interval_for_b_unknown_variance:\n",
        "  \"\"\"\n",
        "  Parameters\n",
        "  ----------\n",
        "  c_level : % confidence level\n",
        "  type_t : 'two_sided_confidence', 'lower_confidence', 'upper_confidence'\n",
        "  Sample_std : optional, std of the sample\n",
        "  Sample_mean : optional, mean of the sample\n",
        "  data : optional, if you do not know the Sample_mean and n, just pass the data\n",
        "  \"\"\"\n",
        "  def __init__(self, c_level, type_c, n = 0., S_xx = 0., S_xy = 0., S_yy = 0., data_x=None, data_y=None):\n",
        "    self.type_c = type_c\n",
        "    self.c_level = c_level\n",
        "    self.n = n\n",
        "    self.S_xx = S_xx\n",
        "    self.S_xy = S_xy\n",
        "    self.S_yy = S_yy\n",
        "    self.data_x = data_x\n",
        "    self.data_y = data_y\n",
        "    if data_x is not None:\n",
        "      self.n = len(list(data_x))\n",
        "      xx = []\n",
        "      for i in list(data_x):\n",
        "        xx.append((i - np.mean(list(data_x)))**2)\n",
        "      self.S_xx = np.sum(xx)\n",
        "\n",
        "      yy = []\n",
        "      for i in list(data_y):\n",
        "        yy.append((i - np.mean(list(data_y)))**2)\n",
        "      self.S_yy = np.sum(yy)\n",
        "\n",
        "      xy = []\n",
        "      for i in range(len(data_x)):\n",
        "        xy.append((data_x[i] - np.mean(data_x))* (data_y[i] - np.mean(data_y)))\n",
        "      self.S_xy = np.sum(xy)\n",
        "      self.Syx=None\n",
        "\n",
        "    confidence_interval_for_b_unknown_variance.__test(self)\n",
        "  \n",
        "  def __test(self):\n",
        "    if self.type_c == 'two_sided_confidence':\n",
        "      b = self.S_xy / self.S_xx\n",
        "      self.Syx = np.sqrt(((self.S_yy) - ((self.S_xy)**2 / (self.S_xx))) / (self.n-2))\n",
        "      c_u = b + (t.isf((1-self.c_level)/2, self.n-2)) * (self.Syx/np.sqrt(self.S_xx))\n",
        "      c_l = b - (t.isf((1-self.c_level)/2, self.n-2)) * (self.Syx/np.sqrt(self.S_xx))\n",
        "      display(Latex(f'${c_l} \\leq B \\leq {c_u}$'))\n",
        "    elif self.type_c == 'lower_confidence':\n",
        "      b = self.S_xy / self.S_xx\n",
        "      self.Syx = np.sqrt(((self.S_yy) - ((self.S_xy)**2 / (self.S_xx))) / (self.n-2))\n",
        "      c_u = b + (t.isf(1-self.c_level, self.n-2)) * (self.Syx/np.sqrt(self.S_xx))\n",
        "      display(Latex(f'$B \\leq {c_u}$'))\n",
        "    elif self.type_c == 'upper_confidence':\n",
        "      b = self.S_xy / self.S_xx\n",
        "      self.Syx = np.sqrt(((self.S_yy) - ((self.S_xy)**2 / (self.S_xx))) / (self.n-2))\n",
        "      c_l = b - (t.isf(1-self.c_level, self.n-2)) * (self.Syx/np.sqrt(self.S_xx))\n",
        "      display(Latex(f'${c_l} \\leq B$'))"
      ],
      "metadata": {
        "id": "ZqBJ5RZGhVvH"
      },
      "execution_count": 26,
      "outputs": []
    },
    {
      "cell_type": "code",
      "source": [
        "x = [100,102,103,101,105,100,99,105]\n",
        "y = [259,264,274,268,277,263,258,275]\n",
        "\n",
        "confidence_interval_for_b_unknown_variance(c_level = 0.95, type_c = 'two_sided_confidence', data_x=x, data_y=y);"
      ],
      "metadata": {
        "colab": {
          "base_uri": "https://localhost:8080/",
          "height": 0
        },
        "id": "lToPrtspja8H",
        "outputId": "8f9da47e-06ec-49a3-eb1f-c970dfc5bdc5"
      },
      "execution_count": 27,
      "outputs": [
        {
          "output_type": "display_data",
          "data": {
            "text/plain": [
              "<IPython.core.display.Latex object>"
            ],
            "text/latex": "$1.878842335622378 \\leq B \\leq 4.155055969462367$"
          },
          "metadata": {}
        }
      ]
    },
    {
      "cell_type": "markdown",
      "source": [
        "<a name='Confidence_Interval_for_A'></a>\n",
        "\n",
        "### **6.4.2. Confidence Interval for $A$:**"
      ],
      "metadata": {
        "id": "g7CrxN4VkI17"
      }
    },
    {
      "cell_type": "markdown",
      "source": [
        "<a name='Unknown_Variance_AA'></a>\n",
        "\n",
        "#### **6.4.2.1. Unknown Variance:**"
      ],
      "metadata": {
        "id": "iJRSxN9PkmtR"
      }
    },
    {
      "cell_type": "markdown",
      "source": [
        "**A. Two-sided Confidence Interval:**\n",
        "\n",
        "Significance level = $\\alpha$\n",
        "\n",
        "$P(a -\\ t_{\\frac{\\alpha}{2},n-2}\\ {S_{y|x} \\sqrt{\\frac{1}{n} + \\frac{\\overline{x}^2}{S_{xx}}}}\\ <\\ A <\\ a +\\ t_{\\frac{\\alpha}{2},n-2}\\ {S_{y|x} \\sqrt{\\frac{1}{n} + \\frac{\\overline{x}^2}{S_{xx}}}}) = 1-\\alpha$\n",
        "\n",
        "$\\\\ $\n",
        "\n",
        "Therefore, the $1-\\alpha$ confidence interval for for the mean of a normal population is:\n",
        "\n",
        "$[a -\\ t_{\\frac{\\alpha}{2},n-2} {S_{y|x} \\sqrt{\\frac{1}{n} + \\frac{\\overline{x}^2}{S_{xx}}}}\\ ,\\ a +\\ t_{\\frac{\\alpha}{2},n-2} {S_{y|x} \\sqrt{\\frac{1}{n} + \\frac{\\overline{x}^2}{S_{xx}}}}]$"
      ],
      "metadata": {
        "id": "5pZuakcyke_u"
      }
    },
    {
      "cell_type": "markdown",
      "source": [
        "**B. One-sided Lower Confidence Interval:**\n",
        "\n",
        "Significance level = $\\alpha$\n",
        "\n",
        "$\\\\ $\n",
        "\n",
        "$P(-\\infty\\ \\leq\\ A\\ \\leq\\ a +\\ t_{\\alpha,n-2}\\ {S_{y|x} \\sqrt{\\frac{1}{n} + \\frac{\\overline{x}^2}{S_{xx}}}}) = 1-\\alpha$\n",
        "\n",
        "$\\\\ $\n",
        "\n",
        "Therefore, the $1-\\alpha$ confidence interval for for the mean of a normal population is:\n",
        "\n",
        "$[-\\infty,\\ a +\\ t_{\\alpha,n-2}\\ {S_{y|x} \\sqrt{\\frac{1}{n} + \\frac{\\overline{x}^2}{S_{xx}}}}]$"
      ],
      "metadata": {
        "id": "1-EJt9QalZf5"
      }
    },
    {
      "cell_type": "markdown",
      "source": [
        "**C. One-sided Upper Confidence Interval:**\n",
        "\n",
        "Significance level = $\\alpha$\n",
        "\n",
        "$\\\\ $\n",
        "\n",
        "$P(a -\\ t_{\\alpha,n-2}\\ {S_{y|x} \\sqrt{\\frac{1}{n} + \\frac{\\overline{x}^2}{S_{xx}}}}\\ \\leq\\ B\\ \\leq\\ \\infty) = 1-\\alpha$\n",
        "\n",
        "$\\\\ $\n",
        "\n",
        "Therefore, the $1-\\alpha$ confidence interval for for the mean of a normal population is:\n",
        "\n",
        "$[a -\\ t_{\\alpha,n-2}\\ {S_{y|x} \\sqrt{\\frac{1}{n} + \\frac{\\overline{x}^2}{S_{xx}}}},\\ \\infty]$"
      ],
      "metadata": {
        "id": "IJCAZjtqlu0H"
      }
    },
    {
      "cell_type": "code",
      "source": [
        "class confidence_interval_for_a_unknown_variance:\n",
        "  \"\"\"\n",
        "  Parameters\n",
        "  ----------\n",
        "  c_level : % confidence level\n",
        "  type_t : 'two_sided_confidence', 'lower_confidence', 'upper_confidence'\n",
        "  S_xx : optional\n",
        "  S_yy : optional\n",
        "  S_xy : optional\n",
        "  data : optional\n",
        "  \"\"\"\n",
        "  def __init__(self, c_level, type_c, n = 0., S_xx = 0., S_xy = 0., S_yy = 0., data_x=None, data_y=None):\n",
        "    self.type_c = type_c\n",
        "    self.c_level = c_level\n",
        "    self.n = n\n",
        "    self.S_xx = S_xx\n",
        "    self.S_xy = S_xy\n",
        "    self.S_yy = S_yy\n",
        "    self.data_x = data_x\n",
        "    self.data_y = data_y\n",
        "    if data_x is not None:\n",
        "      self.n = len(list(data_x))\n",
        "      xx = []\n",
        "      for i in list(data_x):\n",
        "        xx.append((i - np.mean(list(data_x)))**2)\n",
        "      self.S_xx = np.sum(xx)\n",
        "\n",
        "      yy = []\n",
        "      for i in list(data_y):\n",
        "        yy.append((i - np.mean(list(data_y)))**2)\n",
        "      self.S_yy = np.sum(yy)\n",
        "\n",
        "      xy = []\n",
        "      for i in range(len(data_x)):\n",
        "        xy.append((data_x[i] - np.mean(data_x))* (data_y[i] - np.mean(data_y)))\n",
        "      self.S_xy = np.sum(xy)\n",
        "      self.Syx=None\n",
        "\n",
        "    confidence_interval_for_a_unknown_variance.__test(self)\n",
        "  \n",
        "  def __test(self):\n",
        "    if self.type_c == 'two_sided_confidence':\n",
        "      b = self.S_xy / self.S_xx\n",
        "      a = np.mean(self.data_y) - b * np.mean(self.data_x)\n",
        "      self.Syx = np.sqrt(((self.S_yy) - ((self.S_xy)**2 / (self.S_xx))) / (self.n-2))\n",
        "      c_u = a + (t.isf((1-self.c_level)/2, self.n-2)) * self.Syx * np.sqrt((1/self.n) + ((np.mean(self.data_x)**2) / self.S_xx))\n",
        "      c_l = a - (t.isf((1-self.c_level)/2, self.n-2)) * self.Syx * np.sqrt((1/self.n) + ((np.mean(self.data_x)**2) / self.S_xx))\n",
        "      display(Latex(f'${c_l} \\leq A \\leq {c_u}$'))\n",
        "    elif self.type_c == 'lower_confidence':\n",
        "      b = self.S_xy / self.S_xx\n",
        "      a = np.mean(self.data_y) - b * np.mean(self.data_x)\n",
        "      self.Syx = np.sqrt(((self.S_yy) - ((self.S_xy)**2 / (self.S_xx))) / (self.n-2))\n",
        "      c_u = a + (t.isf((1-self.c_level), self.n-2)) * self.Syx * np.sqrt((1/self.n) + ((np.mean(self.data_x)**2) / self.S_xx))\n",
        "      display(Latex(f'$A \\leq {c_u}$'))\n",
        "    elif self.type_c == 'upper_confidence':\n",
        "      b = self.S_xy / self.S_xx\n",
        "      a = np.mean(self.data_y) - b * np.mean(self.data_x)\n",
        "      self.Syx = np.sqrt(((self.S_yy) - ((self.S_xy)**2 / (self.S_xx))) / (self.n-2))\n",
        "      c_l = a - (t.isf((1-self.c_level), self.n-2)) * self.Syx * np.sqrt((1/self.n) + ((np.mean(self.data_x)**2) / self.S_xx))\n",
        "      display(Latex(f'${c_l} \\leq A$'))"
      ],
      "metadata": {
        "id": "T-WOv-fZjo9t"
      },
      "execution_count": 28,
      "outputs": []
    },
    {
      "cell_type": "code",
      "source": [
        "x = [100,102,103,101,105,100,99,105]\n",
        "y = [259,264,274,268,277,263,258,275]\n",
        "\n",
        "confidence_interval_for_a_unknown_variance(c_level = 0.95, type_c = 'two_sided_confidence', data_x=x, data_y=y);"
      ],
      "metadata": {
        "colab": {
          "base_uri": "https://localhost:8080/",
          "height": 0
        },
        "id": "BsjN4bBBmivv",
        "outputId": "85b1a91c-3049-4845-b0eb-c48dff8f6897"
      },
      "execution_count": 29,
      "outputs": [
        {
          "output_type": "display_data",
          "data": {
            "text/plain": [
              "<IPython.core.display.Latex object>"
            ],
            "text/latex": "$-156.07207107926496 \\leq A \\leq 75.86868124875643$"
          },
          "metadata": {}
        }
      ]
    },
    {
      "cell_type": "markdown",
      "source": [
        "<a name='Confidence_Interval_for_AB'></a>\n",
        "\n",
        "### **6.4.3. Confidence Interval for $A + B x$:**"
      ],
      "metadata": {
        "id": "aCeYYgZGb3U0"
      }
    },
    {
      "cell_type": "markdown",
      "source": [
        "<a name='Unknown_Variance_ABB'></a>\n",
        "\n",
        "#### **6.4.3.1. Unknown Variance:**"
      ],
      "metadata": {
        "id": "2PIRxMVzcWH0"
      }
    },
    {
      "cell_type": "markdown",
      "source": [
        "**A. Two-sided Confidence Interval:**\n",
        "\n",
        "Significance level = $\\alpha$\n",
        "\n",
        "$P(a + bx^* - t_{\\frac{\\alpha}{2},n-2}{S_{y|x} \\sqrt{\\frac{1}{n} + \\frac{(x^* - \\overline{x})^2}{S_{xx}}}}\\ <\\ A + Bx<\\ a + bx^* + t_{\\frac{\\alpha}{2},n-2}{S_{y|x} \\sqrt{\\frac{1}{n} + \\frac{(x^* - \\overline{x})^2}{S_{xx}}}}\\ ) = 1-\\alpha$\n",
        "\n",
        "$\\\\ $\n",
        "\n",
        "Therefore, the $1-\\alpha$ confidence interval for for the mean of a normal population is:\n",
        "\n",
        "$[a + bx^* - t_{\\frac{\\alpha}{2},n-2}{S_{y|x} \\sqrt{\\frac{1}{n} + \\frac{(x^* - \\overline{x})^2}{S_{xx}}}}\\ ,\\ a + bx^* + t_{\\frac{\\alpha}{2},n-2}{S_{y|x} \\sqrt{\\frac{1}{n} + \\frac{(x^* - \\overline{x})^2}{S_{xx}}}}]$"
      ],
      "metadata": {
        "id": "gJIbg8LWcZlZ"
      }
    },
    {
      "cell_type": "markdown",
      "source": [
        "**B. One-sided Lower Confidence Interval:**\n",
        "\n",
        "Significance level = $\\alpha$\n",
        "\n",
        "$\\\\ $\n",
        "\n",
        "$P(-\\infty\\ \\leq\\ A + Bx<\\ a + bx^* + t_{\\alpha,n-2}{S_{y|x} \\sqrt{\\frac{1}{n} + \\frac{(x^* - \\overline{x})^2}{S_{xx}}}}\\ ) = 1-\\alpha$\n",
        "\n",
        "$\\\\ $\n",
        "\n",
        "Therefore, the $1-\\alpha$ confidence interval for for the mean of a normal population is:\n",
        "\n",
        "$[-\\infty\\ ,\\ a + bx^* + t_{\\alpha,n-2}{S_{y|x} \\sqrt{\\frac{1}{n} + \\frac{(x^* - \\overline{x})^2}{S_{xx}}}}]$"
      ],
      "metadata": {
        "id": "9QrOqhCddYXp"
      }
    },
    {
      "cell_type": "markdown",
      "source": [
        "**C. One-sided Upper Confidence Interval:**\n",
        "\n",
        "Significance level = $\\alpha$\n",
        "\n",
        "$\\\\ $\n",
        "\n",
        "$P(a + bx^* - t_{\\alpha,n-2}{S_{y|x} \\sqrt{\\frac{1}{n} + \\frac{(x^* - \\overline{x})^2}{S_{xx}}}}\\ \\leq\\ B\\ \\leq\\ \\infty) = 1-\\alpha$\n",
        "\n",
        "$\\\\ $\n",
        "\n",
        "Therefore, the $1-\\alpha$ confidence interval for for the mean of a normal population is:\n",
        "\n",
        "$[a + bx^* - t_{\\alpha,n-2}{S_{y|x} \\sqrt{\\frac{1}{n} + \\frac{(x^* - \\overline{x})^2}{S_{xx}}}}\\ ,\\ \\infty]$"
      ],
      "metadata": {
        "id": "VNuZV769dtDf"
      }
    },
    {
      "cell_type": "code",
      "source": [
        "class confidence_interval_for_ab_unknown_variance:\n",
        "  \"\"\"\n",
        "  Parameters\n",
        "  ----------\n",
        "  c_level : % confidence level\n",
        "  type_t : 'two_sided_confidence', 'lower_confidence', 'upper_confidence'\n",
        "  S_xx : optional\n",
        "  S_yy : optional\n",
        "  S_xy : optional\n",
        "  data : optional\n",
        "  \"\"\"\n",
        "  def __init__(self, c_level, type_c, x_star, n = 0., S_xx = 0., S_xy = 0., S_yy = 0., data_x=None, data_y=None):\n",
        "    self.type_c = type_c\n",
        "    self.c_level = c_level\n",
        "    self.n = n\n",
        "    self.x_star = x_star\n",
        "    self.S_xx = S_xx\n",
        "    self.S_xy = S_xy\n",
        "    self.S_yy = S_yy\n",
        "    self.data_x = data_x\n",
        "    self.data_y = data_y\n",
        "    if data_x is not None:\n",
        "      self.n = len(list(data_x))\n",
        "      xx = []\n",
        "      for i in list(data_x):\n",
        "        xx.append((i - np.mean(list(data_x)))**2)\n",
        "      self.S_xx = np.sum(xx)\n",
        "\n",
        "      yy = []\n",
        "      for i in list(data_y):\n",
        "        yy.append((i - np.mean(list(data_y)))**2)\n",
        "      self.S_yy = np.sum(yy)\n",
        "\n",
        "      xy = []\n",
        "      for i in range(len(data_x)):\n",
        "        xy.append((data_x[i] - np.mean(data_x))* (data_y[i] - np.mean(data_y)))\n",
        "      self.S_xy = np.sum(xy)\n",
        "      self.Syx=None\n",
        "\n",
        "    confidence_interval_for_ab_unknown_variance.__test(self)\n",
        "  \n",
        "  def __test(self):\n",
        "    if self.type_c == 'two_sided_confidence':\n",
        "      b = self.S_xy / self.S_xx\n",
        "      a = np.mean(self.data_y) - b * np.mean(self.data_x)\n",
        "      self.Syx = np.sqrt(((self.S_yy) - ((self.S_xy)**2 / (self.S_xx))) / (self.n-2))\n",
        "      c_u = a + b*self.x_star + (t.isf((1-self.c_level)/2, self.n-2)) * self.Syx * np.sqrt((1/self.n) + (((self.x_star - np.mean(self.data_x))**2) / self.S_xx))\n",
        "      c_l = a + b*self.x_star - (t.isf((1-self.c_level)/2, self.n-2)) * self.Syx * np.sqrt((1/self.n) + (((self.x_star - np.mean(self.data_x))**2) / self.S_xx))\n",
        "      display(Latex(f'${c_l} \\leq A + Bx \\leq {c_u}$'))\n",
        "    elif self.type_c == 'lower_confidence':\n",
        "      b = self.S_xy / self.S_xx\n",
        "      a = np.mean(self.data_y) - b * np.mean(self.data_x)\n",
        "      self.Syx = np.sqrt(((self.S_yy) - ((self.S_xy)**2 / (self.S_xx))) / (self.n-2))\n",
        "      c_u = a + b*self.x_star + (t.isf((1-self.c_level)/2, self.n-2)) * self.Syx * np.sqrt((1/self.n) + (((self.x_star - np.mean(self.data_x))**2) / self.S_xx))\n",
        "      display(Latex(f'$A + Bx \\leq {c_u}$'))\n",
        "    elif self.type_c == 'upper_confidence':\n",
        "      b = self.S_xy / self.S_xx\n",
        "      a = np.mean(self.data_y) - b * np.mean(self.data_x)\n",
        "      self.Syx = np.sqrt(((self.S_yy) - ((self.S_xy)**2 / (self.S_xx))) / (self.n-2))\n",
        "      c_l = a + b*self.x_star - (t.isf((1-self.c_level)/2, self.n-2)) * self.Syx * np.sqrt((1/self.n) + (((self.x_star - np.mean(self.data_x))**2) / self.S_xx))\n",
        "      display(Latex(f'${c_l} \\leq A + Bx$'))"
      ],
      "metadata": {
        "id": "avAEJoDGcPJ4"
      },
      "execution_count": 30,
      "outputs": []
    },
    {
      "cell_type": "code",
      "source": [
        "x = [100,102,103,101,105,100,99,105]\n",
        "y = [259,264,274,268,277,263,258,275]\n",
        "\n",
        "confidence_interval_for_ab_unknown_variance(x_star = 107, c_level = 0.95, type_c = 'two_sided_confidence', data_x=x, data_y=y);"
      ],
      "metadata": {
        "colab": {
          "base_uri": "https://localhost:8080/",
          "height": 0
        },
        "id": "aCT3qV7HfhTy",
        "outputId": "e3c60e55-941a-4d1b-a458-25805a15cf7b"
      },
      "execution_count": 31,
      "outputs": [
        {
          "output_type": "display_data",
          "data": {
            "text/plain": [
              "<IPython.core.display.Latex object>"
            ],
            "text/latex": "$276.3879423612866 \\leq A + Bx \\leq 289.03578645227265$"
          },
          "metadata": {}
        }
      ]
    },
    {
      "cell_type": "markdown",
      "source": [
        "If $x^*$ is colser to $\\overline{x}$, the confidence interval is smaller. This is shown in the next plot."
      ],
      "metadata": {
        "id": "XMksyxrRj6QX"
      }
    },
    {
      "cell_type": "code",
      "source": [
        "plt.xlabel('X')\n",
        "plt.ylabel('Y')\n",
        "plt.title('Confidence Limits')\n",
        "sns.regplot(x, y, ci = 95, order = 1, marker = 'o', color ='#cc0066');"
      ],
      "metadata": {
        "colab": {
          "base_uri": "https://localhost:8080/",
          "height": 0
        },
        "id": "hcq1JdhJgInH",
        "outputId": "e538503e-130a-4c2a-caff-205537682851"
      },
      "execution_count": 32,
      "outputs": [
        {
          "output_type": "display_data",
          "data": {
            "text/plain": [
              "<Figure size 432x288 with 1 Axes>"
            ],
            "image/png": "[encoded data removed]"
          },
          "metadata": {
            "needs_background": "light"
          }
        }
      ]
    },
    {
      "cell_type": "markdown",
      "source": [
        "<a name='Prediction_Interval_of_a_Future_Response'></a>\n",
        "\n",
        "### **6.4.4. Prediction Interval of a Future Response:**"
      ],
      "metadata": {
        "id": "QkMjdS6P8ibS"
      }
    },
    {
      "cell_type": "markdown",
      "source": [
        "**A. Two-sided Confidence Interval:**\n",
        "\n",
        "Significance level = $\\alpha$\n",
        "\n",
        "$P(a + bx^* - t_{\\frac{\\alpha}{2},n-2}{S_{y|x} \\sqrt{1+\\frac{1}{n} + \\frac{(x^* - \\overline{x})^2}{S_{xx}}}}\\ <\\ A + Bx<\\ a + bx^* + t_{\\frac{\\alpha}{2},n-2}{S_{y|x} \\sqrt{1+\\frac{1}{n} + \\frac{(x^* - \\overline{x})^2}{S_{xx}}}}\\ ) = 1-\\alpha$\n",
        "\n",
        "$\\\\ $\n",
        "\n",
        "Therefore, the $1-\\alpha$ confidence interval for for the mean of a normal population is:\n",
        "\n",
        "$[a + bx^* - t_{\\frac{\\alpha}{2},n-2}{S_{y|x} \\sqrt{1+\\frac{1}{n} + \\frac{(x^* - \\overline{x})^2}{S_{xx}}}}\\ ,\\ a + bx^* + t_{\\frac{\\alpha}{2},n-2}{S_{y|x} \\sqrt{1+\\frac{1}{n} + \\frac{(x^* - \\overline{x})^2}{S_{xx}}}}]$"
      ],
      "metadata": {
        "id": "Vfl-hRCh-WIc"
      }
    },
    {
      "cell_type": "markdown",
      "source": [
        "**B. One-sided Lower Confidence Interval:**\n",
        "\n",
        "Significance level = $\\alpha$\n",
        "\n",
        "$\\\\ $\n",
        "\n",
        "$P(-\\infty\\ \\leq\\ A + Bx<\\ a + bx^* + t_{\\alpha,n-2}{S_{y|x} \\sqrt{1+\\frac{1}{n} + \\frac{(x^* - \\overline{x})^2}{S_{xx}}}}\\ ) = 1-\\alpha$\n",
        "\n",
        "$\\\\ $\n",
        "\n",
        "Therefore, the $1-\\alpha$ confidence interval for for the mean of a normal population is:\n",
        "\n",
        "$[-\\infty\\ ,\\ a + bx^* + t_{\\alpha,n-2}{S_{y|x} \\sqrt{1+\\frac{1}{n} + \\frac{(x^* - \\overline{x})^2}{S_{xx}}}}]$"
      ],
      "metadata": {
        "id": "eb1RfbIz_F5b"
      }
    },
    {
      "cell_type": "markdown",
      "source": [
        "**C. One-sided Upper Confidence Interval:**\n",
        "\n",
        "Significance level = $\\alpha$\n",
        "\n",
        "$\\\\ $\n",
        "\n",
        "$P(a + bx^* - t_{\\alpha,n-2}{S_{y|x} \\sqrt{1+\\frac{1}{n} + \\frac{(x^* - \\overline{x})^2}{S_{xx}}}}\\ \\leq\\ B\\ \\leq\\ \\infty) = 1-\\alpha$\n",
        "\n",
        "$\\\\ $\n",
        "\n",
        "Therefore, the $1-\\alpha$ confidence interval for for the mean of a normal population is:\n",
        "\n",
        "$[a + bx^* - t_{\\alpha,n-2}{S_{y|x} \\sqrt{1+\\frac{1}{n} + \\frac{(x^* - \\overline{x})^2}{S_{xx}}}}\\ ,\\ \\infty]$"
      ],
      "metadata": {
        "id": "F0qa5P65_MvI"
      }
    },
    {
      "cell_type": "code",
      "source": [
        "class prediction_interval:\n",
        "  \"\"\"\n",
        "  Parameters\n",
        "  ----------\n",
        "  c_level : % confidence level\n",
        "  type_t : 'two_sided_confidence', 'lower_confidence', 'upper_confidence'\n",
        "  S_xx : optional\n",
        "  S_yy : optional\n",
        "  S_xy : optional\n",
        "  data : optional\n",
        "  \"\"\"\n",
        "  def __init__(self, c_level, type_c, x_star, n = 0., S_xx = 0., S_xy = 0., S_yy = 0., data_x=None, data_y=None):\n",
        "    self.type_c = type_c\n",
        "    self.c_level = c_level\n",
        "    self.n = n\n",
        "    self.x_star = x_star\n",
        "    self.S_xx = S_xx\n",
        "    self.S_xy = S_xy\n",
        "    self.S_yy = S_yy\n",
        "    self.data_x = data_x\n",
        "    self.data_y = data_y\n",
        "    if data_x is not None:\n",
        "      self.n = len(list(data_x))\n",
        "      xx = []\n",
        "      for i in list(data_x):\n",
        "        xx.append((i - np.mean(list(data_x)))**2)\n",
        "      self.S_xx = np.sum(xx)\n",
        "\n",
        "      yy = []\n",
        "      for i in list(data_y):\n",
        "        yy.append((i - np.mean(list(data_y)))**2)\n",
        "      self.S_yy = np.sum(yy)\n",
        "\n",
        "      xy = []\n",
        "      for i in range(len(data_x)):\n",
        "        xy.append((data_x[i] - np.mean(data_x))* (data_y[i] - np.mean(data_y)))\n",
        "      self.S_xy = np.sum(xy)\n",
        "      self.Syx=None\n",
        "\n",
        "    prediction_interval.__test(self)\n",
        "  \n",
        "  def __test(self):\n",
        "    if self.type_c == 'two_sided_confidence':\n",
        "      b = self.S_xy / self.S_xx\n",
        "      a = np.mean(self.data_y) - b * np.mean(self.data_x)\n",
        "      self.Syx = np.sqrt(((self.S_yy) - ((self.S_xy)**2 / (self.S_xx))) / (self.n-2))\n",
        "      c_u = a + b*self.x_star + (t.isf((1-self.c_level)/2, self.n-2)) * self.Syx * np.sqrt(1+(1/self.n) + (((self.x_star - np.mean(self.data_x))**2) / self.S_xx))\n",
        "      c_l = a + b*self.x_star - (t.isf((1-self.c_level)/2, self.n-2)) * self.Syx * np.sqrt(1+(1/self.n) + (((self.x_star - np.mean(self.data_x))**2) / self.S_xx))\n",
        "      display(Latex(f'${c_l} \\leq Y|x^* \\leq {c_u}$'))\n",
        "    elif self.type_c == 'lower_confidence':\n",
        "      b = self.S_xy / self.S_xx\n",
        "      a = np.mean(self.data_y) - b * np.mean(self.data_x)\n",
        "      self.Syx = np.sqrt(((self.S_yy) - ((self.S_xy)**2 / (self.S_xx))) / (self.n-2))\n",
        "      c_u = a + b*self.x_star + (t.isf((1-self.c_level)/2, self.n-2)) * self.Syx * np.sqrt(1+(1/self.n) + (((self.x_star - np.mean(self.data_x))**2) / self.S_xx))\n",
        "      display(Latex(f'$Y|x^* \\leq {c_u}$'))\n",
        "    elif self.type_c == 'upper_confidence':\n",
        "      b = self.S_xy / self.S_xx\n",
        "      a = np.mean(self.data_y) - b * np.mean(self.data_x)\n",
        "      self.Syx = np.sqrt(((self.S_yy) - ((self.S_xy)**2 / (self.S_xx))) / (self.n-2))\n",
        "      c_l = a + b*self.x_star - (t.isf((1-self.c_level)/2, self.n-2)) * self.Syx * np.sqrt(1+(1/self.n) + (((self.x_star - np.mean(self.data_x))**2) / self.S_xx))\n",
        "      display(Latex(f'${c_l} \\leq Y|x^*$'))"
      ],
      "metadata": {
        "id": "qVtHLmLj8rKO"
      },
      "execution_count": 33,
      "outputs": []
    },
    {
      "cell_type": "code",
      "source": [
        "x = [100,102,103,101,105,100,99,105]\n",
        "y = [259,264,274,268,277,263,258,275]\n",
        "\n",
        "prediction_interval(x_star = 107, c_level = 0.95, type_c = 'two_sided_confidence', data_x=x, data_y=y);"
      ],
      "metadata": {
        "colab": {
          "base_uri": "https://localhost:8080/",
          "height": 0
        },
        "id": "my95Wk0V_U4W",
        "outputId": "998c9a08-3743-4261-cf6b-b8dc8b00bf30"
      },
      "execution_count": 34,
      "outputs": [
        {
          "output_type": "display_data",
          "data": {
            "text/plain": [
              "<IPython.core.display.Latex object>"
            ],
            "text/latex": "$273.34406301930005 \\leq Y|x^* \\leq 292.0796657942592$"
          },
          "metadata": {}
        }
      ]
    },
    {
      "cell_type": "code",
      "source": [
        "n = 100\n",
        "x = np.linspace(0, 10, n)\n",
        "e = np.random.normal(size=n)\n",
        "y = 1 + 0.5*x + 2*e\n",
        "\n",
        "X = sm.add_constant(x)\n",
        "model = sm.OLS(y, X)\n",
        "results = model.fit()\n",
        "\n",
        "st, data, ss2 = summary_table(results, alpha=0.05)\n",
        "\n",
        "fittedvalues = data[:, 2]\n",
        "predict_mean_se  = data[:, 3]\n",
        "predict_mean_ci_low, predict_mean_ci_upp = data[:, 4:6].T\n",
        "predict_ci_low, predict_ci_upp = data[:, 6:8].T\n",
        "prstd, iv_l, iv_u = wls_prediction_std(results)\n",
        "\n",
        "# Check we got the right things\n",
        "#print(np.max(np.abs(results.fittedvalues - fittedvalues)))\n",
        "#print(np.max(np.abs(iv_l - predict_ci_low)))\n",
        "#print(np.max(np.abs(iv_u - predict_ci_upp)))\n",
        "\n",
        "plt.plot(x, y, '.', color = 'gray')\n",
        "plt.plot(x, fittedvalues, '-', lw=2, label='Regression Line', color = '#0099ff')\n",
        "plt.plot(x, predict_ci_low, 'r--', lw=2, color = '#00cc99', label='Prediction Interval')\n",
        "plt.plot(x, predict_ci_upp, 'r--', lw=2, color = '#00cc99')\n",
        "plt.plot(x, predict_mean_ci_low, 'r--', color = '#ff0066', lw=2, label='Confidence Interval')\n",
        "plt.plot(x, predict_mean_ci_upp, 'r--', color = '#ff0066', lw=2)\n",
        "plt.legend();"
      ],
      "metadata": {
        "colab": {
          "base_uri": "https://localhost:8080/",
          "height": 0
        },
        "id": "bzSeXMKr5VtG",
        "outputId": "eba0556c-abc8-4efa-ea36-d3d1f02f0938"
      },
      "execution_count": 35,
      "outputs": [
        {
          "output_type": "display_data",
          "data": {
            "text/plain": [
              "<Figure size 432x288 with 1 Axes>"
            ],
            "image/png": "[encoded data removed]"
          },
          "metadata": {
            "needs_background": "light"
          }
        }
      ]
    },
    {
      "cell_type": "markdown",
      "source": [
        "<a name='Residuals'></a>\n",
        "\n",
        "## **6.5. Residuals:**"
      ],
      "metadata": {
        "id": "fyPUNwN_1tp5"
      }
    },
    {
      "cell_type": "markdown",
      "source": [
        "<a name='Regression_Diagnostic'></a>\n",
        "\n",
        "### **6.5.1. Regression Diagnostic:**"
      ],
      "metadata": {
        "id": "i1gNY_o0OrtW"
      }
    },
    {
      "cell_type": "code",
      "source": [
        "Stock_Market = {'Year': [2017,2017,2017,2017,2017,2017,2017,2017,2017,2017,2017,2017,2016,2016,2016,2016,2016,2016,2016,2016,2016,2016,2016,2016],\n",
        "                'Month': [12, 11,10,9,8,7,6,5,4,3,2,1,12,11,10,9,8,7,6,5,4,3,2,1],\n",
        "                'Interest_Rate': [2.75,2.5,2.5,2.5,2.5,2.5,2.5,2.25,2.25,2.25,2,2,2,1.75,1.75,1.75,1.75,1.75,1.75,1.75,1.75,1.75,1.75,1.75],\n",
        "                'Unemployment_Rate': [5.3,5.3,5.3,5.3,5.4,5.6,5.5,5.5,5.5,5.6,5.7,5.9,6,5.9,5.8,6.1,6.2,6.1,6.1,6.1,5.9,6.2,6.2,6.1],\n",
        "                'Stock_Index_Price': [1464,1394,1357,1293,1256,1254,1234,1195,1159,1167,1130,1075,1047,965,943,958,971,949,884,866,876,822,704,719]        \n",
        "                }\n",
        "df = pd.DataFrame(Stock_Market,columns=['Year','Month','Interest_Rate','Unemployment_Rate','Stock_Index_Price'])\n",
        "Y = df['Stock_Index_Price']\n",
        "X = df[['Interest_Rate','Unemployment_Rate']]\n",
        "\n",
        "X = sm.add_constant(X)\n",
        "model = sm.OLS(Y, X)\n",
        "results = model.fit()"
      ],
      "metadata": {
        "id": "NKdLvpCrF6ad"
      },
      "execution_count": 36,
      "outputs": []
    },
    {
      "cell_type": "code",
      "source": [
        "y_pred = results.fittedvalues\n",
        "y_true = df['Stock_Index_Price']\n",
        "residuals = y_true - y_pred\n",
        "\n",
        "plt.xlabel('y_pred')\n",
        "plt.ylabel('Residuals')\n",
        "plt.title('Residuals')\n",
        "plt.axhline(y = 0, color = 'b', linestyle = '-')\n",
        "plt.scatter(y_pred, residuals, color ='purple');"
      ],
      "metadata": {
        "colab": {
          "base_uri": "https://localhost:8080/",
          "height": 0
        },
        "id": "VSIF-HwJIZaM",
        "outputId": "f2ec56c3-4900-43dd-d2da-0fd3230c967a"
      },
      "execution_count": 37,
      "outputs": [
        {
          "output_type": "display_data",
          "data": {
            "text/plain": [
              "<Figure size 432x288 with 1 Axes>"
            ],
            "image/png": "[encoded data removed]"
          },
          "metadata": {
            "needs_background": "light"
          }
        }
      ]
    },
    {
      "cell_type": "code",
      "source": [
        "influence = results.get_influence()\n",
        "cooks = influence.cooks_distance\n",
        "cooks"
      ],
      "metadata": {
        "colab": {
          "base_uri": "https://localhost:8080/"
        },
        "id": "dz9Mar62SgdN",
        "outputId": "1e10246a-deb6-4773-eebf-3f7229d65a17"
      },
      "execution_count": 38,
      "outputs": [
        {
          "output_type": "execute_result",
          "data": {
            "text/plain": [
              "(array([4.80372735e-02, 4.01480761e-02, 5.11038225e-03, 2.29357894e-02,\n",
              "        2.75007545e-02, 1.30455682e-03, 3.27759686e-02, 1.94513787e-04,\n",
              "        1.27947334e-02, 2.61500396e-04, 3.52124723e-02, 1.52340256e-02,\n",
              "        3.39697129e-02, 1.94485559e-02, 2.78612047e-03, 4.36759843e-02,\n",
              "        1.71660802e-01, 3.44875283e-02, 3.08921004e-04, 8.40042743e-04,\n",
              "        3.57944955e-02, 1.10842254e-02, 2.67059508e-01, 1.67461457e-01]),\n",
              " array([0.98565839, 0.98895399, 0.99948008, 0.99514604, 0.99365666,\n",
              "        0.99993268, 0.99179083, 0.99999612, 0.99795648, 0.99999395,\n",
              "        0.99088129, 0.99735169, 0.99134881, 0.99619632, 0.99979021,\n",
              "        0.98751133, 0.91433766, 0.99115491, 0.99999223, 0.9999652 ,\n",
              "        0.99065981, 0.99834937, 0.84837289, 0.91712206]))"
            ]
          },
          "metadata": {},
          "execution_count": 38
        }
      ]
    },
    {
      "cell_type": "markdown",
      "source": [
        "Cook’s distance for observation #1: 4.80372735e-02 (p-value: 0.98565839)"
      ],
      "metadata": {
        "id": "TjaHCvdqS37-"
      }
    },
    {
      "cell_type": "code",
      "source": [
        "sm.graphics.influence_plot(results, criterion='cooks');"
      ],
      "metadata": {
        "colab": {
          "base_uri": "https://localhost:8080/",
          "height": 0
        },
        "id": "rj8SXOEeS3OQ",
        "outputId": "889585e0-8c2b-4313-a0dd-bed997b69844"
      },
      "execution_count": 39,
      "outputs": [
        {
          "output_type": "display_data",
          "data": {
            "text/plain": [
              "<Figure size 432x288 with 1 Axes>"
            ],
            "image/png": "[encoded data removed]"
          },
          "metadata": {
            "needs_background": "light"
          }
        }
      ]
    },
    {
      "cell_type": "markdown",
      "source": [
        "<a name='Multicolinearity'></a>\n",
        "\n",
        "### **6.5.2. Multicolinearity:**"
      ],
      "metadata": {
        "id": "HcvvQ8EpGXm4"
      }
    },
    {
      "cell_type": "markdown",
      "source": [
        "This happens when two or more columns of $X$ are close to\n",
        "being linearly dependent.\n",
        "\n",
        "**Signs:**\n",
        "1. Very high standard errors for regression coefficients\n",
        "2. The overall model is significant, but none of the coefficients are\n",
        "3. Large changes in coefficients when adding predictors\n",
        "4. Coefficients on different samples are wildly different\n",
        "5. High Variance Inflation Factor (VIF) and Low Tolerance\n",
        "\n",
        "**How To Solve:**\n",
        "1. Remove highly correlated predictors from the model. \n",
        "2. Use Partial Least Squares Regression (PLS) or Principal Components Analysis, regression methods that cut the number of predictors to a smaller set of uncorrelated components."
      ],
      "metadata": {
        "id": "Pr6reOKtGdjJ"
      }
    },
    {
      "cell_type": "markdown",
      "source": [
        "#### **6.5.2.1. Correlations:**"
      ],
      "metadata": {
        "id": "RJe8AJPOIELx"
      }
    },
    {
      "cell_type": "code",
      "source": [
        "df = sns.load_dataset('iris')\n",
        "\n",
        "corr = df.corr()\n",
        "f, ax = plt.subplots(figsize=(12, 10))\n",
        "mask = np.triu(np.ones_like(corr, dtype=bool))\n",
        "cmap = sns.diverging_palette(230, 20, as_cmap=True)\n",
        "sns.heatmap(corr, annot=True, mask = mask, cmap=cmap);"
      ],
      "metadata": {
        "colab": {
          "base_uri": "https://localhost:8080/",
          "height": 0
        },
        "id": "Cwjc6OGEGbF8",
        "outputId": "f4261b5e-08b9-4ed0-8614-ed83886fd37a"
      },
      "execution_count": 40,
      "outputs": [
        {
          "output_type": "display_data",
          "data": {
            "text/plain": [
              "<Figure size 864x720 with 2 Axes>"
            ],
            "image/png": "[encoded data removed]"
          },
          "metadata": {
            "needs_background": "light"
          }
        }
      ]
    },
    {
      "cell_type": "markdown",
      "source": [
        "As shown above, for example, petal length and petal width have a very high correlation and one of them can be removed."
      ],
      "metadata": {
        "id": "8pCXBnGRKJRV"
      }
    },
    {
      "cell_type": "markdown",
      "source": [
        "#### **6.5.2.2. Variance Inflation Factors (VIF):**\n",
        "\n",
        "A high VIF indicates that the associated independent variable is highly collinear with the other variables in the model. In general, a VIF above 10 indicates high correlation and is cause for concern. "
      ],
      "metadata": {
        "id": "Apq7A5KkKfmO"
      }
    },
    {
      "cell_type": "code",
      "source": [
        "df = sns.load_dataset('iris')\n",
        "\n",
        "variables = df.iloc[:,:-1]\n",
        "vif = pd.DataFrame()\n",
        "vif['VIF'] = [variance_inflation_factor(variables.values, i) for i in range(variables.shape[1])]\n",
        "vif['features'] = variables.columns\n",
        "vif"
      ],
      "metadata": {
        "colab": {
          "base_uri": "https://localhost:8080/",
          "height": 0
        },
        "id": "yoqiW9fALz2B",
        "outputId": "09d3c44d-25de-475f-9f12-c1016b78acc0"
      },
      "execution_count": 41,
      "outputs": [
        {
          "output_type": "execute_result",
          "data": {
            "text/plain": [
              "          VIF      features\n",
              "0  262.969348  sepal_length\n",
              "1   96.353292   sepal_width\n",
              "2  172.960962  petal_length\n",
              "3   55.502060   petal_width"
            ],
            "text/html": [
              "\n",
              "  <div id=\"df-afdcda24-0871-41f2-91c9-7af4f732474a\">\n",
              "    <div class=\"colab-df-container\">\n",
              "      <div>\n",
              "<style scoped>\n",
              "    .dataframe tbody tr th:only-of-type {\n",
              "        vertical-align: middle;\n",
              "    }\n",
              "\n",
              "    .dataframe tbody tr th {\n",
              "        vertical-align: top;\n",
              "    }\n",
              "\n",
              "    .dataframe thead th {\n",
              "        text-align: right;\n",
              "    }\n",
              "</style>\n",
              "<table border=\"1\" class=\"dataframe\">\n",
              "  <thead>\n",
              "    <tr style=\"text-align: right;\">\n",
              "      <th></th>\n",
              "      <th>VIF</th>\n",
              "      <th>features</th>\n",
              "    </tr>\n",
              "  </thead>\n",
              "  <tbody>\n",
              "    <tr>\n",
              "      <th>0</th>\n",
              "      <td>262.969348</td>\n",
              "      <td>sepal_length</td>\n",
              "    </tr>\n",
              "    <tr>\n",
              "      <th>1</th>\n",
              "      <td>96.353292</td>\n",
              "      <td>sepal_width</td>\n",
              "    </tr>\n",
              "    <tr>\n",
              "      <th>2</th>\n",
              "      <td>172.960962</td>\n",
              "      <td>petal_length</td>\n",
              "    </tr>\n",
              "    <tr>\n",
              "      <th>3</th>\n",
              "      <td>55.502060</td>\n",
              "      <td>petal_width</td>\n",
              "    </tr>\n",
              "  </tbody>\n",
              "</table>\n",
              "</div>\n",
              "      <button class=\"colab-df-convert\" onclick=\"convertToInteractive('df-afdcda24-0871-41f2-91c9-7af4f732474a')\"\n",
              "              title=\"Convert this dataframe to an interactive table.\"\n",
              "              style=\"display:none;\">\n",
              "        \n",
              "  <svg xmlns=\"http://www.w3.org/2000/svg\" height=\"24px\"viewBox=\"0 0 24 24\"\n",
              "       width=\"24px\">\n",
              "    <path d=\"M0 0h24v24H0V0z\" fill=\"none\"/>\n",
              "    <path d=\"M18.56 5.44l.94 2.06.94-2.06 2.06-.94-2.06-.94-.94-2.06-.94 2.06-2.06.94zm-11 1L8.5 8.5l.94-2.06 2.06-.94-2.06-.94L8.5 2.5l-.94 2.06-2.06.94zm10 10l.94 2.06.94-2.06 2.06-.94-2.06-.94-.94-2.06-.94 2.06-2.06.94z\"/><path d=\"M17.41 7.96l-1.37-1.37c-.4-.4-.92-.59-1.43-.59-.52 0-1.04.2-1.43.59L10.3 9.45l-7.72 7.72c-.78.78-.78 2.05 0 2.83L4 21.41c.39.39.9.59 1.41.59.51 0 1.02-.2 1.41-.59l7.78-7.78 2.81-2.81c.8-.78.8-2.07 0-2.86zM5.41 20L4 18.59l7.72-7.72 1.47 1.35L5.41 20z\"/>\n",
              "  </svg>\n",
              "      </button>\n",
              "      \n",
              "  <style>\n",
              "    .colab-df-container {\n",
              "      display:flex;\n",
              "      flex-wrap:wrap;\n",
              "      gap: 12px;\n",
              "    }\n",
              "\n",
              "    .colab-df-convert {\n",
              "      background-color: #E8F0FE;\n",
              "      border: none;\n",
              "      border-radius: 50%;\n",
              "      cursor: pointer;\n",
              "      display: none;\n",
              "      fill: #1967D2;\n",
              "      height: 32px;\n",
              "      padding: 0 0 0 0;\n",
              "      width: 32px;\n",
              "    }\n",
              "\n",
              "    .colab-df-convert:hover {\n",
              "      background-color: #E2EBFA;\n",
              "      box-shadow: 0px 1px 2px rgba(60, 64, 67, 0.3), 0px 1px 3px 1px rgba(60, 64, 67, 0.15);\n",
              "      fill: #174EA6;\n",
              "    }\n",
              "\n",
              "    [theme=dark] .colab-df-convert {\n",
              "      background-color: #3B4455;\n",
              "      fill: #D2E3FC;\n",
              "    }\n",
              "\n",
              "    [theme=dark] .colab-df-convert:hover {\n",
              "      background-color: #434B5C;\n",
              "      box-shadow: 0px 1px 3px 1px rgba(0, 0, 0, 0.15);\n",
              "      filter: drop-shadow(0px 1px 2px rgba(0, 0, 0, 0.3));\n",
              "      fill: #FFFFFF;\n",
              "    }\n",
              "  </style>\n",
              "\n",
              "      <script>\n",
              "        const buttonEl =\n",
              "          document.querySelector('#df-afdcda24-0871-41f2-91c9-7af4f732474a button.colab-df-convert');\n",
              "        buttonEl.style.display =\n",
              "          google.colab.kernel.accessAllowed ? 'block' : 'none';\n",
              "\n",
              "        async function convertToInteractive(key) {\n",
              "          const element = document.querySelector('#df-afdcda24-0871-41f2-91c9-7af4f732474a');\n",
              "          const dataTable =\n",
              "            await google.colab.kernel.invokeFunction('convertToInteractive',\n",
              "                                                     [key], {});\n",
              "          if (!dataTable) return;\n",
              "\n",
              "          const docLinkHtml = 'Like what you see? Visit the ' +\n",
              "            '<a target=\"_blank\" href=https://colab.research.google.com/notebooks/data_table.ipynb>data table notebook</a>'\n",
              "            + ' to learn more about interactive tables.';\n",
              "          element.innerHTML = '';\n",
              "          dataTable['output_type'] = 'display_data';\n",
              "          await google.colab.output.renderOutput(dataTable, element);\n",
              "          const docLink = document.createElement('div');\n",
              "          docLink.innerHTML = docLinkHtml;\n",
              "          element.appendChild(docLink);\n",
              "        }\n",
              "      </script>\n",
              "    </div>\n",
              "  </div>\n",
              "  "
            ]
          },
          "metadata": {},
          "execution_count": 41
        }
      ]
    }
  ]
}